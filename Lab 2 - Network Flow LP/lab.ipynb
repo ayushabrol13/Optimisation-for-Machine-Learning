{
 "cells": [
  {
   "cell_type": "markdown",
   "metadata": {},
   "source": [
    "# OML Lab Assiginment 2"
   ]
  },
  {
   "cell_type": "code",
   "execution_count": 7,
   "metadata": {},
   "outputs": [],
   "source": [
    "import imp\n",
    "import pandas as pd\n",
    "import numpy as np\n",
    "import matplotlib.pyplot as plt\n",
    "from pulp import *\n",
    "import cvxopt as cp\n",
    "import cvxpy as cvx"
   ]
  },
  {
   "cell_type": "markdown",
   "metadata": {},
   "source": [
    "### Question 1"
   ]
  },
  {
   "cell_type": "code",
   "execution_count": 8,
   "metadata": {},
   "outputs": [
    {
     "name": "stdout",
     "output_type": "stream",
     "text": [
      "     pcost       dcost       gap    pres   dres   k/t\n",
      " 0:  6.3199e+00  1.0259e+01  2e+01  5e-01  1e+01  1e+00\n",
      " 1:  7.1245e+00  9.5250e+00  7e+00  2e-01  4e+00  1e+00\n",
      " 2:  9.5893e+00  1.0482e+01  3e+00  6e-02  1e+00  6e-01\n",
      " 3:  1.0185e+01  1.0198e+01  7e-02  1e-03  3e-02  6e-03\n",
      " 4:  1.0200e+01  1.0200e+01  7e-04  1e-05  3e-04  6e-05\n",
      " 5:  1.0200e+01  1.0200e+01  7e-06  1e-07  3e-06  6e-07\n",
      " 6:  1.0200e+01  1.0200e+01  7e-08  1e-09  3e-08  6e-09\n",
      "Optimal solution found.\n",
      "[ 6.00e-01]\n",
      "[ 1.20e+00]\n",
      "[ 1.02e+01]\n",
      " 10.19999998544809\n"
     ]
    }
   ],
   "source": [
    "\"\"\" We need to write a python code to solve the following LP\n",
    "\n",
    "min max{5x1 + 2x2 , 3x1 + 7x2}\n",
    "s.t. x1 + 2x2 ≤ 3\n",
    "4x1 + 3x2 ≥ 6\n",
    "3x1 + x2 = 3\n",
    "x1, x2 ≥ 0 \n",
    "\n",
    "\"\"\"\n",
    "\n",
    "c = np.array([[0.0],[0.0],[1.0]])\n",
    "A = np.array([[5,2,-1],[3,7,-1],[1,2,0],[-4,-3,0],[3,1,0],[-3,-1,0],[-1,0,0],[0,-1,0]])\n",
    "b = np.array([[0],[0],[3],[-6],[3],[-3],[0],[0]])\n",
    "sol = cp.solvers.lp(cp.matrix(c,tc='d'), cp.matrix(A,tc='d'),cp.matrix(b,tc='d'))\n",
    "print(sol['x'],sol['primal objective'])"
   ]
  },
  {
   "cell_type": "markdown",
   "metadata": {},
   "source": [
    "### Question 2"
   ]
  },
  {
   "cell_type": "code",
   "execution_count": 9,
   "metadata": {},
   "outputs": [
    {
     "name": "stdout",
     "output_type": "stream",
     "text": [
      "     pcost       dcost       gap    pres   dres   k/t\n",
      " 0:  1.6755e+01  1.6755e+01  1e+02  1e+00  9e-01  1e+00\n",
      " 1:  1.9879e+01  2.0379e+01  1e+01  2e-01  1e-01  7e-01\n",
      " 2:  1.9159e+01  1.9241e+01  2e+00  3e-02  2e-02  1e-01\n",
      " 3:  1.9002e+01  1.9003e+01  2e-02  3e-04  3e-04  1e-03\n",
      " 4:  1.9000e+01  1.9000e+01  2e-04  3e-06  3e-06  1e-05\n",
      " 5:  1.9000e+01  1.9000e+01  2e-06  3e-08  3e-08  1e-07\n",
      "Optimal solution found.\n",
      "[-8.62e-09]\n",
      "[ 1.27e-08]\n",
      "[ 1.00e+00]\n",
      "[ 3.00e+00]\n",
      "[-1.26e-08]\n",
      "[ 2.48e-07]\n",
      "[ 3.00e+00]\n",
      "[ 2.36e-07]\n",
      "[ 4.00e+00]\n",
      " 19.00000016093491\n"
     ]
    }
   ],
   "source": [
    "# Objective Function = 2t12 + 3t13 + 3t15 + 2t23 + 4t24 + 1t34 + 2t35 + 3t46 + 1t56\n",
    "# t12 + t13 + t15 = 1 (node 1) \n",
    "# t12 - t24 - t23 = -3 (node 2)\n",
    "# t13 + t23 - t34 - t35 = 0 (node 3)\n",
    "# t24 + t34 - t46 = 0 (node 4)\n",
    "# t15 + t35 - t56 = 0 (node 5)\n",
    "# t46 + t56 = 4 (node 6)\n",
    "# t12, t13, t15, t23, t24, t34, t35, t46, t56 >= 0\n",
    "\n",
    "c = np.array([[2.0],[3.0],[3.0],[2.0],[4.0],[1.0],[2.0],[3.0],[1.0]], dtype=np.float64)\n",
    "A = np.array([\n",
    "    [1, 1, 1, 0, 0, 0, 0, 0, 0],\n",
    "    [-1, -1, -1, 0, 0, 0, 0, 0, 0],\n",
    "    [1, 0, 0, -1, -1, 0, 0, 0, 0],\n",
    "    [-1, 0, 0, 1, 1, 0, 0, 0, 0],\n",
    "    [0, 1, 0, 1, 0, -1, -1, 0, 0],\n",
    "    [0, -1, 0, -1, 0, 1, 1, 0, 0],\n",
    "    [0, 0, 0, 0, 1, 1, 0, -1, 0],\n",
    "    [0, 0, 0, 0, -1, -1, 0, 1, 0],\n",
    "    [0, 0, 1, 0, 0, 0, 1, 0, -1],\n",
    "    [0, 0, -1, 0, 0, 0, -1, 0, 1],\n",
    "    [0, 0, 0, 0, 0, 0, 0, 1, 1],\n",
    "    [0, 0, 0, 0, 0, 0, 0, -1,-1],\n",
    "    [-1, 0, 0, 0, 0, 0, 0, 0, 0],\n",
    "    [0, -1, 0, 0, 0, 0, 0, 0, 0],\n",
    "    [0, 0, -1, 0, 0, 0, 0, 0, 0],\n",
    "    [0, 0, 0, -1, 0, 0, 0, 0, 0],\n",
    "    [0, 0, 0, 0, -1, 0, 0, 0, 0],\n",
    "    [0, 0, 0, 0, 0, -1, 0, 0, 0],\n",
    "    [0, 0, 0, 0, 0, 0, -1, 0, 0],\n",
    "    [0, 0, 0, 0, 0, 0, 0, -1, 0],\n",
    "    [0, 0, 0, 0, 0, 0, 0, 0, -1]\n",
    "    \n",
    "])\n",
    "\n",
    "b = np.array([[1], [-1], [-3], [3], [0], [0], [0], [0], [0], [0], [4], [-4], [0], [0], [0], [0], [0], [0], [0], [0], [0]], dtype=np.float64)\n",
    "sol = cp.solvers.lp(cp.matrix(c,tc='d'), cp.matrix(A,tc='d'),cp.matrix(b,tc='d'))\n",
    "print(sol['x'],sol['primal objective'])"
   ]
  },
  {
   "cell_type": "markdown",
   "metadata": {},
   "source": [
    "### Question 3"
   ]
  },
  {
   "cell_type": "code",
   "execution_count": 14,
   "metadata": {},
   "outputs": [
    {
     "name": "stdout",
     "output_type": "stream",
     "text": [
      "[ 1.00e+00]\n",
      "[ 1.00e+00]\n",
      "[ 2.00e+00]\n",
      "[ 1.00e+00]\n",
      "[ 1.00e+00]\n",
      " 14.0\n",
      "Minimum value of objective function =  14.0\n"
     ]
    }
   ],
   "source": [
    "c = np.array([[5.0],[1.0],[1.0],[2.0],[4.0]])\n",
    "A = np.array([[-1, 0, 0, 0, 0], \n",
    "           [ 0,-1, 0, 0, 0],\n",
    "            [ 0, 0,-1, 0, 0],\n",
    "            [ 0, 0, 0,-1, 0],\n",
    "            [ 0, 0, 0, 0,-1],\n",
    "            [ 1, 0, 0, 0, 0],\n",
    "            [ 0, 1, 0, 0, 0],\n",
    "            [ 0, 0, 1, 0, 0],\n",
    "            [ 0, 0, 0, 1, 0], \n",
    "            [ 0, 0, 0, 0, 1]])\n",
    "\n",
    "b = np.array([[0],[0],[0],[0],[0],[3],[1],[2],[3],[2]])\n",
    "\n",
    "Aeq = np.array([[ 1 ,  1,  0 ,  0,  0],\n",
    "              [ 0 , -1,  1 ,  0,  1],\n",
    "              [-1 ,  0, -1 ,  1,  0],\n",
    "              [ 0 ,  0,  0 , -1, -1]])\n",
    "\n",
    "beq = np.array([[2],[2],[-2],[-2]])\n",
    "\n",
    "sol = cp.solvers.lp(cp.matrix(c,tc='d'), cp.matrix(A,tc='d'),cp.matrix(b,tc='d'),cp.matrix(Aeq,tc='d'),cp.matrix(beq,tc='d'), solver = 'glpk')\n",
    "\n",
    "print(sol['x'],sol['primal objective'])\n",
    "print(\"Minimum value of objective function = \",sol['primal objective'])"
   ]
  },
  {
   "cell_type": "markdown",
   "metadata": {},
   "source": [
    "### Question 4"
   ]
  },
  {
   "cell_type": "code",
   "execution_count": 18,
   "metadata": {},
   "outputs": [
    {
     "name": "stdout",
     "output_type": "stream",
     "text": [
      "[ 0.00e+00]\n",
      "[ 1.00e+00]\n",
      "[ 0.00e+00]\n",
      "[ 0.00e+00]\n",
      "[ 0.00e+00]\n",
      "[ 0.00e+00]\n",
      "[ 0.00e+00]\n",
      "[ 1.00e+00]\n",
      "[ 0.00e+00]\n",
      "[ 0.00e+00]\n",
      "[ 0.00e+00]\n",
      "[ 0.00e+00]\n",
      "[ 0.00e+00]\n",
      "[ 0.00e+00]\n",
      "[ 1.00e+00]\n",
      "[ 0.00e+00]\n",
      "[ 0.00e+00]\n",
      "[ 0.00e+00]\n",
      "[ 1.00e+00]\n",
      "[ 0.00e+00]\n",
      " 23.0\n",
      "Minimum value of objective function is : 23.0\n"
     ]
    }
   ],
   "source": [
    "c=np.array([[4.0],[6.0],[6.0],[6.0],[8.0],[9.0],[5.0],[4.0],[6.0],[5.0],[5.0],[7.0],[6.0],[8.0],[4.0],[9.0],[3.0],[7.0],[9.0],[6.0]])\n",
    "b=np.zeros((20, 1))\n",
    "A=np.negative(np.identity(20,dtype='int'))\n",
    "Aeq=np.array([[ 1 ,  1,  1 ,  0,  0,  0,  0,  0,  0, 0, 0 ,  0,  0 ,  0,  0,  0,  0,  0,  0, 0],\n",
    "              [-1 ,  0,  0 ,  1,  1,  1,  0,  0,  0, 0, 0 ,  0,  0 ,  0,  0,  0,  0,  0,  0, 0],\n",
    "              [ 0 , -1,  0 ,  0,  0,  0,  1,  1,  1, 0, 0 ,  0,  0 ,  0,  0,  0,  0,  0,  0, 0],\n",
    "              [ 0 ,  0, -1 ,  0,  0,  0,  0,  0,  0, 1, 1 ,  1,  0 ,  0,  0,  0,  0,  0,  0, 0],\n",
    "              [ 0 ,  0,  0 , -1,  0,  0, -1,  0,  0,-1, 0 ,  0,  1 ,  1,  0,  0,  0,  0,  0, 0],\n",
    "              [ 0 ,  0,  0 ,  0, -1,  0,  0, -1,  0, 0,-1 ,  0,  0 ,  0,  1,  1,  0,  0,  0, 0],\n",
    "              [ 0 ,  0,  0 ,  0,  0, -1,  0,  0, -1, 0, 0 , -1,  0 ,  0,  0,  0,  1,  1,  0, 0],\n",
    "              [ 0 ,  0,  0 ,  0,  0,  0,  0,  0,  0, 0, 0 ,  0, -1 ,  0, -1,  0, -1,  0,  1, 0],\n",
    "              [ 0 ,  0,  0 ,  0,  0,  0,  0,  0,  0, 0, 0 ,  0,  0 , -1,  0, -1,  0, -1,  0, 1],\n",
    "              [ 0 ,  0,  0 ,  0,  0,  0,  0,  0,  0, 0, 0 ,  0,  0 ,  0,  0,  0,  0,  0, -1,-1],\n",
    "              ])\n",
    "beq=np.array([[1],\n",
    "              [0],\n",
    "              [0],\n",
    "              [0],\n",
    "              [0],\n",
    "              [0],\n",
    "              [0],\n",
    "              [0],\n",
    "              [0],\n",
    "              [-1]\n",
    "              ])\n",
    "sol =cp.solvers.lp(cp.matrix(c,tc='d'),cp.matrix(A,tc='d'),cp.matrix(b,tc='d'), cp.matrix(Aeq,tc='d'),cp.matrix(beq,tc='d'),solver='glpk')\n",
    "\n",
    "print(sol['x'],sol['primal objective'])\n",
    "print(\"Minimum value of objective function is :\",sol['primal objective'])"
   ]
  },
  {
   "cell_type": "markdown",
   "metadata": {},
   "source": [
    "### Question 5"
   ]
  },
  {
   "cell_type": "code",
   "execution_count": 17,
   "metadata": {},
   "outputs": [
    {
     "name": "stdout",
     "output_type": "stream",
     "text": [
      "[ 0.00e+00]\n",
      "[ 0.00e+00]\n",
      "[ 1.00e+00]\n",
      "[ 0.00e+00]\n",
      "[ 1.00e+00]\n",
      "[ 0.00e+00]\n",
      "[ 0.00e+00]\n",
      "[ 0.00e+00]\n",
      "[ 0.00e+00]\n",
      "[ 1.00e+00]\n",
      "[ 0.00e+00]\n",
      "[ 0.00e+00]\n",
      "[ 0.00e+00]\n",
      "[ 0.00e+00]\n",
      "[ 0.00e+00]\n",
      "[ 1.00e+00]\n",
      " 67.0\n",
      "Minimum value of objective function =  67.0\n"
     ]
    }
   ],
   "source": [
    "c=np.array([20,28,19,13,15,30,31,28,40,21,20,17,21,28,26,12])\n",
    "b=np.zeros((16, 1))\n",
    "A=np.negative(np.identity(16,dtype='int'))\n",
    "beq=np.array([[1],[1],[1],[1],[-1],[-1],[-1],[-1]])\n",
    "Aeq=np.array([[1,0,0,0,1,0,0,0,1,0,0,0,1,0,0,0],\n",
    "            [0,1,0,0,0,1,0,0,0,1,0,0,0,1,0,0],\n",
    "            [0,0,1,0,0,0,1,0,0,0,1,0,0,0,1,0],\n",
    "            [0,0,0,1,0,0,0,1,0,0,0,1,0,0,0,1],            \n",
    "            [-1,-1,-1,-1,0,0,0,0,0,0,0,0,0,0,0,0],            \n",
    "            [0,0,0,0,-1,-1,-1,-1,0,0,0,0,0,0,0,0],            \n",
    "            [0,0,0,0,0,0,0,0,-1,-1,-1,-1,0,0,0,0],            \n",
    "            [0,0,0,0,0,0,0,0,0,0,0,0,-1,-1,-1,-1]])\n",
    "\n",
    "sol = cp.solvers.lp(cp.matrix(c, tc = 'd'), cp.matrix(A, tc = 'd'), cp.matrix(b, tc = 'd'), cp.matrix(Aeq, tc = 'd'), cp.matrix(beq, tc = 'd'), solver = 'glpk')\n",
    "print(sol['x'],sol['primal objective'])\n",
    "print(\"Minimum value of objective function = \",sol['primal objective'])"
   ]
  },
  {
   "cell_type": "markdown",
   "metadata": {},
   "source": [
    "### Question 6"
   ]
  },
  {
   "cell_type": "code",
   "execution_count": 21,
   "metadata": {},
   "outputs": [
    {
     "name": "stdout",
     "output_type": "stream",
     "text": [
      "[ 0.00e+00]\n",
      "[ 0.00e+00]\n",
      "[ 1.00e+00]\n",
      "[ 0.00e+00]\n",
      "[ 0.00e+00]\n",
      "[ 0.00e+00]\n",
      "[ 0.00e+00]\n",
      "[ 0.00e+00]\n",
      "[ 1.00e+00]\n",
      "[ 0.00e+00]\n",
      "[ 0.00e+00]\n",
      "[ 1.00e+00]\n",
      "[ 0.00e+00]\n",
      "[ 0.00e+00]\n",
      "[ 0.00e+00]\n",
      "[ 1.00e+00]\n",
      "[ 0.00e+00]\n",
      "[ 0.00e+00]\n",
      "[ 0.00e+00]\n",
      "[ 0.00e+00]\n",
      "[ 0.00e+00]\n",
      "[ 0.00e+00]\n",
      "[ 0.00e+00]\n",
      "[ 0.00e+00]\n",
      "[ 1.00e+00]\n",
      " 126.2\n",
      "Minimum value of objective function is : 126.2\n"
     ]
    }
   ],
   "source": [
    "c=np.array([37.7,32.9,33.8,37.0,35.4,43.4,33.1,42.2,34.7,41.8,33.3,28.5,38.9,30.4,33.6,29.2,26.4,29.6,28.5,31.1,0,0,0,0,0])\n",
    "b=np.zeros((25, 1))\n",
    "A=np.negative(np.identity(25,dtype='int'))\n",
    "beq=np.array([[1],[1],[1],[1],[1],[-1],[-1],[-1],[-1],[-1]])\n",
    "\n",
    "Aeq=np.array([\n",
    "              [1,0,0,0,0,1,0,0,0,0,1,0,0,0,0,1,0,0,0,0,1,0,0,0,0],\n",
    "              [0,1,0,0,0,0,1,0,0,0,0,1,0,0,0,0,1,0,0,0,0,1,0,0,0],\n",
    "              [0,0,1,0,0,0,0,1,0,0,0,0,1,0,0,0,0,1,0,0,0,0,1,0,0],\n",
    "              [0,0,0,1,0,0,0,0,1,0,0,0,0,1,0,0,0,0,1,0,0,0,0,1,0],\n",
    "              [0,0,0,0,1,0,0,0,0,1,0,0,0,0,1,0,0,0,0,1,0,0,0,0,1],\n",
    "              [-1,-1,-1,-1,-1,0,0,0,0,0,0,0,0,0,0,0,0,0,0,0,0,0,0,0,0],\n",
    "              [0,0,0,0,0,-1,-1,-1,-1,-1,0,0,0,0,0,0,0,0,0,0,0,0,0,0,0],\n",
    "              [0,0,0,0,0,0,0,0,0,0,-1,-1,-1,-1,-1,0,0,0,0,0,0,0,0,0,0],\n",
    "              [0,0,0,0,0,0,0,0,0,0,0,0,0,0,0,-1,-1,-1,-1,-1,0,0,0,0,0],\n",
    "              [0,0,0,0,0,0,0,0,0,0,0,0,0,0,0,0,0,0,0,0,-1,-1,-1,-1,-1]\n",
    "])\n",
    "\n",
    "\n",
    "sol =cp.solvers.lp(cp.matrix(c,tc='d'),cp.matrix(A,tc='d'),cp.matrix(b,tc='d'), cp.matrix(Aeq,tc='d'),cp.matrix(beq,tc='d'),solver='glpk')\n",
    "\n",
    "print(sol['x'],sol['primal objective'])\n",
    "\n",
    "print(\"Minimum value of objective function is :\",sol['primal objective'])"
   ]
  }
 ],
 "metadata": {
  "kernelspec": {
   "display_name": "Python 3.7.8 64-bit",
   "language": "python",
   "name": "python3"
  },
  "language_info": {
   "codemirror_mode": {
    "name": "ipython",
    "version": 3
   },
   "file_extension": ".py",
   "mimetype": "text/x-python",
   "name": "python",
   "nbconvert_exporter": "python",
   "pygments_lexer": "ipython3",
   "version": "3.7.8"
  },
  "orig_nbformat": 4,
  "vscode": {
   "interpreter": {
    "hash": "944b8a8c947819cdcd92dbaefd7d7c651f3b60be70c70fd1986d9bc9e4beb4c9"
   }
  }
 },
 "nbformat": 4,
 "nbformat_minor": 2
}
