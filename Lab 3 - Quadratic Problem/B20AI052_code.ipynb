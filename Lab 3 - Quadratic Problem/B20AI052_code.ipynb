{
 "cells": [
  {
   "cell_type": "markdown",
   "metadata": {},
   "source": [
    "# Optimisation in Machine Learning\n"
   ]
  },
  {
   "cell_type": "markdown",
   "metadata": {},
   "source": [
    "## Lab Assignment - 3\n",
    "\n",
    "    Ayush Abrol B20AI052\n",
    "\n",
    "---"
   ]
  },
  {
   "cell_type": "code",
   "execution_count": 2,
   "metadata": {},
   "outputs": [],
   "source": [
    "import pandas as pd\n",
    "import numpy as np\n",
    "import cvxopt as cp\n",
    "import cvxpy as cvx\n",
    "import matplotlib.pyplot as plt\n",
    "import yfinance as yf"
   ]
  },
  {
   "cell_type": "markdown",
   "metadata": {},
   "source": [
    "### Looking Daily Close Price Historical Data from 30 August, 2021 to 30 August, 2022 for any 10 stocks.\n"
   ]
  },
  {
   "cell_type": "markdown",
   "metadata": {},
   "source": [
    "Stocks selected: GOOG, AAPL, MS, AMZN, UBER, TSLA, NVDA, INTC, AMD, BABA"
   ]
  },
  {
   "cell_type": "code",
   "execution_count": 3,
   "metadata": {},
   "outputs": [
    {
     "name": "stdout",
     "output_type": "stream",
     "text": [
      "[*********************100%***********************]  10 of 10 completed\n"
     ]
    }
   ],
   "source": [
    "data = yf.download(\"GOOG AAPL MS AMZN UBER TSLA NVDA INTC AMD BABA\", start=\"2021-08-30\", end=\"2022-08-30\")"
   ]
  },
  {
   "cell_type": "code",
   "execution_count": 4,
   "metadata": {},
   "outputs": [
    {
     "data": {
      "text/html": [
       "<div>\n",
       "<style scoped>\n",
       "    .dataframe tbody tr th:only-of-type {\n",
       "        vertical-align: middle;\n",
       "    }\n",
       "\n",
       "    .dataframe tbody tr th {\n",
       "        vertical-align: top;\n",
       "    }\n",
       "\n",
       "    .dataframe thead tr th {\n",
       "        text-align: left;\n",
       "    }\n",
       "\n",
       "    .dataframe thead tr:last-of-type th {\n",
       "        text-align: right;\n",
       "    }\n",
       "</style>\n",
       "<table border=\"1\" class=\"dataframe\">\n",
       "  <thead>\n",
       "    <tr>\n",
       "      <th></th>\n",
       "      <th colspan=\"10\" halign=\"left\">Adj Close</th>\n",
       "      <th>...</th>\n",
       "      <th colspan=\"10\" halign=\"left\">Volume</th>\n",
       "    </tr>\n",
       "    <tr>\n",
       "      <th></th>\n",
       "      <th>AAPL</th>\n",
       "      <th>AMD</th>\n",
       "      <th>AMZN</th>\n",
       "      <th>BABA</th>\n",
       "      <th>GOOG</th>\n",
       "      <th>INTC</th>\n",
       "      <th>MS</th>\n",
       "      <th>NVDA</th>\n",
       "      <th>TSLA</th>\n",
       "      <th>UBER</th>\n",
       "      <th>...</th>\n",
       "      <th>AAPL</th>\n",
       "      <th>AMD</th>\n",
       "      <th>AMZN</th>\n",
       "      <th>BABA</th>\n",
       "      <th>GOOG</th>\n",
       "      <th>INTC</th>\n",
       "      <th>MS</th>\n",
       "      <th>NVDA</th>\n",
       "      <th>TSLA</th>\n",
       "      <th>UBER</th>\n",
       "    </tr>\n",
       "    <tr>\n",
       "      <th>Date</th>\n",
       "      <th></th>\n",
       "      <th></th>\n",
       "      <th></th>\n",
       "      <th></th>\n",
       "      <th></th>\n",
       "      <th></th>\n",
       "      <th></th>\n",
       "      <th></th>\n",
       "      <th></th>\n",
       "      <th></th>\n",
       "      <th></th>\n",
       "      <th></th>\n",
       "      <th></th>\n",
       "      <th></th>\n",
       "      <th></th>\n",
       "      <th></th>\n",
       "      <th></th>\n",
       "      <th></th>\n",
       "      <th></th>\n",
       "      <th></th>\n",
       "      <th></th>\n",
       "    </tr>\n",
       "  </thead>\n",
       "  <tbody>\n",
       "    <tr>\n",
       "      <th>2021-08-30</th>\n",
       "      <td>152.266769</td>\n",
       "      <td>111.320000</td>\n",
       "      <td>171.078506</td>\n",
       "      <td>162.289993</td>\n",
       "      <td>145.469498</td>\n",
       "      <td>52.218407</td>\n",
       "      <td>100.829178</td>\n",
       "      <td>226.725662</td>\n",
       "      <td>243.636673</td>\n",
       "      <td>39.590000</td>\n",
       "      <td>...</td>\n",
       "      <td>90956700</td>\n",
       "      <td>56130500</td>\n",
       "      <td>63844000</td>\n",
       "      <td>23769400</td>\n",
       "      <td>16916000</td>\n",
       "      <td>14581300</td>\n",
       "      <td>6459700</td>\n",
       "      <td>26258000</td>\n",
       "      <td>55812600</td>\n",
       "      <td>29516300</td>\n",
       "    </tr>\n",
       "    <tr>\n",
       "      <th>2021-08-31</th>\n",
       "      <td>150.983963</td>\n",
       "      <td>110.720001</td>\n",
       "      <td>173.539505</td>\n",
       "      <td>166.990005</td>\n",
       "      <td>145.462006</td>\n",
       "      <td>52.334576</td>\n",
       "      <td>101.158539</td>\n",
       "      <td>223.737183</td>\n",
       "      <td>245.240005</td>\n",
       "      <td>39.139999</td>\n",
       "      <td>...</td>\n",
       "      <td>86453100</td>\n",
       "      <td>49339000</td>\n",
       "      <td>87128000</td>\n",
       "      <td>24629100</td>\n",
       "      <td>26756000</td>\n",
       "      <td>22350100</td>\n",
       "      <td>7215100</td>\n",
       "      <td>25985000</td>\n",
       "      <td>62566200</td>\n",
       "      <td>26396000</td>\n",
       "    </tr>\n",
       "    <tr>\n",
       "      <th>2021-09-01</th>\n",
       "      <td>151.660141</td>\n",
       "      <td>109.989998</td>\n",
       "      <td>173.949997</td>\n",
       "      <td>173.279999</td>\n",
       "      <td>145.841995</td>\n",
       "      <td>51.957020</td>\n",
       "      <td>101.042290</td>\n",
       "      <td>224.296890</td>\n",
       "      <td>244.696671</td>\n",
       "      <td>40.619999</td>\n",
       "      <td>...</td>\n",
       "      <td>80313700</td>\n",
       "      <td>38579600</td>\n",
       "      <td>72598000</td>\n",
       "      <td>29550200</td>\n",
       "      <td>15824000</td>\n",
       "      <td>18615000</td>\n",
       "      <td>5762400</td>\n",
       "      <td>20176700</td>\n",
       "      <td>39612900</td>\n",
       "      <td>27788600</td>\n",
       "    </tr>\n",
       "    <tr>\n",
       "      <th>2021-09-02</th>\n",
       "      <td>152.793808</td>\n",
       "      <td>109.199997</td>\n",
       "      <td>173.156006</td>\n",
       "      <td>172.000000</td>\n",
       "      <td>144.218994</td>\n",
       "      <td>52.015106</td>\n",
       "      <td>101.545998</td>\n",
       "      <td>223.847122</td>\n",
       "      <td>244.130005</td>\n",
       "      <td>41.400002</td>\n",
       "      <td>...</td>\n",
       "      <td>71115500</td>\n",
       "      <td>40090500</td>\n",
       "      <td>58474000</td>\n",
       "      <td>29302400</td>\n",
       "      <td>21844000</td>\n",
       "      <td>15869500</td>\n",
       "      <td>5708400</td>\n",
       "      <td>18783400</td>\n",
       "      <td>38331900</td>\n",
       "      <td>20645400</td>\n",
       "    </tr>\n",
       "    <tr>\n",
       "      <th>2021-09-03</th>\n",
       "      <td>153.440186</td>\n",
       "      <td>109.919998</td>\n",
       "      <td>173.902496</td>\n",
       "      <td>170.300003</td>\n",
       "      <td>144.774994</td>\n",
       "      <td>51.802128</td>\n",
       "      <td>100.984169</td>\n",
       "      <td>228.314850</td>\n",
       "      <td>244.523331</td>\n",
       "      <td>40.320000</td>\n",
       "      <td>...</td>\n",
       "      <td>57808700</td>\n",
       "      <td>42605800</td>\n",
       "      <td>51514000</td>\n",
       "      <td>16423500</td>\n",
       "      <td>19104000</td>\n",
       "      <td>13456200</td>\n",
       "      <td>7195400</td>\n",
       "      <td>28053200</td>\n",
       "      <td>45738300</td>\n",
       "      <td>15444900</td>\n",
       "    </tr>\n",
       "  </tbody>\n",
       "</table>\n",
       "<p>5 rows × 60 columns</p>\n",
       "</div>"
      ],
      "text/plain": [
       "             Adj Close                                                  \\\n",
       "                  AAPL         AMD        AMZN        BABA        GOOG   \n",
       "Date                                                                     \n",
       "2021-08-30  152.266769  111.320000  171.078506  162.289993  145.469498   \n",
       "2021-08-31  150.983963  110.720001  173.539505  166.990005  145.462006   \n",
       "2021-09-01  151.660141  109.989998  173.949997  173.279999  145.841995   \n",
       "2021-09-02  152.793808  109.199997  173.156006  172.000000  144.218994   \n",
       "2021-09-03  153.440186  109.919998  173.902496  170.300003  144.774994   \n",
       "\n",
       "                                                                      ...  \\\n",
       "                 INTC          MS        NVDA        TSLA       UBER  ...   \n",
       "Date                                                                  ...   \n",
       "2021-08-30  52.218407  100.829178  226.725662  243.636673  39.590000  ...   \n",
       "2021-08-31  52.334576  101.158539  223.737183  245.240005  39.139999  ...   \n",
       "2021-09-01  51.957020  101.042290  224.296890  244.696671  40.619999  ...   \n",
       "2021-09-02  52.015106  101.545998  223.847122  244.130005  41.400002  ...   \n",
       "2021-09-03  51.802128  100.984169  228.314850  244.523331  40.320000  ...   \n",
       "\n",
       "              Volume                                                    \\\n",
       "                AAPL       AMD      AMZN      BABA      GOOG      INTC   \n",
       "Date                                                                     \n",
       "2021-08-30  90956700  56130500  63844000  23769400  16916000  14581300   \n",
       "2021-08-31  86453100  49339000  87128000  24629100  26756000  22350100   \n",
       "2021-09-01  80313700  38579600  72598000  29550200  15824000  18615000   \n",
       "2021-09-02  71115500  40090500  58474000  29302400  21844000  15869500   \n",
       "2021-09-03  57808700  42605800  51514000  16423500  19104000  13456200   \n",
       "\n",
       "                                                   \n",
       "                 MS      NVDA      TSLA      UBER  \n",
       "Date                                               \n",
       "2021-08-30  6459700  26258000  55812600  29516300  \n",
       "2021-08-31  7215100  25985000  62566200  26396000  \n",
       "2021-09-01  5762400  20176700  39612900  27788600  \n",
       "2021-09-02  5708400  18783400  38331900  20645400  \n",
       "2021-09-03  7195400  28053200  45738300  15444900  \n",
       "\n",
       "[5 rows x 60 columns]"
      ]
     },
     "execution_count": 4,
     "metadata": {},
     "output_type": "execute_result"
    }
   ],
   "source": [
    "data.head()"
   ]
  },
  {
   "cell_type": "code",
   "execution_count": 5,
   "metadata": {},
   "outputs": [],
   "source": [
    "df = data['Adj Close']"
   ]
  },
  {
   "cell_type": "code",
   "execution_count": 6,
   "metadata": {},
   "outputs": [
    {
     "data": {
      "text/html": [
       "<div>\n",
       "<style scoped>\n",
       "    .dataframe tbody tr th:only-of-type {\n",
       "        vertical-align: middle;\n",
       "    }\n",
       "\n",
       "    .dataframe tbody tr th {\n",
       "        vertical-align: top;\n",
       "    }\n",
       "\n",
       "    .dataframe thead th {\n",
       "        text-align: right;\n",
       "    }\n",
       "</style>\n",
       "<table border=\"1\" class=\"dataframe\">\n",
       "  <thead>\n",
       "    <tr style=\"text-align: right;\">\n",
       "      <th></th>\n",
       "      <th>AAPL</th>\n",
       "      <th>AMD</th>\n",
       "      <th>AMZN</th>\n",
       "      <th>BABA</th>\n",
       "      <th>GOOG</th>\n",
       "      <th>INTC</th>\n",
       "      <th>MS</th>\n",
       "      <th>NVDA</th>\n",
       "      <th>TSLA</th>\n",
       "      <th>UBER</th>\n",
       "    </tr>\n",
       "    <tr>\n",
       "      <th>Date</th>\n",
       "      <th></th>\n",
       "      <th></th>\n",
       "      <th></th>\n",
       "      <th></th>\n",
       "      <th></th>\n",
       "      <th></th>\n",
       "      <th></th>\n",
       "      <th></th>\n",
       "      <th></th>\n",
       "      <th></th>\n",
       "    </tr>\n",
       "  </thead>\n",
       "  <tbody>\n",
       "    <tr>\n",
       "      <th>2021-08-30</th>\n",
       "      <td>152.266769</td>\n",
       "      <td>111.320000</td>\n",
       "      <td>171.078506</td>\n",
       "      <td>162.289993</td>\n",
       "      <td>145.469498</td>\n",
       "      <td>52.218407</td>\n",
       "      <td>100.829178</td>\n",
       "      <td>226.725662</td>\n",
       "      <td>243.636673</td>\n",
       "      <td>39.590000</td>\n",
       "    </tr>\n",
       "    <tr>\n",
       "      <th>2021-08-31</th>\n",
       "      <td>150.983963</td>\n",
       "      <td>110.720001</td>\n",
       "      <td>173.539505</td>\n",
       "      <td>166.990005</td>\n",
       "      <td>145.462006</td>\n",
       "      <td>52.334576</td>\n",
       "      <td>101.158539</td>\n",
       "      <td>223.737183</td>\n",
       "      <td>245.240005</td>\n",
       "      <td>39.139999</td>\n",
       "    </tr>\n",
       "    <tr>\n",
       "      <th>2021-09-01</th>\n",
       "      <td>151.660141</td>\n",
       "      <td>109.989998</td>\n",
       "      <td>173.949997</td>\n",
       "      <td>173.279999</td>\n",
       "      <td>145.841995</td>\n",
       "      <td>51.957020</td>\n",
       "      <td>101.042290</td>\n",
       "      <td>224.296890</td>\n",
       "      <td>244.696671</td>\n",
       "      <td>40.619999</td>\n",
       "    </tr>\n",
       "    <tr>\n",
       "      <th>2021-09-02</th>\n",
       "      <td>152.793808</td>\n",
       "      <td>109.199997</td>\n",
       "      <td>173.156006</td>\n",
       "      <td>172.000000</td>\n",
       "      <td>144.218994</td>\n",
       "      <td>52.015106</td>\n",
       "      <td>101.545998</td>\n",
       "      <td>223.847122</td>\n",
       "      <td>244.130005</td>\n",
       "      <td>41.400002</td>\n",
       "    </tr>\n",
       "    <tr>\n",
       "      <th>2021-09-03</th>\n",
       "      <td>153.440186</td>\n",
       "      <td>109.919998</td>\n",
       "      <td>173.902496</td>\n",
       "      <td>170.300003</td>\n",
       "      <td>144.774994</td>\n",
       "      <td>51.802128</td>\n",
       "      <td>100.984169</td>\n",
       "      <td>228.314850</td>\n",
       "      <td>244.523331</td>\n",
       "      <td>40.320000</td>\n",
       "    </tr>\n",
       "  </tbody>\n",
       "</table>\n",
       "</div>"
      ],
      "text/plain": [
       "                  AAPL         AMD        AMZN        BABA        GOOG  \\\n",
       "Date                                                                     \n",
       "2021-08-30  152.266769  111.320000  171.078506  162.289993  145.469498   \n",
       "2021-08-31  150.983963  110.720001  173.539505  166.990005  145.462006   \n",
       "2021-09-01  151.660141  109.989998  173.949997  173.279999  145.841995   \n",
       "2021-09-02  152.793808  109.199997  173.156006  172.000000  144.218994   \n",
       "2021-09-03  153.440186  109.919998  173.902496  170.300003  144.774994   \n",
       "\n",
       "                 INTC          MS        NVDA        TSLA       UBER  \n",
       "Date                                                                  \n",
       "2021-08-30  52.218407  100.829178  226.725662  243.636673  39.590000  \n",
       "2021-08-31  52.334576  101.158539  223.737183  245.240005  39.139999  \n",
       "2021-09-01  51.957020  101.042290  224.296890  244.696671  40.619999  \n",
       "2021-09-02  52.015106  101.545998  223.847122  244.130005  41.400002  \n",
       "2021-09-03  51.802128  100.984169  228.314850  244.523331  40.320000  "
      ]
     },
     "execution_count": 6,
     "metadata": {},
     "output_type": "execute_result"
    }
   ],
   "source": [
    "df.head()"
   ]
  },
  {
   "cell_type": "code",
   "execution_count": 7,
   "metadata": {},
   "outputs": [
    {
     "data": {
      "text/plain": [
       "(252, 10)"
      ]
     },
     "execution_count": 7,
     "metadata": {},
     "output_type": "execute_result"
    }
   ],
   "source": [
    "B = df.values\n",
    "B.shape"
   ]
  },
  {
   "cell_type": "code",
   "execution_count": 8,
   "metadata": {},
   "outputs": [
    {
     "data": {
      "text/plain": [
       "AAPL    0\n",
       "AMD     0\n",
       "AMZN    0\n",
       "BABA    0\n",
       "GOOG    0\n",
       "INTC    0\n",
       "MS      0\n",
       "NVDA    0\n",
       "TSLA    0\n",
       "UBER    0\n",
       "dtype: int64"
      ]
     },
     "execution_count": 8,
     "metadata": {},
     "output_type": "execute_result"
    }
   ],
   "source": [
    "df.isnull().sum()"
   ]
  },
  {
   "cell_type": "code",
   "execution_count": 9,
   "metadata": {},
   "outputs": [],
   "source": [
    "Q = np.cov(B.T)      # Creating a covariance matrix"
   ]
  },
  {
   "cell_type": "code",
   "execution_count": 10,
   "metadata": {},
   "outputs": [
    {
     "data": {
      "text/plain": [
       "array([[ 157.74375299,  125.09337764,  121.01897773,  -74.42080181,\n",
       "          64.39093768,   13.44376116,   40.54330767,  335.77142599,\n",
       "         391.54863568,   23.52915452],\n",
       "       [ 125.09337764,  439.04994113,  377.71547605,  250.72765389,\n",
       "         229.59182499,   75.662261  ,  130.22328823,  969.71227629,\n",
       "         742.57837965,  121.74834565],\n",
       "       [ 121.01897773,  377.71547605,  540.13457818,  420.63647601,\n",
       "         296.01481426,  103.04531458,  168.8456825 ,  943.04805884,\n",
       "         722.52832314,  173.67593213],\n",
       "       [ -74.42080181,  250.72765389,  420.63647601,  711.69523388,\n",
       "         253.5054141 ,   98.30137056,  156.78364586,  557.42907145,\n",
       "         267.38458803,  169.15405922],\n",
       "       [  64.39093768,  229.59182499,  296.01481426,  253.5054141 ,\n",
       "         178.65881525,   63.05593942,   96.33548701,  570.16909761,\n",
       "         406.11457314,   97.11347355],\n",
       "       [  13.44376116,   75.662261  ,  103.04531458,   98.30137056,\n",
       "          63.05593942,   32.01402607,   36.17833611,  191.52449237,\n",
       "         110.80220246,   37.48980919],\n",
       "       [  40.54330767,  130.22328823,  168.8456825 ,  156.78364586,\n",
       "          96.33548701,   36.17833611,   74.20825088,  291.59415283,\n",
       "         200.25522674,   61.13232972],\n",
       "       [ 335.77142599,  969.71227629,  943.04805884,  557.42907145,\n",
       "         570.16909761,  191.52449237,  291.59415283, 2366.66874169,\n",
       "        1870.79554104,  282.71169431],\n",
       "       [ 391.54863568,  742.57837965,  722.52832314,  267.38458803,\n",
       "         406.11457314,  110.80220246,  200.25522674, 1870.79554104,\n",
       "        2279.17983157,  218.12060348],\n",
       "       [  23.52915452,  121.74834565,  173.67593213,  169.15405922,\n",
       "          97.11347355,   37.48980919,   61.13232972,  282.71169431,\n",
       "         218.12060348,   66.56793673]])"
      ]
     },
     "execution_count": 10,
     "metadata": {},
     "output_type": "execute_result"
    }
   ],
   "source": [
    "Q"
   ]
  },
  {
   "cell_type": "code",
   "execution_count": 11,
   "metadata": {},
   "outputs": [
    {
     "data": {
      "text/plain": [
       "array([-0.05812782,  0.22951941,  0.27620485,  0.51880609,  0.27639995,\n",
       "        0.46074737,  0.16666735,  0.36108246, -0.15617936,  0.32028669])"
      ]
     },
     "execution_count": 11,
     "metadata": {},
     "output_type": "execute_result"
    }
   ],
   "source": [
    "c = np.array([[0] for i in range (10)])\n",
    "m = -np.log(np.array([B[-1][i]/B[0][i] for i in range (10)]))\n",
    "m"
   ]
  },
  {
   "cell_type": "code",
   "execution_count": 12,
   "metadata": {},
   "outputs": [],
   "source": [
    "R = 52 #B20AI052\n",
    "val = R/1000"
   ]
  },
  {
   "cell_type": "code",
   "execution_count": 13,
   "metadata": {},
   "outputs": [
    {
     "data": {
      "text/plain": [
       "(10, 11)"
      ]
     },
     "execution_count": 13,
     "metadata": {},
     "output_type": "execute_result"
    }
   ],
   "source": [
    "A = np.column_stack((m, np.negative(np.identity(10, dtype = 'int'))))\n",
    "b = np.array([-val]+[0]*10)\n",
    "Aeq = np.array([[1]*10])\n",
    "beq = np.array([[1]])\n",
    "A.shape"
   ]
  },
  {
   "cell_type": "code",
   "execution_count": 14,
   "metadata": {},
   "outputs": [
    {
     "data": {
      "text/plain": [
       "(11, 10)"
      ]
     },
     "execution_count": 14,
     "metadata": {},
     "output_type": "execute_result"
    }
   ],
   "source": [
    "A = A.T\n",
    "A.shape"
   ]
  },
  {
   "cell_type": "code",
   "execution_count": 15,
   "metadata": {},
   "outputs": [
    {
     "name": "stdout",
     "output_type": "stream",
     "text": [
      "     pcost       dcost       gap    pres   dres\n",
      " 0:  3.7802e+00  3.5056e+00  2e+01  5e+00  4e+00\n",
      " 1:  3.8295e+00  4.4471e+00  6e+00  1e+00  1e+00\n",
      " 2:  1.1823e+01  1.9949e+01  2e+01  1e+00  9e-01\n",
      " 3:  1.7238e+01  3.3746e+01  2e+01  6e-01  5e-01\n",
      " 4:  2.1496e+01  3.8895e+01  2e+01  4e-01  3e-01\n",
      " 5:  2.9321e+01  5.0953e+01  1e+01  2e-01  2e-01\n",
      " 6:  4.0262e+01  6.3981e+01  1e+01  1e-01  1e-01\n",
      " 7:  7.5309e+01  7.5476e+01  7e+00  2e-02  1e-02\n",
      " 8:  7.4515e+01  7.4930e+01  5e+00  9e-03  8e-03\n",
      " 9:  7.5854e+01  7.5598e+01  4e-01  2e-04  2e-04\n",
      "10:  7.5735e+01  7.5732e+01  5e-03  3e-06  2e-06\n",
      "11:  7.5733e+01  7.5733e+01  5e-05  3e-08  2e-08\n",
      "Optimal solution found.\n",
      "[ 9.73e-01]\n",
      "[ 6.64e-08]\n",
      "[ 2.17e-08]\n",
      "[ 3.31e-09]\n",
      "[ 4.97e-08]\n",
      "[ 2.55e-08]\n",
      "[ 2.73e-02]\n",
      "[ 3.32e-09]\n",
      "[-2.36e-09]\n",
      "[ 7.52e-08]\n",
      "\n"
     ]
    }
   ],
   "source": [
    "sol = cp.solvers.qp(cp.matrix(Q, tc='d'), cp.matrix(c, tc='d'), cp.matrix(A, tc='d'), cp.matrix(b, tc='d'), cp.matrix(Aeq, tc='d'), cp.matrix(beq, tc='d'))\n",
    "print(sol['x'])"
   ]
  },
  {
   "cell_type": "code",
   "execution_count": 16,
   "metadata": {},
   "outputs": [
    {
     "name": "stdout",
     "output_type": "stream",
     "text": [
      "After rounding upto 5 decimal places: \n",
      "0.97274\n",
      "0.0\n",
      "0.0\n",
      "0.0\n",
      "0.0\n",
      "0.0\n",
      "0.02726\n",
      "0.0\n",
      "-0.0\n",
      "0.0\n",
      "The minimum variance portfolio is:  75.73311853662078\n"
     ]
    }
   ],
   "source": [
    "print(\"After rounding upto 5 decimal places: \")\n",
    "for i in range(10):\n",
    "    print(round(sol['x'][i], 5))\n",
    "\n",
    "print(\"The minimum variance portfolio is: \", sol['primal objective'])"
   ]
  },
  {
   "cell_type": "markdown",
   "metadata": {},
   "source": [
    "---"
   ]
  }
 ],
 "metadata": {
  "kernelspec": {
   "display_name": "Python 3.7.8 64-bit",
   "language": "python",
   "name": "python3"
  },
  "language_info": {
   "codemirror_mode": {
    "name": "ipython",
    "version": 3
   },
   "file_extension": ".py",
   "mimetype": "text/x-python",
   "name": "python",
   "nbconvert_exporter": "python",
   "pygments_lexer": "ipython3",
   "version": "3.7.8"
  },
  "orig_nbformat": 4,
  "vscode": {
   "interpreter": {
    "hash": "944b8a8c947819cdcd92dbaefd7d7c651f3b60be70c70fd1986d9bc9e4beb4c9"
   }
  }
 },
 "nbformat": 4,
 "nbformat_minor": 2
}
