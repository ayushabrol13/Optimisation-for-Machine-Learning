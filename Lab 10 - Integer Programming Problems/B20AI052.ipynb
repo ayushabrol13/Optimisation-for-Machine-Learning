{
 "cells": [
  {
   "cell_type": "markdown",
   "metadata": {},
   "source": [
    "# Optimistaion for Machine Learning \n",
    "\n",
    "    Ayush Abrol B20AI052\n",
    "\n",
    "---"
   ]
  },
  {
   "cell_type": "code",
   "execution_count": 2,
   "metadata": {},
   "outputs": [],
   "source": [
    "from gekko import GEKKO\n",
    "import numpy as np"
   ]
  },
  {
   "cell_type": "markdown",
   "metadata": {},
   "source": [
    "### Question 1"
   ]
  },
  {
   "cell_type": "code",
   "execution_count": 3,
   "metadata": {},
   "outputs": [],
   "source": [
    "# max 9x1 + 5x2 + 6x3 + 4x4\n",
    "# s.t 6x1 + 3x2 + 5x3 + 2x4 ≤ 10\n",
    "# x1 + x4 ≤ 1\n",
    "# −x1 + x3 ≤ 0\n",
    "# −x2 + x4 ≤ 0\n",
    "# x1,2,3,4 ∈ {0, 1}"
   ]
  },
  {
   "cell_type": "code",
   "execution_count": 6,
   "metadata": {},
   "outputs": [
    {
     "name": "stdout",
     "output_type": "stream",
     "text": [
      "A\n",
      "[[ 6.  3.  5.  2.]\n",
      " [ 1.  0.  0.  1.]\n",
      " [-1.  0.  1.  0.]\n",
      " [ 0. -1.  0.  1.]]\n",
      "b\n",
      "[[9. 1. 0. 0.]]\n",
      " ----------------------------------------------------------------\n",
      " APMonitor, Version 1.0.0\n",
      " APMonitor Optimization Suite\n",
      " ----------------------------------------------------------------\n",
      " \n",
      " \n",
      " --------- APM Model Size ------------\n",
      " Each time step contains\n",
      "   Objects      :  2\n",
      "   Constants    :  0\n",
      "   Variables    :  4\n",
      "   Intermediates:  0\n",
      "   Connections  :  8\n",
      "   Equations    :  0\n",
      "   Residuals    :  0\n",
      " \n",
      " Number of state variables:    4\n",
      " Number of total equations: -  4\n",
      " Number of slack variables: -  0\n",
      " ---------------------------------------\n",
      " Degrees of freedom       :    0\n",
      " \n",
      " ----------------------------------------------\n",
      " Steady State Optimization with APOPT Solver\n",
      " ----------------------------------------------\n",
      "Iter:     1 I:  0 Tm:     -0.00 NLPi:    1 Dpth:    0 Lvs:    3 Obj: -1.39E+01 Gap:       NaN\n",
      "--Integer Solution:  -1.40E+01 Lowest Leaf:  -1.40E+01 Gap:   0.00E+00\n",
      "Iter:     2 I:  0 Tm:     -0.00 NLPi:    1 Dpth:    1 Lvs:    3 Obj: -1.40E+01 Gap:  0.00E+00\n",
      " Successful solution\n",
      " \n",
      " ---------------------------------------------------\n",
      " Solver         :  APOPT (v1.0)\n",
      " Solution time  :  0.023999999999999997 sec\n",
      " Objective      :  -14.\n",
      " Successful solution\n",
      " ---------------------------------------------------\n",
      " \n",
      "\n",
      "Objective:  -14.0\n",
      "[[1.0] [1.0] [0.0] [0.0]]\n",
      "x:  1.0 1.0 0.0 0.0\n",
      "y:  1.0\n"
     ]
    }
   ],
   "source": [
    "m = GEKKO(remote=False)\n",
    "c = array([[9],[5],[6],[4]])\n",
    "A = array([[6,3,5,2],[1,0,0,1],[-1,0,1,0],[0,-1,0,1]])\n",
    "b = array([[9],[1],[0],[0]])\n",
    "z = m.Array(m.Var,4,integer=True,lb=0,ub=1)\n",
    "#z1=m.array(m.Var,1,integer=False,lb=0,ub=1)\n",
    "m.qobj(c,x=z,otype='max')\n",
    "m.axb(A,b,x=z,etype='<=')\n",
    "#m.axb(A,b,x=z1,type='<=')\n",
    "m.options.SOLVER = 1\n",
    "m.solve()\n",
    "print('Objective: ', m.options.OBJFCNVAL)\n",
    "print(z)\n",
    "print('x: ', z[0].value[0],z[1].value[0],z[2].value[0],z[3].value[0])\n",
    "print('y: ', z[1].value[0])"
   ]
  },
  {
   "cell_type": "markdown",
   "metadata": {},
   "source": [
    "### Question 2"
   ]
  },
  {
   "cell_type": "code",
   "execution_count": 7,
   "metadata": {},
   "outputs": [],
   "source": [
    "# max 7x1 + 3x2\n",
    "# s.t 5x1 + 7x2 ≤ 27\n",
    "# 4x1 + x2 ≤ 14\n",
    "# 3x1 − 2x2 ≤ 9\n",
    "# x1, x2 ≥ 0\n",
    "# x1Integer"
   ]
  },
  {
   "cell_type": "code",
   "execution_count": null,
   "metadata": {},
   "outputs": [],
   "source": []
  }
 ],
 "metadata": {
  "kernelspec": {
   "display_name": "Python 3.7.8 64-bit",
   "language": "python",
   "name": "python3"
  },
  "language_info": {
   "codemirror_mode": {
    "name": "ipython",
    "version": 3
   },
   "file_extension": ".py",
   "mimetype": "text/x-python",
   "name": "python",
   "nbconvert_exporter": "python",
   "pygments_lexer": "ipython3",
   "version": "3.7.8"
  },
  "orig_nbformat": 4,
  "vscode": {
   "interpreter": {
    "hash": "944b8a8c947819cdcd92dbaefd7d7c651f3b60be70c70fd1986d9bc9e4beb4c9"
   }
  }
 },
 "nbformat": 4,
 "nbformat_minor": 2
}
