{
 "cells": [
  {
   "cell_type": "markdown",
   "metadata": {},
   "source": [
    "# Optimisation for Machine Learning\n",
    "\n",
    "    Ayush Abrol B20AI052\n",
    "\n",
    "---"
   ]
  },
  {
   "cell_type": "code",
   "execution_count": 1,
   "metadata": {},
   "outputs": [],
   "source": [
    "import pandas as pd\n",
    "import numpy as np\n",
    "import matplotlib.pyplot as plt"
   ]
  },
  {
   "cell_type": "markdown",
   "metadata": {},
   "source": [
    "### Question 1"
   ]
  },
  {
   "cell_type": "code",
   "execution_count": 2,
   "metadata": {},
   "outputs": [
    {
     "name": "stdout",
     "output_type": "stream",
     "text": [
      "[52.2, 152.4, 51.2, 54.3, 2.52]\n"
     ]
    }
   ],
   "source": [
    "# Consider the car pricing data set. \n",
    "# Write code for least square problem using gradient descent method. \n",
    "# Choose f(β) =1/2N Sum((i=1->N)(aiTx − yi)^2) and stopping condition ∥∇f(x)∥ < 0.01. \n",
    "# Estimate the price of a car with inputs  \n",
    "# Use ∇f(xj =1/N Sum(i=1->N)aij(aiTx − yi) j = 1, 2, . . . , n.\n",
    "\n"
   ]
  },
  {
   "cell_type": "code",
   "execution_count": 3,
   "metadata": {},
   "outputs": [
    {
     "data": {
      "text/html": [
       "<div>\n",
       "<style scoped>\n",
       "    .dataframe tbody tr th:only-of-type {\n",
       "        vertical-align: middle;\n",
       "    }\n",
       "\n",
       "    .dataframe tbody tr th {\n",
       "        vertical-align: top;\n",
       "    }\n",
       "\n",
       "    .dataframe thead th {\n",
       "        text-align: right;\n",
       "    }\n",
       "</style>\n",
       "<table border=\"1\" class=\"dataframe\">\n",
       "  <thead>\n",
       "    <tr style=\"text-align: right;\">\n",
       "      <th></th>\n",
       "      <th>wheelbase</th>\n",
       "      <th>carlength</th>\n",
       "      <th>carwidth</th>\n",
       "      <th>carheight</th>\n",
       "      <th>boreratio</th>\n",
       "      <th>price</th>\n",
       "    </tr>\n",
       "  </thead>\n",
       "  <tbody>\n",
       "    <tr>\n",
       "      <th>0</th>\n",
       "      <td>88.6</td>\n",
       "      <td>168.8</td>\n",
       "      <td>64.1</td>\n",
       "      <td>48.8</td>\n",
       "      <td>3.47</td>\n",
       "      <td>13495.0</td>\n",
       "    </tr>\n",
       "    <tr>\n",
       "      <th>1</th>\n",
       "      <td>88.6</td>\n",
       "      <td>168.8</td>\n",
       "      <td>64.1</td>\n",
       "      <td>48.8</td>\n",
       "      <td>3.47</td>\n",
       "      <td>16500.0</td>\n",
       "    </tr>\n",
       "    <tr>\n",
       "      <th>2</th>\n",
       "      <td>94.5</td>\n",
       "      <td>171.2</td>\n",
       "      <td>65.5</td>\n",
       "      <td>52.4</td>\n",
       "      <td>2.68</td>\n",
       "      <td>16500.0</td>\n",
       "    </tr>\n",
       "    <tr>\n",
       "      <th>3</th>\n",
       "      <td>99.8</td>\n",
       "      <td>176.6</td>\n",
       "      <td>66.2</td>\n",
       "      <td>54.3</td>\n",
       "      <td>3.19</td>\n",
       "      <td>13950.0</td>\n",
       "    </tr>\n",
       "    <tr>\n",
       "      <th>4</th>\n",
       "      <td>99.4</td>\n",
       "      <td>176.6</td>\n",
       "      <td>66.4</td>\n",
       "      <td>54.3</td>\n",
       "      <td>3.19</td>\n",
       "      <td>17450.0</td>\n",
       "    </tr>\n",
       "    <tr>\n",
       "      <th>...</th>\n",
       "      <td>...</td>\n",
       "      <td>...</td>\n",
       "      <td>...</td>\n",
       "      <td>...</td>\n",
       "      <td>...</td>\n",
       "      <td>...</td>\n",
       "    </tr>\n",
       "    <tr>\n",
       "      <th>200</th>\n",
       "      <td>109.1</td>\n",
       "      <td>188.8</td>\n",
       "      <td>68.9</td>\n",
       "      <td>55.5</td>\n",
       "      <td>3.78</td>\n",
       "      <td>16845.0</td>\n",
       "    </tr>\n",
       "    <tr>\n",
       "      <th>201</th>\n",
       "      <td>109.1</td>\n",
       "      <td>188.8</td>\n",
       "      <td>68.8</td>\n",
       "      <td>55.5</td>\n",
       "      <td>3.78</td>\n",
       "      <td>19045.0</td>\n",
       "    </tr>\n",
       "    <tr>\n",
       "      <th>202</th>\n",
       "      <td>109.1</td>\n",
       "      <td>188.8</td>\n",
       "      <td>68.9</td>\n",
       "      <td>55.5</td>\n",
       "      <td>3.58</td>\n",
       "      <td>21485.0</td>\n",
       "    </tr>\n",
       "    <tr>\n",
       "      <th>203</th>\n",
       "      <td>109.1</td>\n",
       "      <td>188.8</td>\n",
       "      <td>68.9</td>\n",
       "      <td>55.5</td>\n",
       "      <td>3.01</td>\n",
       "      <td>22470.0</td>\n",
       "    </tr>\n",
       "    <tr>\n",
       "      <th>204</th>\n",
       "      <td>109.1</td>\n",
       "      <td>188.8</td>\n",
       "      <td>68.9</td>\n",
       "      <td>55.5</td>\n",
       "      <td>3.78</td>\n",
       "      <td>22625.0</td>\n",
       "    </tr>\n",
       "  </tbody>\n",
       "</table>\n",
       "<p>205 rows × 6 columns</p>\n",
       "</div>"
      ],
      "text/plain": [
       "     wheelbase  carlength  carwidth  carheight  boreratio    price\n",
       "0         88.6      168.8      64.1       48.8       3.47  13495.0\n",
       "1         88.6      168.8      64.1       48.8       3.47  16500.0\n",
       "2         94.5      171.2      65.5       52.4       2.68  16500.0\n",
       "3         99.8      176.6      66.2       54.3       3.19  13950.0\n",
       "4         99.4      176.6      66.4       54.3       3.19  17450.0\n",
       "..         ...        ...       ...        ...        ...      ...\n",
       "200      109.1      188.8      68.9       55.5       3.78  16845.0\n",
       "201      109.1      188.8      68.8       55.5       3.78  19045.0\n",
       "202      109.1      188.8      68.9       55.5       3.58  21485.0\n",
       "203      109.1      188.8      68.9       55.5       3.01  22470.0\n",
       "204      109.1      188.8      68.9       55.5       3.78  22625.0\n",
       "\n",
       "[205 rows x 6 columns]"
      ]
     },
     "execution_count": 3,
     "metadata": {},
     "output_type": "execute_result"
    }
   ],
   "source": [
    "df = pd.read_excel('car_price.xlsx')\n",
    "df"
   ]
  },
  {
   "cell_type": "code",
   "execution_count": 5,
   "metadata": {},
   "outputs": [
    {
     "data": {
      "text/plain": [
       "0      13495.0\n",
       "1      16500.0\n",
       "2      16500.0\n",
       "3      13950.0\n",
       "4      17450.0\n",
       "        ...   \n",
       "200    16845.0\n",
       "201    19045.0\n",
       "202    21485.0\n",
       "203    22470.0\n",
       "204    22625.0\n",
       "Name: price, Length: 205, dtype: float64"
      ]
     },
     "execution_count": 5,
     "metadata": {},
     "output_type": "execute_result"
    }
   ],
   "source": [
    "prices = df.iloc[:, -1]\n",
    "prices"
   ]
  },
  {
   "cell_type": "code",
   "execution_count": 6,
   "metadata": {},
   "outputs": [
    {
     "data": {
      "text/html": [
       "<div>\n",
       "<style scoped>\n",
       "    .dataframe tbody tr th:only-of-type {\n",
       "        vertical-align: middle;\n",
       "    }\n",
       "\n",
       "    .dataframe tbody tr th {\n",
       "        vertical-align: top;\n",
       "    }\n",
       "\n",
       "    .dataframe thead th {\n",
       "        text-align: right;\n",
       "    }\n",
       "</style>\n",
       "<table border=\"1\" class=\"dataframe\">\n",
       "  <thead>\n",
       "    <tr style=\"text-align: right;\">\n",
       "      <th></th>\n",
       "      <th>wheelbase</th>\n",
       "      <th>carlength</th>\n",
       "      <th>carwidth</th>\n",
       "      <th>carheight</th>\n",
       "      <th>boreratio</th>\n",
       "    </tr>\n",
       "  </thead>\n",
       "  <tbody>\n",
       "    <tr>\n",
       "      <th>0</th>\n",
       "      <td>88.6</td>\n",
       "      <td>168.8</td>\n",
       "      <td>64.1</td>\n",
       "      <td>48.8</td>\n",
       "      <td>3.47</td>\n",
       "    </tr>\n",
       "    <tr>\n",
       "      <th>1</th>\n",
       "      <td>88.6</td>\n",
       "      <td>168.8</td>\n",
       "      <td>64.1</td>\n",
       "      <td>48.8</td>\n",
       "      <td>3.47</td>\n",
       "    </tr>\n",
       "    <tr>\n",
       "      <th>2</th>\n",
       "      <td>94.5</td>\n",
       "      <td>171.2</td>\n",
       "      <td>65.5</td>\n",
       "      <td>52.4</td>\n",
       "      <td>2.68</td>\n",
       "    </tr>\n",
       "    <tr>\n",
       "      <th>3</th>\n",
       "      <td>99.8</td>\n",
       "      <td>176.6</td>\n",
       "      <td>66.2</td>\n",
       "      <td>54.3</td>\n",
       "      <td>3.19</td>\n",
       "    </tr>\n",
       "    <tr>\n",
       "      <th>4</th>\n",
       "      <td>99.4</td>\n",
       "      <td>176.6</td>\n",
       "      <td>66.4</td>\n",
       "      <td>54.3</td>\n",
       "      <td>3.19</td>\n",
       "    </tr>\n",
       "    <tr>\n",
       "      <th>...</th>\n",
       "      <td>...</td>\n",
       "      <td>...</td>\n",
       "      <td>...</td>\n",
       "      <td>...</td>\n",
       "      <td>...</td>\n",
       "    </tr>\n",
       "    <tr>\n",
       "      <th>200</th>\n",
       "      <td>109.1</td>\n",
       "      <td>188.8</td>\n",
       "      <td>68.9</td>\n",
       "      <td>55.5</td>\n",
       "      <td>3.78</td>\n",
       "    </tr>\n",
       "    <tr>\n",
       "      <th>201</th>\n",
       "      <td>109.1</td>\n",
       "      <td>188.8</td>\n",
       "      <td>68.8</td>\n",
       "      <td>55.5</td>\n",
       "      <td>3.78</td>\n",
       "    </tr>\n",
       "    <tr>\n",
       "      <th>202</th>\n",
       "      <td>109.1</td>\n",
       "      <td>188.8</td>\n",
       "      <td>68.9</td>\n",
       "      <td>55.5</td>\n",
       "      <td>3.58</td>\n",
       "    </tr>\n",
       "    <tr>\n",
       "      <th>203</th>\n",
       "      <td>109.1</td>\n",
       "      <td>188.8</td>\n",
       "      <td>68.9</td>\n",
       "      <td>55.5</td>\n",
       "      <td>3.01</td>\n",
       "    </tr>\n",
       "    <tr>\n",
       "      <th>204</th>\n",
       "      <td>109.1</td>\n",
       "      <td>188.8</td>\n",
       "      <td>68.9</td>\n",
       "      <td>55.5</td>\n",
       "      <td>3.78</td>\n",
       "    </tr>\n",
       "  </tbody>\n",
       "</table>\n",
       "<p>205 rows × 5 columns</p>\n",
       "</div>"
      ],
      "text/plain": [
       "     wheelbase  carlength  carwidth  carheight  boreratio\n",
       "0         88.6      168.8      64.1       48.8       3.47\n",
       "1         88.6      168.8      64.1       48.8       3.47\n",
       "2         94.5      171.2      65.5       52.4       2.68\n",
       "3         99.8      176.6      66.2       54.3       3.19\n",
       "4         99.4      176.6      66.4       54.3       3.19\n",
       "..         ...        ...       ...        ...        ...\n",
       "200      109.1      188.8      68.9       55.5       3.78\n",
       "201      109.1      188.8      68.8       55.5       3.78\n",
       "202      109.1      188.8      68.9       55.5       3.58\n",
       "203      109.1      188.8      68.9       55.5       3.01\n",
       "204      109.1      188.8      68.9       55.5       3.78\n",
       "\n",
       "[205 rows x 5 columns]"
      ]
     },
     "execution_count": 6,
     "metadata": {},
     "output_type": "execute_result"
    }
   ],
   "source": [
    "data = df.iloc[:, :-1]\n",
    "data"
   ]
  },
  {
   "cell_type": "code",
   "execution_count": 7,
   "metadata": {},
   "outputs": [],
   "source": [
    "X=data.values\n",
    "Y=prices.values"
   ]
  },
  {
   "cell_type": "code",
   "execution_count": 8,
   "metadata": {},
   "outputs": [],
   "source": [
    "Y=Y.reshape(X.shape[0],1)"
   ]
  },
  {
   "cell_type": "code",
   "execution_count": 9,
   "metadata": {},
   "outputs": [],
   "source": [
    "#  f(β) = 1/(2*N) (sigma i to N) (β1xi1+β2xi2+β3xi3+β4xi4+β5xi5+β6-yi)**2"
   ]
  },
  {
   "cell_type": "code",
   "execution_count": 10,
   "metadata": {},
   "outputs": [],
   "source": [
    "R = 52\n",
    "r = 2\n",
    "a = np.array([52.2, 152.4, 51.2, 54.3, 2.52])"
   ]
  },
  {
   "cell_type": "code",
   "execution_count": 11,
   "metadata": {},
   "outputs": [],
   "source": [
    "#N=205\n",
    "# defining the function here\n",
    "def fun(a):\n",
    "    \n",
    "    return (1/(2*205))*(sum(((a[0]*X[:,0:1]+a[1]*X[:,1:2]+a[2]*X[:,2:3]+a[3]*X[:,3:4]+a[4]*X[:,4:5]+a[5]-Y)**2))[0])"
   ]
  },
  {
   "cell_type": "code",
   "execution_count": 12,
   "metadata": {},
   "outputs": [
    {
     "data": {
      "text/plain": [
       "119890739.74557047"
      ]
     },
     "execution_count": 12,
     "metadata": {},
     "output_type": "execute_result"
    }
   ],
   "source": [
    "fun(np.array([0,0,0,0,0,0]))\n"
   ]
  },
  {
   "cell_type": "code",
   "execution_count": 13,
   "metadata": {},
   "outputs": [],
   "source": [
    "def gradf(a): # defining the gradient as per gradient descent method\n",
    "    beta0=(1/(205))*(sum(((a[0]*X[:,0:1]+a[1]*X[:,1:2]+a[2]*X[:,2:3]+a[3]*X[:,3:4]+a[4]*X[:,4:5]+a[5]-Y)*X[:,0:1]))[0])\n",
    "    beta1=(1/(205))*(sum(((a[0]*X[:,0:1]+a[1]*X[:,1:2]+a[2]*X[:,2:3]+a[3]*X[:,3:4]+a[4]*X[:,4:5]+a[5]-Y)*X[:,1:2]))[0])\n",
    "    beta2=(1/(205))*(sum(((a[0]*X[:,0:1]+a[1]*X[:,1:2]+a[2]*X[:,2:3]+a[3]*X[:,3:4]+a[4]*X[:,4:5]+a[5]-Y)*X[:,2:3]))[0])\n",
    "    beta3=(1/(205))*(sum(((a[0]*X[:,0:1]+a[1]*X[:,1:2]+a[2]*X[:,2:3]+a[3]*X[:,3:4]+a[4]*X[:,4:5]+a[5]-Y)*X[:,3:4]))[0])\n",
    "    beta4=(1/(205))*(sum(((a[0]*X[:,0:1]+a[1]*X[:,1:2]+a[2]*X[:,2:3]+a[3]*X[:,3:4]+a[4]*X[:,4:5]+a[5]-Y)*X[:,4:5]))[0])\n",
    "    beta5=(1/(205))*(sum(((a[0]*X[:,0:1]+a[1]*X[:,1:2]+a[2]*X[:,2:3]+a[3]*X[:,3:4]+a[4]*X[:,4:5]+a[5]-Y)))[0])\n",
    "    return np.array([beta0,beta1,beta2,beta3,beta4,beta5])\n"
   ]
  },
  {
   "cell_type": "code",
   "execution_count": null,
   "metadata": {},
   "outputs": [],
   "source": [
    "gradf(np.array([0,0,0,0,0,0]))"
   ]
  },
  {
   "cell_type": "code",
   "execution_count": 14,
   "metadata": {},
   "outputs": [
    {
     "name": "stdout",
     "output_type": "stream",
     "text": [
      "x 0  :  [0 0 0 0 0 0]\n",
      "f 0  :  119890739.74557047\n",
      "g 0  :  [-1338824.02495854 -2377782.54980195  -887988.47311854  -715607.84748293\n",
      "   -45399.28708639   -13276.71057073]\n",
      "\n",
      "===========\n",
      "\n"
     ]
    }
   ],
   "source": [
    "# initially, a0=[0,0,0,0,0,0]\n",
    "a0,beta1,beta2,r,eps,iter1,countf=np.array([0,0,0,0,0,0]),pow(10,-4),0.9,0.5,pow(10,-3),0,0\n",
    "print(\"x\",iter1,\" : \",a0)\n",
    "print(\"f\",iter1,\" : \",fun(a0))\n",
    "print(\"g\",iter1,\" : \",gradf(a0))\n",
    "print(\"\\n===========\\n\")\n",
    "while np.linalg.norm(gradf(a0))>0.001 and iter1<1000:\n",
    "    d0,alpha=-gradf(a0),1 # steepest descent\n",
    "while fun(a0+alpha*d0)>fun(a0)+alpha*beta1*np.dot(gradf(a0).T,d0) or np.dot(gradf(a0+alpha*d0).T,d0)<beta2*np.dot(gradf(a0).T,d0) and alpha>pow(10,-5): # until a\n",
    "    alpha=alpha*r\n",
    "    countf += 1\n",
    "    # print(fun(a0+alpha*d0)-fun(a0))\n",
    "    # print(\"x\",iter1+1,\" : \",a0+alpha*d0)\n",
    "    # print(\"f\",iter1+1,\" : \",fun(a0+alpha*d0))\n",
    "    # print(\"g\",iter1+1,\" : \",gradf(a0+alpha*d0))\n",
    "    # print(\"\\n===========\\n\")\n",
    "    a0,iter1=a0+alpha*d0,iter1+1 # updating x\n",
    "print(\"\\n===========\\n\")\n",
    "print(\"x\",iter1,\" : \",a0)\n",
    "print(\"f\",iter1,\" : \",fun(a0))\n",
    "print(\"g\",iter1,\" : \",gradf(a0))\n",
    "print(\"Iterations: \",iter1)\n",
    "print(\"countf: \",countf)"
   ]
  },
  {
   "cell_type": "code",
   "execution_count": null,
   "metadata": {},
   "outputs": [],
   "source": [
    "R=52\n",
    "r=2\n",
    "a_1=a = [52.2, 152.4, 51.2, 54.3, 2.52]\n",
    "output=a0[0]*a_1[0]+a0[1]*a_1[1]+a0[2]*a_1[2]+a0[3]*a_1[3]+a0[4]*a_1[4]+a0[5]\n",
    "print(output)"
   ]
  },
  {
   "cell_type": "markdown",
   "metadata": {},
   "source": [
    "### Question 2"
   ]
  },
  {
   "cell_type": "markdown",
   "metadata": {},
   "source": [
    "data = pd.read_csv('Concrete_Data_Yeh.csv')\n",
    "x15, y15 = data.values[:,0:-1],data.values[:,-1]"
   ]
  },
  {
   "cell_type": "code",
   "execution_count": null,
   "metadata": {},
   "outputs": [],
   "source": [
    "import random\n",
    "temp = []\n",
    "list1=range(len(x15))\n",
    "for i in range(10):\n",
    "temp.append(random.choice(list1))\n",
    "x1 ,y1=data.values[temp,0:5],data.values[temp,5]"
   ]
  },
  {
   "cell_type": "code",
   "execution_count": null,
   "metadata": {},
   "outputs": [],
   "source": [
    "def func(x):\n",
    "    n=len(x1)\n",
    "    sum=0\n",
    "    # print(x1[0].T.shape, x.shape, y1[0].shape)\n",
    "    for i in range(n):\n",
    "    # print(x1[i].T, x, y1[i])\n",
    "    temp=(np.dot(x1[i].T, x)- y1[i])**2\n",
    "    print(temp)\n",
    "    sum += temp\n",
    "    sum=sum/(2*n)\n",
    "    return sum\n",
    "def grad(x):\n",
    "    n=len(x1)\n",
    "    sum=np.array([0.0, 0.0, 0.0, 0.0, 0.0])\n",
    "    for i in range(n):\n",
    "    sum+=np.dot(x1[i], (np.dot(x1[i].T, x)- y1[i]))\n",
    "    sum=sum/n\n",
    "    return sum\n",
    "# f=np.array([0, 0, 0, 0, 0])\n",
    "# print(func(f))"
   ]
  },
  {
   "cell_type": "code",
   "execution_count": null,
   "metadata": {},
   "outputs": [],
   "source": [
    "epsilon=0.01\n",
    "x0=np.array([0,0,0,0,0],dtype=float)\n",
    "b1=0.0001\n",
    "b2=0.9\n",
    "r=0.5\n",
    "i=0\n",
    "a=1\n",
    "no_itr=0\n",
    "of_v=[]\n",
    "of_v.append(func(x0))\n",
    "\n",
    "\n",
    "while (np.linalg.norm(grad(x0))>epsilon):\n",
    "    d0=-grad(x0)\n",
    "    if(no_itr==100):\n",
    "    break\n",
    "    no_itr=no_itr+1\n",
    "    argimo_val=b1*a*(np.dot(grad(x0).reshape(1,-1),d0.reshape(-1,1)))\n",
    "    temp=[]\n",
    "    for i in range(10):\n",
    "    temp.append(random.choice(list1))\n",
    "    x1,y1=data.values[temp,0:5],data.values[temp,5]\n",
    "    a=1\n",
    "    while((func(x0+a*d0)> func(x0)+b1*a*(np.dot(grad(x0).T,d0))) or (np.dot(grad(x0+a*d0).T,d0)<b2*(np.dot(grad(x0).T,d0)))):\n",
    "    a=a*r\n",
    "    x0=x0+a*d0\n",
    "    print(\"objective function value : \"+ str(func(x0)))\n",
    "    of_v.append(func(x0))\n",
    "    print(x0)\n",
    "print(\"no of itr : \" +str(no_itr))"
   ]
  }
 ],
 "metadata": {
  "kernelspec": {
   "display_name": "Python 3.7.8 64-bit",
   "language": "python",
   "name": "python3"
  },
  "language_info": {
   "codemirror_mode": {
    "name": "ipython",
    "version": 3
   },
   "file_extension": ".py",
   "mimetype": "text/x-python",
   "name": "python",
   "nbconvert_exporter": "python",
   "pygments_lexer": "ipython3",
   "version": "3.7.8"
  },
  "orig_nbformat": 4,
  "vscode": {
   "interpreter": {
    "hash": "944b8a8c947819cdcd92dbaefd7d7c651f3b60be70c70fd1986d9bc9e4beb4c9"
   }
  }
 },
 "nbformat": 4,
 "nbformat_minor": 2
}
