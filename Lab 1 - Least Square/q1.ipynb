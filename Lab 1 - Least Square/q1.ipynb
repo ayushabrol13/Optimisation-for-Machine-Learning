{
 "cells": [
  {
   "cell_type": "code",
   "execution_count": 24,
   "metadata": {},
   "outputs": [],
   "source": [
    "import pandas as pd\n",
    "import numpy as np\n",
    "import matplotlib.pyplot as plt"
   ]
  },
  {
   "cell_type": "code",
   "execution_count": 25,
   "metadata": {},
   "outputs": [
    {
     "data": {
      "text/html": [
       "<div>\n",
       "<style scoped>\n",
       "    .dataframe tbody tr th:only-of-type {\n",
       "        vertical-align: middle;\n",
       "    }\n",
       "\n",
       "    .dataframe tbody tr th {\n",
       "        vertical-align: top;\n",
       "    }\n",
       "\n",
       "    .dataframe thead th {\n",
       "        text-align: right;\n",
       "    }\n",
       "</style>\n",
       "<table border=\"1\" class=\"dataframe\">\n",
       "  <thead>\n",
       "    <tr style=\"text-align: right;\">\n",
       "      <th></th>\n",
       "      <th>0</th>\n",
       "      <th>1</th>\n",
       "    </tr>\n",
       "  </thead>\n",
       "  <tbody>\n",
       "    <tr>\n",
       "      <th>0</th>\n",
       "      <td>6100</td>\n",
       "      <td>5530000</td>\n",
       "    </tr>\n",
       "    <tr>\n",
       "      <th>1</th>\n",
       "      <td>6540</td>\n",
       "      <td>5250000</td>\n",
       "    </tr>\n",
       "    <tr>\n",
       "      <th>2</th>\n",
       "      <td>2910</td>\n",
       "      <td>2604000</td>\n",
       "    </tr>\n",
       "    <tr>\n",
       "      <th>3</th>\n",
       "      <td>4770</td>\n",
       "      <td>4900000</td>\n",
       "    </tr>\n",
       "    <tr>\n",
       "      <th>4</th>\n",
       "      <td>8000</td>\n",
       "      <td>6020000</td>\n",
       "    </tr>\n",
       "    <tr>\n",
       "      <th>...</th>\n",
       "      <td>...</td>\n",
       "      <td>...</td>\n",
       "    </tr>\n",
       "    <tr>\n",
       "      <th>95</th>\n",
       "      <td>2610</td>\n",
       "      <td>4200000</td>\n",
       "    </tr>\n",
       "    <tr>\n",
       "      <th>96</th>\n",
       "      <td>6632</td>\n",
       "      <td>5600000</td>\n",
       "    </tr>\n",
       "    <tr>\n",
       "      <th>97</th>\n",
       "      <td>6072</td>\n",
       "      <td>7700000</td>\n",
       "    </tr>\n",
       "    <tr>\n",
       "      <th>98</th>\n",
       "      <td>5455</td>\n",
       "      <td>3143000</td>\n",
       "    </tr>\n",
       "    <tr>\n",
       "      <th>99</th>\n",
       "      <td>3680</td>\n",
       "      <td>2940000</td>\n",
       "    </tr>\n",
       "  </tbody>\n",
       "</table>\n",
       "<p>100 rows × 2 columns</p>\n",
       "</div>"
      ],
      "text/plain": [
       "       0        1\n",
       "0   6100  5530000\n",
       "1   6540  5250000\n",
       "2   2910  2604000\n",
       "3   4770  4900000\n",
       "4   8000  6020000\n",
       "..   ...      ...\n",
       "95  2610  4200000\n",
       "96  6632  5600000\n",
       "97  6072  7700000\n",
       "98  5455  3143000\n",
       "99  3680  2940000\n",
       "\n",
       "[100 rows x 2 columns]"
      ]
     },
     "execution_count": 25,
     "metadata": {},
     "output_type": "execute_result"
    }
   ],
   "source": [
    "data = pd.read_excel('2 columns.xls', header=None)\n",
    "data"
   ]
  },
  {
   "cell_type": "code",
   "execution_count": 26,
   "metadata": {},
   "outputs": [],
   "source": [
    "columns = ['Area', 'Price']\n",
    "data.columns = columns"
   ]
  },
  {
   "cell_type": "code",
   "execution_count": 27,
   "metadata": {},
   "outputs": [
    {
     "data": {
      "text/html": [
       "<div>\n",
       "<style scoped>\n",
       "    .dataframe tbody tr th:only-of-type {\n",
       "        vertical-align: middle;\n",
       "    }\n",
       "\n",
       "    .dataframe tbody tr th {\n",
       "        vertical-align: top;\n",
       "    }\n",
       "\n",
       "    .dataframe thead th {\n",
       "        text-align: right;\n",
       "    }\n",
       "</style>\n",
       "<table border=\"1\" class=\"dataframe\">\n",
       "  <thead>\n",
       "    <tr style=\"text-align: right;\">\n",
       "      <th></th>\n",
       "      <th>Area</th>\n",
       "      <th>Price</th>\n",
       "    </tr>\n",
       "  </thead>\n",
       "  <tbody>\n",
       "    <tr>\n",
       "      <th>0</th>\n",
       "      <td>6100</td>\n",
       "      <td>5530000</td>\n",
       "    </tr>\n",
       "    <tr>\n",
       "      <th>1</th>\n",
       "      <td>6540</td>\n",
       "      <td>5250000</td>\n",
       "    </tr>\n",
       "    <tr>\n",
       "      <th>2</th>\n",
       "      <td>2910</td>\n",
       "      <td>2604000</td>\n",
       "    </tr>\n",
       "    <tr>\n",
       "      <th>3</th>\n",
       "      <td>4770</td>\n",
       "      <td>4900000</td>\n",
       "    </tr>\n",
       "    <tr>\n",
       "      <th>4</th>\n",
       "      <td>8000</td>\n",
       "      <td>6020000</td>\n",
       "    </tr>\n",
       "    <tr>\n",
       "      <th>...</th>\n",
       "      <td>...</td>\n",
       "      <td>...</td>\n",
       "    </tr>\n",
       "    <tr>\n",
       "      <th>95</th>\n",
       "      <td>2610</td>\n",
       "      <td>4200000</td>\n",
       "    </tr>\n",
       "    <tr>\n",
       "      <th>96</th>\n",
       "      <td>6632</td>\n",
       "      <td>5600000</td>\n",
       "    </tr>\n",
       "    <tr>\n",
       "      <th>97</th>\n",
       "      <td>6072</td>\n",
       "      <td>7700000</td>\n",
       "    </tr>\n",
       "    <tr>\n",
       "      <th>98</th>\n",
       "      <td>5455</td>\n",
       "      <td>3143000</td>\n",
       "    </tr>\n",
       "    <tr>\n",
       "      <th>99</th>\n",
       "      <td>3680</td>\n",
       "      <td>2940000</td>\n",
       "    </tr>\n",
       "  </tbody>\n",
       "</table>\n",
       "<p>100 rows × 2 columns</p>\n",
       "</div>"
      ],
      "text/plain": [
       "    Area    Price\n",
       "0   6100  5530000\n",
       "1   6540  5250000\n",
       "2   2910  2604000\n",
       "3   4770  4900000\n",
       "4   8000  6020000\n",
       "..   ...      ...\n",
       "95  2610  4200000\n",
       "96  6632  5600000\n",
       "97  6072  7700000\n",
       "98  5455  3143000\n",
       "99  3680  2940000\n",
       "\n",
       "[100 rows x 2 columns]"
      ]
     },
     "execution_count": 27,
     "metadata": {},
     "output_type": "execute_result"
    }
   ],
   "source": [
    "data"
   ]
  },
  {
   "cell_type": "code",
   "execution_count": 28,
   "metadata": {},
   "outputs": [
    {
     "data": {
      "text/plain": [
       "array([[   6100, 5530000],\n",
       "       [   6540, 5250000],\n",
       "       [   2910, 2604000],\n",
       "       [   4770, 4900000],\n",
       "       [   8000, 6020000],\n",
       "       [   6000, 7350000],\n",
       "       [   5300, 2233000],\n",
       "       [   8250, 4193000],\n",
       "       [   3850, 3850000],\n",
       "       [   6321, 4760000],\n",
       "       [   5960, 8190000],\n",
       "       [   3410, 5145000],\n",
       "       [   3816, 3920000],\n",
       "       [   7000, 4200000],\n",
       "       [   4095, 3150000],\n",
       "       [   3180, 3850000],\n",
       "       [   6600, 9100000],\n",
       "       [   5300, 3850000],\n",
       "       [   5640, 3675000],\n",
       "       [   3640, 4550000],\n",
       "       [  12090, 6790000],\n",
       "       [   3360, 2100000],\n",
       "       [   6023, 7350000],\n",
       "       [   6472, 6300000],\n",
       "       [   3648, 4098500],\n",
       "       [   5680, 4620000],\n",
       "       [   6450, 5383000],\n",
       "       [   3180, 3885000],\n",
       "       [   4040, 3423000],\n",
       "       [   2145, 3430000],\n",
       "       [   4410, 4970000],\n",
       "       [   5040, 4200000],\n",
       "       [   3640, 4200000],\n",
       "       [   3960, 2800000],\n",
       "       [   2825, 2660000],\n",
       "       [   6615, 2940000],\n",
       "       [   7160, 5880000],\n",
       "       [   8250, 6510000],\n",
       "       [   5920, 3500000],\n",
       "       [   3570, 3150000],\n",
       "       [   2145, 3290000],\n",
       "       [   3630, 2870000],\n",
       "       [   8875, 8400000],\n",
       "       [   6990, 5523000],\n",
       "       [   3575, 3360000],\n",
       "       [   3460, 4007500],\n",
       "       [   3480, 3290000],\n",
       "       [   6015, 6650000],\n",
       "       [   4040, 4480000],\n",
       "       [   4410, 4200000],\n",
       "       [   6090, 7210000],\n",
       "       [   3120, 3703000],\n",
       "       [   8880, 7070000],\n",
       "       [   3685, 2590000],\n",
       "       [   3850, 3535000],\n",
       "       [  11175, 7000000],\n",
       "       [   4960, 2940000],\n",
       "       [   2745, 2940000],\n",
       "       [   3750, 3360000],\n",
       "       [   7260, 3920000],\n",
       "       [   2870, 4620000],\n",
       "       [   6055, 7560000],\n",
       "       [   5480, 2870000],\n",
       "       [   6650, 4235000],\n",
       "       [   3180, 3290000],\n",
       "       [   8050, 3003000],\n",
       "       [   8475, 4550000],\n",
       "       [   3460, 4025000],\n",
       "       [   4625, 3010000],\n",
       "       [   5360, 4550000],\n",
       "       [   3880, 4620000],\n",
       "       [   7045, 8080940],\n",
       "       [   6625, 6230000],\n",
       "       [   2970, 4900000],\n",
       "       [   3480, 3745000],\n",
       "       [   4520, 4900000],\n",
       "       [   7020, 5950000],\n",
       "       [   3520, 4515000],\n",
       "       [   6540, 8540000],\n",
       "       [   4352, 2975000],\n",
       "       [   5850, 2940000],\n",
       "       [   6835, 6020000],\n",
       "       [   8520, 5250000],\n",
       "       [   6350, 6195000],\n",
       "       [   2610, 3430000],\n",
       "       [   2325, 4200000],\n",
       "       [   7600, 5040000],\n",
       "       [   6720, 4900000],\n",
       "       [   5415, 4025000],\n",
       "       [   6095, 9100000],\n",
       "       [   8880, 6930000],\n",
       "       [   6055, 5775000],\n",
       "       [   4800, 6405000],\n",
       "       [   4080, 3850000],\n",
       "       [   4260, 5250000],\n",
       "       [   2610, 4200000],\n",
       "       [   6632, 5600000],\n",
       "       [   6072, 7700000],\n",
       "       [   5455, 3143000],\n",
       "       [   3680, 2940000]], dtype=int64)"
      ]
     },
     "execution_count": 28,
     "metadata": {},
     "output_type": "execute_result"
    }
   ],
   "source": [
    "B = data.values\n",
    "B"
   ]
  },
  {
   "cell_type": "code",
   "execution_count": 29,
   "metadata": {},
   "outputs": [],
   "source": [
    "x, y = B[:, 0], B[:, 1]"
   ]
  },
  {
   "cell_type": "code",
   "execution_count": 30,
   "metadata": {},
   "outputs": [
    {
     "data": {
      "text/plain": [
       "array([[6.10e+03, 1.00e+00],\n",
       "       [6.54e+03, 1.00e+00],\n",
       "       [2.91e+03, 1.00e+00],\n",
       "       [4.77e+03, 1.00e+00],\n",
       "       [8.00e+03, 1.00e+00]])"
      ]
     },
     "execution_count": 30,
     "metadata": {},
     "output_type": "execute_result"
    }
   ],
   "source": [
    "A = np.column_stack((x, np.ones((len(x), 1), dtype = float)))\n",
    "A[:5]"
   ]
  },
  {
   "cell_type": "code",
   "execution_count": 31,
   "metadata": {},
   "outputs": [
    {
     "data": {
      "text/plain": [
       "array([4.85029371e+02, 2.17670863e+06])"
      ]
     },
     "execution_count": 31,
     "metadata": {},
     "output_type": "execute_result"
    }
   ],
   "source": [
    "beta = np.dot(np.linalg.inv(np.dot(A.T, A)), np.dot(A.T, y))\n",
    "beta"
   ]
  },
  {
   "cell_type": "code",
   "execution_count": 32,
   "metadata": {},
   "outputs": [
    {
     "data": {
      "image/png": "[encoded data removed]",
      "text/plain": [
       "<Figure size 864x576 with 1 Axes>"
      ]
     },
     "metadata": {
      "needs_background": "light"
     },
     "output_type": "display_data"
    }
   ],
   "source": [
    "plt.figure(figsize = (12, 8))\n",
    "plt.plot(x, y, 'b.')\n",
    "plt.plot(x, beta[0]*x + beta[1], 'r')\n",
    "plt.xlabel('Area')\n",
    "plt.ylabel('Price')\n",
    "plt.show()"
   ]
  },
  {
   "cell_type": "code",
   "execution_count": 40,
   "metadata": {},
   "outputs": [
    {
     "name": "stdout",
     "output_type": "stream",
     "text": [
      "The predicted value for R = 2000 is: 3146767.37550843\n"
     ]
    }
   ],
   "source": [
    "val = 2000; #Roll Number - B20AI052\n",
    "y = beta[0]*val + beta[1]\n",
    "print(\"The predicted value for R = 2000 is:\",  y)"
   ]
  }
 ],
 "metadata": {
  "kernelspec": {
   "display_name": "Python 3.7.8 64-bit",
   "language": "python",
   "name": "python3"
  },
  "language_info": {
   "codemirror_mode": {
    "name": "ipython",
    "version": 3
   },
   "file_extension": ".py",
   "mimetype": "text/x-python",
   "name": "python",
   "nbconvert_exporter": "python",
   "pygments_lexer": "ipython3",
   "version": "3.7.8"
  },
  "orig_nbformat": 4,
  "vscode": {
   "interpreter": {
    "hash": "944b8a8c947819cdcd92dbaefd7d7c651f3b60be70c70fd1986d9bc9e4beb4c9"
   }
  }
 },
 "nbformat": 4,
 "nbformat_minor": 2
}
