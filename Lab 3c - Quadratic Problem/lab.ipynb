{
 "cells": [
  {
   "cell_type": "markdown",
   "metadata": {},
   "source": [
    "# Optimisation in Machine Learning"
   ]
  },
  {
   "cell_type": "markdown",
   "metadata": {},
   "source": [
    "## Lab Assignment - 4 (6th Sept 2022)\n",
    "       Ayush Abrol B20AI052\n",
    "\n",
    "---"
   ]
  },
  {
   "cell_type": "code",
   "execution_count": 40,
   "metadata": {},
   "outputs": [],
   "source": [
    "import pandas as pd\n",
    "import numpy as np\n",
    "import matplotlib.pyplot as plt\n",
    "import yfinance as yf\n",
    "import cvxopt as cp\n",
    "import cvxpy as cvx"
   ]
  },
  {
   "cell_type": "markdown",
   "metadata": {},
   "source": [
    "### Question 1"
   ]
  },
  {
   "cell_type": "markdown",
   "metadata": {},
   "source": [
    "Looking Daily Close Price Historical Data from 1 July, 2022 to 31 August, 2022 for 3 stocks. (Adani (AWL), MRPL, Bharti Airtel)"
   ]
  },
  {
   "cell_type": "code",
   "execution_count": 41,
   "metadata": {},
   "outputs": [
    {
     "name": "stdout",
     "output_type": "stream",
     "text": [
      "[*********************100%***********************]  3 of 3 completed\n"
     ]
    }
   ],
   "source": [
    "data = yf.download(\"AWL.NS MRPL.NS BHARTIARTL.NS\", start=\"2022-07-01\", end=\"2022-08-31\")"
   ]
  },
  {
   "cell_type": "code",
   "execution_count": 42,
   "metadata": {},
   "outputs": [
    {
     "data": {
      "text/html": [
       "<div>\n",
       "<style scoped>\n",
       "    .dataframe tbody tr th:only-of-type {\n",
       "        vertical-align: middle;\n",
       "    }\n",
       "\n",
       "    .dataframe tbody tr th {\n",
       "        vertical-align: top;\n",
       "    }\n",
       "\n",
       "    .dataframe thead tr th {\n",
       "        text-align: left;\n",
       "    }\n",
       "\n",
       "    .dataframe thead tr:last-of-type th {\n",
       "        text-align: right;\n",
       "    }\n",
       "</style>\n",
       "<table border=\"1\" class=\"dataframe\">\n",
       "  <thead>\n",
       "    <tr>\n",
       "      <th></th>\n",
       "      <th colspan=\"3\" halign=\"left\">Adj Close</th>\n",
       "      <th colspan=\"3\" halign=\"left\">Close</th>\n",
       "      <th colspan=\"3\" halign=\"left\">High</th>\n",
       "      <th colspan=\"3\" halign=\"left\">Low</th>\n",
       "      <th colspan=\"3\" halign=\"left\">Open</th>\n",
       "      <th colspan=\"3\" halign=\"left\">Volume</th>\n",
       "    </tr>\n",
       "    <tr>\n",
       "      <th></th>\n",
       "      <th>AWL.NS</th>\n",
       "      <th>BHARTIARTL.NS</th>\n",
       "      <th>MRPL.NS</th>\n",
       "      <th>AWL.NS</th>\n",
       "      <th>BHARTIARTL.NS</th>\n",
       "      <th>MRPL.NS</th>\n",
       "      <th>AWL.NS</th>\n",
       "      <th>BHARTIARTL.NS</th>\n",
       "      <th>MRPL.NS</th>\n",
       "      <th>AWL.NS</th>\n",
       "      <th>BHARTIARTL.NS</th>\n",
       "      <th>MRPL.NS</th>\n",
       "      <th>AWL.NS</th>\n",
       "      <th>BHARTIARTL.NS</th>\n",
       "      <th>MRPL.NS</th>\n",
       "      <th>AWL.NS</th>\n",
       "      <th>BHARTIARTL.NS</th>\n",
       "      <th>MRPL.NS</th>\n",
       "    </tr>\n",
       "    <tr>\n",
       "      <th>Date</th>\n",
       "      <th></th>\n",
       "      <th></th>\n",
       "      <th></th>\n",
       "      <th></th>\n",
       "      <th></th>\n",
       "      <th></th>\n",
       "      <th></th>\n",
       "      <th></th>\n",
       "      <th></th>\n",
       "      <th></th>\n",
       "      <th></th>\n",
       "      <th></th>\n",
       "      <th></th>\n",
       "      <th></th>\n",
       "      <th></th>\n",
       "      <th></th>\n",
       "      <th></th>\n",
       "      <th></th>\n",
       "    </tr>\n",
       "  </thead>\n",
       "  <tbody>\n",
       "    <tr>\n",
       "      <th>2022-07-01</th>\n",
       "      <td>586.000000</td>\n",
       "      <td>670.469910</td>\n",
       "      <td>81.550003</td>\n",
       "      <td>586.000000</td>\n",
       "      <td>673.450012</td>\n",
       "      <td>81.550003</td>\n",
       "      <td>590.000000</td>\n",
       "      <td>685.799988</td>\n",
       "      <td>91.250000</td>\n",
       "      <td>558.099976</td>\n",
       "      <td>666.000000</td>\n",
       "      <td>81.550003</td>\n",
       "      <td>571.000000</td>\n",
       "      <td>684.849976</td>\n",
       "      <td>88.050003</td>\n",
       "      <td>980990</td>\n",
       "      <td>4488771</td>\n",
       "      <td>26739501</td>\n",
       "    </tr>\n",
       "    <tr>\n",
       "      <th>2022-07-04</th>\n",
       "      <td>580.599976</td>\n",
       "      <td>678.882568</td>\n",
       "      <td>78.900002</td>\n",
       "      <td>580.599976</td>\n",
       "      <td>681.900024</td>\n",
       "      <td>78.900002</td>\n",
       "      <td>594.000000</td>\n",
       "      <td>685.500000</td>\n",
       "      <td>83.500000</td>\n",
       "      <td>575.500000</td>\n",
       "      <td>666.049988</td>\n",
       "      <td>77.500000</td>\n",
       "      <td>588.849976</td>\n",
       "      <td>670.500000</td>\n",
       "      <td>79.650002</td>\n",
       "      <td>649489</td>\n",
       "      <td>4229588</td>\n",
       "      <td>12083139</td>\n",
       "    </tr>\n",
       "    <tr>\n",
       "      <th>2022-07-05</th>\n",
       "      <td>582.049988</td>\n",
       "      <td>681.421265</td>\n",
       "      <td>77.150002</td>\n",
       "      <td>582.049988</td>\n",
       "      <td>684.450012</td>\n",
       "      <td>77.150002</td>\n",
       "      <td>592.000000</td>\n",
       "      <td>689.299988</td>\n",
       "      <td>81.449997</td>\n",
       "      <td>581.000000</td>\n",
       "      <td>680.049988</td>\n",
       "      <td>76.500000</td>\n",
       "      <td>592.000000</td>\n",
       "      <td>683.299988</td>\n",
       "      <td>79.949997</td>\n",
       "      <td>822251</td>\n",
       "      <td>3494504</td>\n",
       "      <td>7568790</td>\n",
       "    </tr>\n",
       "    <tr>\n",
       "      <th>2022-07-06</th>\n",
       "      <td>576.700012</td>\n",
       "      <td>690.879211</td>\n",
       "      <td>70.699997</td>\n",
       "      <td>576.700012</td>\n",
       "      <td>693.950012</td>\n",
       "      <td>70.699997</td>\n",
       "      <td>587.400024</td>\n",
       "      <td>694.950012</td>\n",
       "      <td>75.500000</td>\n",
       "      <td>574.000000</td>\n",
       "      <td>684.200012</td>\n",
       "      <td>69.500000</td>\n",
       "      <td>580.250000</td>\n",
       "      <td>684.500000</td>\n",
       "      <td>75.000000</td>\n",
       "      <td>1011855</td>\n",
       "      <td>4697006</td>\n",
       "      <td>15316422</td>\n",
       "    </tr>\n",
       "    <tr>\n",
       "      <th>2022-07-07</th>\n",
       "      <td>595.900024</td>\n",
       "      <td>683.760803</td>\n",
       "      <td>72.449997</td>\n",
       "      <td>595.900024</td>\n",
       "      <td>686.799988</td>\n",
       "      <td>72.449997</td>\n",
       "      <td>599.000000</td>\n",
       "      <td>696.500000</td>\n",
       "      <td>74.199997</td>\n",
       "      <td>580.000000</td>\n",
       "      <td>685.450012</td>\n",
       "      <td>69.250000</td>\n",
       "      <td>582.000000</td>\n",
       "      <td>692.000000</td>\n",
       "      <td>69.949997</td>\n",
       "      <td>1209630</td>\n",
       "      <td>3485283</td>\n",
       "      <td>11455011</td>\n",
       "    </tr>\n",
       "  </tbody>\n",
       "</table>\n",
       "</div>"
      ],
      "text/plain": [
       "             Adj Close                                Close                \\\n",
       "                AWL.NS BHARTIARTL.NS    MRPL.NS      AWL.NS BHARTIARTL.NS   \n",
       "Date                                                                        \n",
       "2022-07-01  586.000000    670.469910  81.550003  586.000000    673.450012   \n",
       "2022-07-04  580.599976    678.882568  78.900002  580.599976    681.900024   \n",
       "2022-07-05  582.049988    681.421265  77.150002  582.049988    684.450012   \n",
       "2022-07-06  576.700012    690.879211  70.699997  576.700012    693.950012   \n",
       "2022-07-07  595.900024    683.760803  72.449997  595.900024    686.799988   \n",
       "\n",
       "                             High                                  Low  \\\n",
       "              MRPL.NS      AWL.NS BHARTIARTL.NS    MRPL.NS      AWL.NS   \n",
       "Date                                                                     \n",
       "2022-07-01  81.550003  590.000000    685.799988  91.250000  558.099976   \n",
       "2022-07-04  78.900002  594.000000    685.500000  83.500000  575.500000   \n",
       "2022-07-05  77.150002  592.000000    689.299988  81.449997  581.000000   \n",
       "2022-07-06  70.699997  587.400024    694.950012  75.500000  574.000000   \n",
       "2022-07-07  72.449997  599.000000    696.500000  74.199997  580.000000   \n",
       "\n",
       "                                           Open                           \\\n",
       "           BHARTIARTL.NS    MRPL.NS      AWL.NS BHARTIARTL.NS    MRPL.NS   \n",
       "Date                                                                       \n",
       "2022-07-01    666.000000  81.550003  571.000000    684.849976  88.050003   \n",
       "2022-07-04    666.049988  77.500000  588.849976    670.500000  79.650002   \n",
       "2022-07-05    680.049988  76.500000  592.000000    683.299988  79.949997   \n",
       "2022-07-06    684.200012  69.500000  580.250000    684.500000  75.000000   \n",
       "2022-07-07    685.450012  69.250000  582.000000    692.000000  69.949997   \n",
       "\n",
       "             Volume                          \n",
       "             AWL.NS BHARTIARTL.NS   MRPL.NS  \n",
       "Date                                         \n",
       "2022-07-01   980990       4488771  26739501  \n",
       "2022-07-04   649489       4229588  12083139  \n",
       "2022-07-05   822251       3494504   7568790  \n",
       "2022-07-06  1011855       4697006  15316422  \n",
       "2022-07-07  1209630       3485283  11455011  "
      ]
     },
     "execution_count": 42,
     "metadata": {},
     "output_type": "execute_result"
    }
   ],
   "source": [
    "data.head()"
   ]
  },
  {
   "cell_type": "code",
   "execution_count": 43,
   "metadata": {},
   "outputs": [],
   "source": [
    "df = data['Adj Close']"
   ]
  },
  {
   "cell_type": "code",
   "execution_count": 44,
   "metadata": {},
   "outputs": [
    {
     "data": {
      "text/html": [
       "<div>\n",
       "<style scoped>\n",
       "    .dataframe tbody tr th:only-of-type {\n",
       "        vertical-align: middle;\n",
       "    }\n",
       "\n",
       "    .dataframe tbody tr th {\n",
       "        vertical-align: top;\n",
       "    }\n",
       "\n",
       "    .dataframe thead th {\n",
       "        text-align: right;\n",
       "    }\n",
       "</style>\n",
       "<table border=\"1\" class=\"dataframe\">\n",
       "  <thead>\n",
       "    <tr style=\"text-align: right;\">\n",
       "      <th></th>\n",
       "      <th>AWL.NS</th>\n",
       "      <th>BHARTIARTL.NS</th>\n",
       "      <th>MRPL.NS</th>\n",
       "    </tr>\n",
       "    <tr>\n",
       "      <th>Date</th>\n",
       "      <th></th>\n",
       "      <th></th>\n",
       "      <th></th>\n",
       "    </tr>\n",
       "  </thead>\n",
       "  <tbody>\n",
       "    <tr>\n",
       "      <th>2022-07-01</th>\n",
       "      <td>586.000000</td>\n",
       "      <td>670.469910</td>\n",
       "      <td>81.550003</td>\n",
       "    </tr>\n",
       "    <tr>\n",
       "      <th>2022-07-04</th>\n",
       "      <td>580.599976</td>\n",
       "      <td>678.882568</td>\n",
       "      <td>78.900002</td>\n",
       "    </tr>\n",
       "    <tr>\n",
       "      <th>2022-07-05</th>\n",
       "      <td>582.049988</td>\n",
       "      <td>681.421265</td>\n",
       "      <td>77.150002</td>\n",
       "    </tr>\n",
       "    <tr>\n",
       "      <th>2022-07-06</th>\n",
       "      <td>576.700012</td>\n",
       "      <td>690.879211</td>\n",
       "      <td>70.699997</td>\n",
       "    </tr>\n",
       "    <tr>\n",
       "      <th>2022-07-07</th>\n",
       "      <td>595.900024</td>\n",
       "      <td>683.760803</td>\n",
       "      <td>72.449997</td>\n",
       "    </tr>\n",
       "  </tbody>\n",
       "</table>\n",
       "</div>"
      ],
      "text/plain": [
       "                AWL.NS  BHARTIARTL.NS    MRPL.NS\n",
       "Date                                            \n",
       "2022-07-01  586.000000     670.469910  81.550003\n",
       "2022-07-04  580.599976     678.882568  78.900002\n",
       "2022-07-05  582.049988     681.421265  77.150002\n",
       "2022-07-06  576.700012     690.879211  70.699997\n",
       "2022-07-07  595.900024     683.760803  72.449997"
      ]
     },
     "execution_count": 44,
     "metadata": {},
     "output_type": "execute_result"
    }
   ],
   "source": [
    "df.head()"
   ]
  },
  {
   "cell_type": "code",
   "execution_count": 45,
   "metadata": {},
   "outputs": [
    {
     "data": {
      "text/plain": [
       "(41, 3)"
      ]
     },
     "execution_count": 45,
     "metadata": {},
     "output_type": "execute_result"
    }
   ],
   "source": [
    "df.shape"
   ]
  },
  {
   "cell_type": "code",
   "execution_count": 46,
   "metadata": {},
   "outputs": [
    {
     "data": {
      "text/plain": [
       "array([[586.        , 670.46990967,  81.55000305],\n",
       "       [580.59997559, 678.88256836,  78.90000153],\n",
       "       [582.04998779, 681.42126465,  77.15000153],\n",
       "       [576.70001221, 690.87921143,  70.69999695],\n",
       "       [595.90002441, 683.76080322,  72.44999695],\n",
       "       [588.29998779, 692.07391357,  71.94999695],\n",
       "       [617.65002441, 657.62695312,  71.90000153],\n",
       "       [648.29998779, 660.06616211,  71.75      ],\n",
       "       [639.        , 640.65246582,  71.25      ],\n",
       "       [627.84997559, 638.81066895,  71.75      ],\n",
       "       [623.70001221, 648.91571045,  71.09999847],\n",
       "       [623.5       , 660.11590576,  71.55000305],\n",
       "       [617.25      , 669.92236328,  72.69999695],\n",
       "       [614.04998779, 667.68231201,  76.30000305],\n",
       "       [615.        , 675.34820557,  73.5       ],\n",
       "       [611.54998779, 675.8460083 ,  72.40000153],\n",
       "       [622.29998779, 675.39801025,  73.25      ],\n",
       "       [634.04998779, 681.07275391,  73.94999695],\n",
       "       [645.65002441, 671.91351318,  72.84999847],\n",
       "       [645.45001221, 663.89910889,  74.59999847],\n",
       "       [658.79998779, 674.95001221,  72.80000305],\n",
       "       [691.70001221, 694.45001221,  73.40000153],\n",
       "       [709.84997559, 686.79998779,  72.84999847],\n",
       "       [697.90002441, 693.15002441,  72.25      ],\n",
       "       [692.79998779, 694.29998779,  72.44999695],\n",
       "       [674.5       , 703.65002441,  71.90000153],\n",
       "       [665.59997559, 704.34997559,  72.30000305],\n",
       "       [667.        , 715.25      ,  71.65000153],\n",
       "       [662.20001221, 709.79998779,  71.84999847],\n",
       "       [660.90002441, 709.70001221,  75.15000153],\n",
       "       [693.90002441, 704.09997559,  73.65000153],\n",
       "       [708.90002441, 722.95001221,  73.90000153],\n",
       "       [731.54998779, 733.20001221,  74.69999695],\n",
       "       [733.79998779, 732.29998779,  70.55000305],\n",
       "       [724.40002441, 727.59997559,  69.        ],\n",
       "       [690.04998779, 737.59997559,  72.69999695],\n",
       "       [677.90002441, 738.75      ,  74.30000305],\n",
       "       [686.04998779, 741.        ,  74.09999847],\n",
       "       [682.65002441, 730.84997559,  73.09999847],\n",
       "       [683.20001221, 720.59997559,  72.34999847],\n",
       "       [692.15002441, 726.59997559,  73.        ]])"
      ]
     },
     "execution_count": 46,
     "metadata": {},
     "output_type": "execute_result"
    }
   ],
   "source": [
    "B = df.values\n",
    "B"
   ]
  },
  {
   "cell_type": "code",
   "execution_count": 47,
   "metadata": {},
   "outputs": [
    {
     "data": {
      "text/plain": [
       "(41, 3)"
      ]
     },
     "execution_count": 47,
     "metadata": {},
     "output_type": "execute_result"
    }
   ],
   "source": [
    "B.shape"
   ]
  },
  {
   "cell_type": "code",
   "execution_count": 48,
   "metadata": {},
   "outputs": [
    {
     "data": {
      "text/plain": [
       "AWL.NS           0\n",
       "BHARTIARTL.NS    0\n",
       "MRPL.NS          0\n",
       "dtype: int64"
      ]
     },
     "execution_count": 48,
     "metadata": {},
     "output_type": "execute_result"
    }
   ],
   "source": [
    "df.isnull().sum()"
   ]
  },
  {
   "cell_type": "code",
   "execution_count": 49,
   "metadata": {},
   "outputs": [
    {
     "data": {
      "text/plain": [
       "array([[1939.02202465,  835.31221363,  -32.43026331],\n",
       "       [ 835.31221363,  805.73026077,   -3.71389027],\n",
       "       [ -32.43026331,   -3.71389027,    4.9787403 ]])"
      ]
     },
     "execution_count": 49,
     "metadata": {},
     "output_type": "execute_result"
    }
   ],
   "source": [
    "Q = np.cov(B.T)\n",
    "Q"
   ]
  },
  {
   "cell_type": "code",
   "execution_count": 50,
   "metadata": {},
   "outputs": [
    {
     "data": {
      "text/plain": [
       "array([-0.16648294, -0.08039726,  0.11075693])"
      ]
     },
     "execution_count": 50,
     "metadata": {},
     "output_type": "execute_result"
    }
   ],
   "source": [
    "c = np.array([[0] for i in range (3)])\n",
    "m = -np.log(np.array([B[-1][i]/B[0][i] for i in range (3)]))\n",
    "m"
   ]
  },
  {
   "cell_type": "code",
   "execution_count": 51,
   "metadata": {},
   "outputs": [],
   "source": [
    "a = 0.052 #B20AI052"
   ]
  },
  {
   "cell_type": "code",
   "execution_count": 52,
   "metadata": {},
   "outputs": [
    {
     "data": {
      "text/plain": [
       "(3, 4)"
      ]
     },
     "execution_count": 52,
     "metadata": {},
     "output_type": "execute_result"
    }
   ],
   "source": [
    "A = np.column_stack((m, np.negative(np.identity(3, dtype = 'int'))))\n",
    "b = np.array([-a]+[0]*3)\n",
    "Aeq = np.array([[1]*3])\n",
    "beq = np.array([[1]])\n",
    "A.shape"
   ]
  },
  {
   "cell_type": "code",
   "execution_count": 53,
   "metadata": {},
   "outputs": [
    {
     "data": {
      "text/plain": [
       "(4, 3)"
      ]
     },
     "execution_count": 53,
     "metadata": {},
     "output_type": "execute_result"
    }
   ],
   "source": [
    "A = A.T\n",
    "A.shape"
   ]
  },
  {
   "cell_type": "code",
   "execution_count": 54,
   "metadata": {},
   "outputs": [
    {
     "name": "stdout",
     "output_type": "stream",
     "text": [
      "     pcost       dcost       gap    pres   dres\n",
      " 0:  2.0749e+00  1.4067e+00  9e+00  2e+00  4e+00\n",
      " 1:  2.0771e+00  2.1055e+00  1e+00  3e-01  5e-01\n",
      " 2:  2.1939e+00  1.1420e+01  1e+00  3e-01  5e-01\n",
      " 3:  4.2241e+02  2.3504e+02  5e+02  2e-01  2e-01\n",
      " 4:  2.7464e+02  2.3540e+02  4e+01  3e-14  8e-14\n",
      " 5:  2.5685e+02  2.5621e+02  6e-01  4e-16  1e-13\n",
      " 6:  2.5651e+02  2.5651e+02  6e-03  8e-17  1e-13\n",
      " 7:  2.5651e+02  2.5651e+02  6e-05  2e-16  3e-13\n",
      "Optimal solution found.\n",
      "[ 2.43e-01]\n",
      "[ 4.99e-01]\n",
      "[ 2.58e-01]\n",
      "\n"
     ]
    }
   ],
   "source": [
    "sol = cp.solvers.qp(cp.matrix(Q, tc='d'), cp.matrix(c, tc='d'), cp.matrix(A, tc='d'), cp.matrix(b, tc='d'), cp.matrix(Aeq, tc='d'), cp.matrix(beq, tc='d'))\n",
    "print(sol['x'])"
   ]
  },
  {
   "cell_type": "code",
   "execution_count": 55,
   "metadata": {},
   "outputs": [
    {
     "name": "stdout",
     "output_type": "stream",
     "text": [
      "After rounding upto 5 decimal places: \n",
      "0.24325\n",
      "0.49864\n",
      "0.2581\n",
      "The minimum variance portfolio is:  256.50975307372664\n"
     ]
    }
   ],
   "source": [
    "print(\"After rounding upto 5 decimal places: \")\n",
    "for i in range(3):\n",
    "    print(round(sol['x'][i], 5))\n",
    "\n",
    "print(\"The minimum variance portfolio is: \", sol['primal objective'])"
   ]
  },
  {
   "cell_type": "markdown",
   "metadata": {},
   "source": [
    "### Question 2"
   ]
  },
  {
   "cell_type": "markdown",
   "metadata": {},
   "source": [
    "Looking Daily Close Price Historical Data from 1 July, 2022 to 31 August, 2022 for 3 stocks. (Adani (AWL), MRPL, Bharti Airtel, HDFC bank, ITC)"
   ]
  },
  {
   "cell_type": "code",
   "execution_count": 56,
   "metadata": {},
   "outputs": [
    {
     "name": "stdout",
     "output_type": "stream",
     "text": [
      "[*********************100%***********************]  5 of 5 completed\n"
     ]
    }
   ],
   "source": [
    "data2 = yf.download(\"AWL.NS MRPL.NS BHARTIARTL.NS HDFCBANK.NS ITC.NS\", start=\"2022-07-01\", end=\"2022-08-31\")"
   ]
  },
  {
   "cell_type": "code",
   "execution_count": 57,
   "metadata": {},
   "outputs": [
    {
     "data": {
      "text/html": [
       "<div>\n",
       "<style scoped>\n",
       "    .dataframe tbody tr th:only-of-type {\n",
       "        vertical-align: middle;\n",
       "    }\n",
       "\n",
       "    .dataframe tbody tr th {\n",
       "        vertical-align: top;\n",
       "    }\n",
       "\n",
       "    .dataframe thead tr th {\n",
       "        text-align: left;\n",
       "    }\n",
       "\n",
       "    .dataframe thead tr:last-of-type th {\n",
       "        text-align: right;\n",
       "    }\n",
       "</style>\n",
       "<table border=\"1\" class=\"dataframe\">\n",
       "  <thead>\n",
       "    <tr>\n",
       "      <th></th>\n",
       "      <th colspan=\"5\" halign=\"left\">Adj Close</th>\n",
       "      <th colspan=\"5\" halign=\"left\">Close</th>\n",
       "      <th>...</th>\n",
       "      <th colspan=\"5\" halign=\"left\">Open</th>\n",
       "      <th colspan=\"5\" halign=\"left\">Volume</th>\n",
       "    </tr>\n",
       "    <tr>\n",
       "      <th></th>\n",
       "      <th>AWL.NS</th>\n",
       "      <th>BHARTIARTL.NS</th>\n",
       "      <th>HDFCBANK.NS</th>\n",
       "      <th>ITC.NS</th>\n",
       "      <th>MRPL.NS</th>\n",
       "      <th>AWL.NS</th>\n",
       "      <th>BHARTIARTL.NS</th>\n",
       "      <th>HDFCBANK.NS</th>\n",
       "      <th>ITC.NS</th>\n",
       "      <th>MRPL.NS</th>\n",
       "      <th>...</th>\n",
       "      <th>AWL.NS</th>\n",
       "      <th>BHARTIARTL.NS</th>\n",
       "      <th>HDFCBANK.NS</th>\n",
       "      <th>ITC.NS</th>\n",
       "      <th>MRPL.NS</th>\n",
       "      <th>AWL.NS</th>\n",
       "      <th>BHARTIARTL.NS</th>\n",
       "      <th>HDFCBANK.NS</th>\n",
       "      <th>ITC.NS</th>\n",
       "      <th>MRPL.NS</th>\n",
       "    </tr>\n",
       "    <tr>\n",
       "      <th>Date</th>\n",
       "      <th></th>\n",
       "      <th></th>\n",
       "      <th></th>\n",
       "      <th></th>\n",
       "      <th></th>\n",
       "      <th></th>\n",
       "      <th></th>\n",
       "      <th></th>\n",
       "      <th></th>\n",
       "      <th></th>\n",
       "      <th></th>\n",
       "      <th></th>\n",
       "      <th></th>\n",
       "      <th></th>\n",
       "      <th></th>\n",
       "      <th></th>\n",
       "      <th></th>\n",
       "      <th></th>\n",
       "      <th></th>\n",
       "      <th></th>\n",
       "      <th></th>\n",
       "    </tr>\n",
       "  </thead>\n",
       "  <tbody>\n",
       "    <tr>\n",
       "      <th>2022-07-01</th>\n",
       "      <td>586.000000</td>\n",
       "      <td>670.469910</td>\n",
       "      <td>1353.750000</td>\n",
       "      <td>284.350006</td>\n",
       "      <td>81.550003</td>\n",
       "      <td>586.000000</td>\n",
       "      <td>673.450012</td>\n",
       "      <td>1353.750000</td>\n",
       "      <td>284.350006</td>\n",
       "      <td>81.550003</td>\n",
       "      <td>...</td>\n",
       "      <td>571.000000</td>\n",
       "      <td>684.849976</td>\n",
       "      <td>1343.949951</td>\n",
       "      <td>273.500000</td>\n",
       "      <td>88.050003</td>\n",
       "      <td>980990</td>\n",
       "      <td>4488771</td>\n",
       "      <td>5736226</td>\n",
       "      <td>35165665</td>\n",
       "      <td>26739501</td>\n",
       "    </tr>\n",
       "    <tr>\n",
       "      <th>2022-07-04</th>\n",
       "      <td>580.599976</td>\n",
       "      <td>678.882568</td>\n",
       "      <td>1355.650024</td>\n",
       "      <td>291.899994</td>\n",
       "      <td>78.900002</td>\n",
       "      <td>580.599976</td>\n",
       "      <td>681.900024</td>\n",
       "      <td>1355.650024</td>\n",
       "      <td>291.899994</td>\n",
       "      <td>78.900002</td>\n",
       "      <td>...</td>\n",
       "      <td>588.849976</td>\n",
       "      <td>670.500000</td>\n",
       "      <td>1353.699951</td>\n",
       "      <td>285.649994</td>\n",
       "      <td>79.650002</td>\n",
       "      <td>649489</td>\n",
       "      <td>4229588</td>\n",
       "      <td>4243740</td>\n",
       "      <td>39881736</td>\n",
       "      <td>12083139</td>\n",
       "    </tr>\n",
       "    <tr>\n",
       "      <th>2022-07-05</th>\n",
       "      <td>582.049988</td>\n",
       "      <td>681.421265</td>\n",
       "      <td>1352.599976</td>\n",
       "      <td>286.899994</td>\n",
       "      <td>77.150002</td>\n",
       "      <td>582.049988</td>\n",
       "      <td>684.450012</td>\n",
       "      <td>1352.599976</td>\n",
       "      <td>286.899994</td>\n",
       "      <td>77.150002</td>\n",
       "      <td>...</td>\n",
       "      <td>592.000000</td>\n",
       "      <td>683.299988</td>\n",
       "      <td>1364.000000</td>\n",
       "      <td>293.000000</td>\n",
       "      <td>79.949997</td>\n",
       "      <td>822251</td>\n",
       "      <td>3494504</td>\n",
       "      <td>7162859</td>\n",
       "      <td>18568655</td>\n",
       "      <td>7568790</td>\n",
       "    </tr>\n",
       "    <tr>\n",
       "      <th>2022-07-06</th>\n",
       "      <td>576.700012</td>\n",
       "      <td>690.879211</td>\n",
       "      <td>1371.250000</td>\n",
       "      <td>289.299988</td>\n",
       "      <td>70.699997</td>\n",
       "      <td>576.700012</td>\n",
       "      <td>693.950012</td>\n",
       "      <td>1371.250000</td>\n",
       "      <td>289.299988</td>\n",
       "      <td>70.699997</td>\n",
       "      <td>...</td>\n",
       "      <td>580.250000</td>\n",
       "      <td>684.500000</td>\n",
       "      <td>1348.000000</td>\n",
       "      <td>286.100006</td>\n",
       "      <td>75.000000</td>\n",
       "      <td>1011855</td>\n",
       "      <td>4697006</td>\n",
       "      <td>7524539</td>\n",
       "      <td>18292925</td>\n",
       "      <td>15316422</td>\n",
       "    </tr>\n",
       "    <tr>\n",
       "      <th>2022-07-07</th>\n",
       "      <td>595.900024</td>\n",
       "      <td>683.760803</td>\n",
       "      <td>1395.800049</td>\n",
       "      <td>291.950012</td>\n",
       "      <td>72.449997</td>\n",
       "      <td>595.900024</td>\n",
       "      <td>686.799988</td>\n",
       "      <td>1395.800049</td>\n",
       "      <td>291.950012</td>\n",
       "      <td>72.449997</td>\n",
       "      <td>...</td>\n",
       "      <td>582.000000</td>\n",
       "      <td>692.000000</td>\n",
       "      <td>1380.000000</td>\n",
       "      <td>291.000000</td>\n",
       "      <td>69.949997</td>\n",
       "      <td>1209630</td>\n",
       "      <td>3485283</td>\n",
       "      <td>8871571</td>\n",
       "      <td>13794991</td>\n",
       "      <td>11455011</td>\n",
       "    </tr>\n",
       "  </tbody>\n",
       "</table>\n",
       "<p>5 rows × 30 columns</p>\n",
       "</div>"
      ],
      "text/plain": [
       "             Adj Close                                                    \\\n",
       "                AWL.NS BHARTIARTL.NS  HDFCBANK.NS      ITC.NS    MRPL.NS   \n",
       "Date                                                                       \n",
       "2022-07-01  586.000000    670.469910  1353.750000  284.350006  81.550003   \n",
       "2022-07-04  580.599976    678.882568  1355.650024  291.899994  78.900002   \n",
       "2022-07-05  582.049988    681.421265  1352.599976  286.899994  77.150002   \n",
       "2022-07-06  576.700012    690.879211  1371.250000  289.299988  70.699997   \n",
       "2022-07-07  595.900024    683.760803  1395.800049  291.950012  72.449997   \n",
       "\n",
       "                 Close                                                    ...  \\\n",
       "                AWL.NS BHARTIARTL.NS  HDFCBANK.NS      ITC.NS    MRPL.NS  ...   \n",
       "Date                                                                      ...   \n",
       "2022-07-01  586.000000    673.450012  1353.750000  284.350006  81.550003  ...   \n",
       "2022-07-04  580.599976    681.900024  1355.650024  291.899994  78.900002  ...   \n",
       "2022-07-05  582.049988    684.450012  1352.599976  286.899994  77.150002  ...   \n",
       "2022-07-06  576.700012    693.950012  1371.250000  289.299988  70.699997  ...   \n",
       "2022-07-07  595.900024    686.799988  1395.800049  291.950012  72.449997  ...   \n",
       "\n",
       "                  Open                                                    \\\n",
       "                AWL.NS BHARTIARTL.NS  HDFCBANK.NS      ITC.NS    MRPL.NS   \n",
       "Date                                                                       \n",
       "2022-07-01  571.000000    684.849976  1343.949951  273.500000  88.050003   \n",
       "2022-07-04  588.849976    670.500000  1353.699951  285.649994  79.650002   \n",
       "2022-07-05  592.000000    683.299988  1364.000000  293.000000  79.949997   \n",
       "2022-07-06  580.250000    684.500000  1348.000000  286.100006  75.000000   \n",
       "2022-07-07  582.000000    692.000000  1380.000000  291.000000  69.949997   \n",
       "\n",
       "             Volume                                                \n",
       "             AWL.NS BHARTIARTL.NS HDFCBANK.NS    ITC.NS   MRPL.NS  \n",
       "Date                                                               \n",
       "2022-07-01   980990       4488771     5736226  35165665  26739501  \n",
       "2022-07-04   649489       4229588     4243740  39881736  12083139  \n",
       "2022-07-05   822251       3494504     7162859  18568655   7568790  \n",
       "2022-07-06  1011855       4697006     7524539  18292925  15316422  \n",
       "2022-07-07  1209630       3485283     8871571  13794991  11455011  \n",
       "\n",
       "[5 rows x 30 columns]"
      ]
     },
     "execution_count": 57,
     "metadata": {},
     "output_type": "execute_result"
    }
   ],
   "source": [
    "data2.head()"
   ]
  },
  {
   "cell_type": "code",
   "execution_count": 58,
   "metadata": {},
   "outputs": [
    {
     "data": {
      "text/html": [
       "<div>\n",
       "<style scoped>\n",
       "    .dataframe tbody tr th:only-of-type {\n",
       "        vertical-align: middle;\n",
       "    }\n",
       "\n",
       "    .dataframe tbody tr th {\n",
       "        vertical-align: top;\n",
       "    }\n",
       "\n",
       "    .dataframe thead th {\n",
       "        text-align: right;\n",
       "    }\n",
       "</style>\n",
       "<table border=\"1\" class=\"dataframe\">\n",
       "  <thead>\n",
       "    <tr style=\"text-align: right;\">\n",
       "      <th></th>\n",
       "      <th>AWL.NS</th>\n",
       "      <th>BHARTIARTL.NS</th>\n",
       "      <th>HDFCBANK.NS</th>\n",
       "      <th>ITC.NS</th>\n",
       "      <th>MRPL.NS</th>\n",
       "    </tr>\n",
       "    <tr>\n",
       "      <th>Date</th>\n",
       "      <th></th>\n",
       "      <th></th>\n",
       "      <th></th>\n",
       "      <th></th>\n",
       "      <th></th>\n",
       "    </tr>\n",
       "  </thead>\n",
       "  <tbody>\n",
       "    <tr>\n",
       "      <th>2022-07-01</th>\n",
       "      <td>586.000000</td>\n",
       "      <td>670.469910</td>\n",
       "      <td>1353.750000</td>\n",
       "      <td>284.350006</td>\n",
       "      <td>81.550003</td>\n",
       "    </tr>\n",
       "    <tr>\n",
       "      <th>2022-07-04</th>\n",
       "      <td>580.599976</td>\n",
       "      <td>678.882568</td>\n",
       "      <td>1355.650024</td>\n",
       "      <td>291.899994</td>\n",
       "      <td>78.900002</td>\n",
       "    </tr>\n",
       "    <tr>\n",
       "      <th>2022-07-05</th>\n",
       "      <td>582.049988</td>\n",
       "      <td>681.421265</td>\n",
       "      <td>1352.599976</td>\n",
       "      <td>286.899994</td>\n",
       "      <td>77.150002</td>\n",
       "    </tr>\n",
       "    <tr>\n",
       "      <th>2022-07-06</th>\n",
       "      <td>576.700012</td>\n",
       "      <td>690.879211</td>\n",
       "      <td>1371.250000</td>\n",
       "      <td>289.299988</td>\n",
       "      <td>70.699997</td>\n",
       "    </tr>\n",
       "    <tr>\n",
       "      <th>2022-07-07</th>\n",
       "      <td>595.900024</td>\n",
       "      <td>683.760803</td>\n",
       "      <td>1395.800049</td>\n",
       "      <td>291.950012</td>\n",
       "      <td>72.449997</td>\n",
       "    </tr>\n",
       "  </tbody>\n",
       "</table>\n",
       "</div>"
      ],
      "text/plain": [
       "                AWL.NS  BHARTIARTL.NS  HDFCBANK.NS      ITC.NS    MRPL.NS\n",
       "Date                                                                     \n",
       "2022-07-01  586.000000     670.469910  1353.750000  284.350006  81.550003\n",
       "2022-07-04  580.599976     678.882568  1355.650024  291.899994  78.900002\n",
       "2022-07-05  582.049988     681.421265  1352.599976  286.899994  77.150002\n",
       "2022-07-06  576.700012     690.879211  1371.250000  289.299988  70.699997\n",
       "2022-07-07  595.900024     683.760803  1395.800049  291.950012  72.449997"
      ]
     },
     "execution_count": 58,
     "metadata": {},
     "output_type": "execute_result"
    }
   ],
   "source": [
    "df2 = data2['Adj Close']\n",
    "df2.head()"
   ]
  },
  {
   "cell_type": "code",
   "execution_count": 60,
   "metadata": {},
   "outputs": [
    {
     "data": {
      "text/plain": [
       "(41, 5)"
      ]
     },
     "execution_count": 60,
     "metadata": {},
     "output_type": "execute_result"
    }
   ],
   "source": [
    "B2 = df2.values\n",
    "B2.shape"
   ]
  },
  {
   "cell_type": "code",
   "execution_count": 61,
   "metadata": {},
   "outputs": [
    {
     "data": {
      "text/plain": [
       "AWL.NS           0\n",
       "BHARTIARTL.NS    0\n",
       "HDFCBANK.NS      0\n",
       "ITC.NS           0\n",
       "MRPL.NS          0\n",
       "dtype: int64"
      ]
     },
     "execution_count": 61,
     "metadata": {},
     "output_type": "execute_result"
    }
   ],
   "source": [
    "df2.isnull().sum()"
   ]
  },
  {
   "cell_type": "code",
   "execution_count": 62,
   "metadata": {},
   "outputs": [
    {
     "data": {
      "text/plain": [
       "array([[1939.02202465,  835.31221363, 1906.71810207,  370.92534766,\n",
       "         -32.43026331],\n",
       "       [ 835.31221363,  805.73026077, 1228.35855652,  216.76651072,\n",
       "          -3.71389027],\n",
       "       [1906.71810207, 1228.35855652, 2679.57863912,  432.02279289,\n",
       "         -21.88146428],\n",
       "       [ 370.92534766,  216.76651072,  432.02279289,   90.30886899,\n",
       "          -5.56630949],\n",
       "       [ -32.43026331,   -3.71389027,  -21.88146428,   -5.56630949,\n",
       "           4.9787403 ]])"
      ]
     },
     "execution_count": 62,
     "metadata": {},
     "output_type": "execute_result"
    }
   ],
   "source": [
    "Q2 = np.cov(B2.T)\n",
    "Q2"
   ]
  },
  {
   "cell_type": "code",
   "execution_count": 63,
   "metadata": {},
   "outputs": [
    {
     "data": {
      "text/plain": [
       "array([-0.16648294, -0.08039726, -0.0932767 , -0.11967638,  0.11075693])"
      ]
     },
     "execution_count": 63,
     "metadata": {},
     "output_type": "execute_result"
    }
   ],
   "source": [
    "c2 = np.array([[0] for i in range (5)])\n",
    "m2 = -np.log(np.array([B2[-1][i]/B2[0][i] for i in range (5)]))\n",
    "m2"
   ]
  },
  {
   "cell_type": "code",
   "execution_count": 64,
   "metadata": {},
   "outputs": [],
   "source": [
    "a = 0.052 #B20AI052"
   ]
  },
  {
   "cell_type": "code",
   "execution_count": 65,
   "metadata": {},
   "outputs": [
    {
     "data": {
      "text/plain": [
       "(5, 6)"
      ]
     },
     "execution_count": 65,
     "metadata": {},
     "output_type": "execute_result"
    }
   ],
   "source": [
    "A2 = np.column_stack((m2, np.negative(np.identity(5, dtype = 'int'))))\n",
    "b2 = np.array([-a]+[0]*5)\n",
    "Aeq2 = np.array([[1]*5])\n",
    "beq2 = np.array([[1]])\n",
    "A2.shape"
   ]
  },
  {
   "cell_type": "code",
   "execution_count": 66,
   "metadata": {},
   "outputs": [
    {
     "data": {
      "text/plain": [
       "(6, 5)"
      ]
     },
     "execution_count": 66,
     "metadata": {},
     "output_type": "execute_result"
    }
   ],
   "source": [
    "A2 = A2.T\n",
    "A2.shape"
   ]
  },
  {
   "cell_type": "code",
   "execution_count": 67,
   "metadata": {},
   "outputs": [
    {
     "name": "stdout",
     "output_type": "stream",
     "text": [
      "     pcost       dcost       gap    pres   dres\n",
      " 0:  1.5853e+00  7.0216e-01  1e+01  3e+00  4e+00\n",
      " 1:  1.5951e+00  1.3359e+00  1e+00  3e-01  5e-01\n",
      " 2:  2.9900e+00  4.9181e+00  3e+00  2e-01  3e-01\n",
      " 3:  3.5158e+00  6.1815e+00  2e+00  1e-01  2e-01\n",
      " 4:  7.0754e+00  1.6657e+01  6e+00  9e-02  1e-01\n",
      " 5:  1.9774e+01  2.1503e+01  7e-01  8e-03  1e-02\n",
      " 6:  2.1569e+01  2.1586e+01  8e-03  7e-05  1e-04\n",
      " 7:  2.1586e+01  2.1586e+01  8e-05  7e-07  1e-06\n",
      " 8:  2.1586e+01  2.1586e+01  8e-07  7e-09  1e-08\n",
      "Optimal solution found.\n",
      "[-2.69e-09]\n",
      "[-8.79e-10]\n",
      "[-1.23e-09]\n",
      "[ 7.06e-01]\n",
      "[ 2.94e-01]\n",
      "\n"
     ]
    }
   ],
   "source": [
    "sol = cp.solvers.qp(cp.matrix(Q2, tc='d'), cp.matrix(c2, tc='d'), cp.matrix(A2, tc='d'), cp.matrix(b2, tc='d'), cp.matrix(Aeq2, tc='d'), cp.matrix(beq2, tc='d'))\n",
    "print(sol['x'])"
   ]
  },
  {
   "cell_type": "code",
   "execution_count": 68,
   "metadata": {},
   "outputs": [
    {
     "name": "stdout",
     "output_type": "stream",
     "text": [
      "After rounding upto 5 decimal places: \n",
      "-0.0\n",
      "-0.0\n",
      "-0.0\n",
      "0.70631\n",
      "0.29369\n",
      "The minimum variance portfolio is:  21.586308289756108\n"
     ]
    }
   ],
   "source": [
    "print(\"After rounding upto 5 decimal places: \")\n",
    "for i in range(5):\n",
    "    print(round(sol['x'][i], 5))\n",
    "\n",
    "print(\"The minimum variance portfolio is: \", sol['primal objective'])"
   ]
  },
  {
   "cell_type": "markdown",
   "metadata": {},
   "source": [
    "### Question 3"
   ]
  },
  {
   "cell_type": "markdown",
   "metadata": {},
   "source": [
    "Looking Daily Close Price Historical Data from 1 May, 2022 to 31 August, 2022 for 5 stocks. (Adani (AWL), MRPL, Bharti Airtel, HDFC bank, ITC)"
   ]
  },
  {
   "cell_type": "code",
   "execution_count": 69,
   "metadata": {},
   "outputs": [
    {
     "name": "stdout",
     "output_type": "stream",
     "text": [
      "[*********************100%***********************]  5 of 5 completed\n"
     ]
    }
   ],
   "source": [
    "data3 = yf.download(\"AWL.NS MRPL.NS BHARTIARTL.NS HDFCBANK.NS ITC.NS ITC.NS\", start=\"2022-05-01\", end=\"2022-08-31\")"
   ]
  },
  {
   "cell_type": "code",
   "execution_count": 70,
   "metadata": {},
   "outputs": [
    {
     "data": {
      "text/html": [
       "<div>\n",
       "<style scoped>\n",
       "    .dataframe tbody tr th:only-of-type {\n",
       "        vertical-align: middle;\n",
       "    }\n",
       "\n",
       "    .dataframe tbody tr th {\n",
       "        vertical-align: top;\n",
       "    }\n",
       "\n",
       "    .dataframe thead tr th {\n",
       "        text-align: left;\n",
       "    }\n",
       "\n",
       "    .dataframe thead tr:last-of-type th {\n",
       "        text-align: right;\n",
       "    }\n",
       "</style>\n",
       "<table border=\"1\" class=\"dataframe\">\n",
       "  <thead>\n",
       "    <tr>\n",
       "      <th></th>\n",
       "      <th colspan=\"5\" halign=\"left\">Adj Close</th>\n",
       "      <th colspan=\"5\" halign=\"left\">Close</th>\n",
       "      <th>...</th>\n",
       "      <th colspan=\"5\" halign=\"left\">Open</th>\n",
       "      <th colspan=\"5\" halign=\"left\">Volume</th>\n",
       "    </tr>\n",
       "    <tr>\n",
       "      <th></th>\n",
       "      <th>AWL.NS</th>\n",
       "      <th>BHARTIARTL.NS</th>\n",
       "      <th>HDFCBANK.NS</th>\n",
       "      <th>ITC.NS</th>\n",
       "      <th>MRPL.NS</th>\n",
       "      <th>AWL.NS</th>\n",
       "      <th>BHARTIARTL.NS</th>\n",
       "      <th>HDFCBANK.NS</th>\n",
       "      <th>ITC.NS</th>\n",
       "      <th>MRPL.NS</th>\n",
       "      <th>...</th>\n",
       "      <th>AWL.NS</th>\n",
       "      <th>BHARTIARTL.NS</th>\n",
       "      <th>HDFCBANK.NS</th>\n",
       "      <th>ITC.NS</th>\n",
       "      <th>MRPL.NS</th>\n",
       "      <th>AWL.NS</th>\n",
       "      <th>BHARTIARTL.NS</th>\n",
       "      <th>HDFCBANK.NS</th>\n",
       "      <th>ITC.NS</th>\n",
       "      <th>MRPL.NS</th>\n",
       "    </tr>\n",
       "    <tr>\n",
       "      <th>Date</th>\n",
       "      <th></th>\n",
       "      <th></th>\n",
       "      <th></th>\n",
       "      <th></th>\n",
       "      <th></th>\n",
       "      <th></th>\n",
       "      <th></th>\n",
       "      <th></th>\n",
       "      <th></th>\n",
       "      <th></th>\n",
       "      <th></th>\n",
       "      <th></th>\n",
       "      <th></th>\n",
       "      <th></th>\n",
       "      <th></th>\n",
       "      <th></th>\n",
       "      <th></th>\n",
       "      <th></th>\n",
       "      <th></th>\n",
       "      <th></th>\n",
       "      <th></th>\n",
       "    </tr>\n",
       "  </thead>\n",
       "  <tbody>\n",
       "    <tr>\n",
       "      <th>2022-05-02</th>\n",
       "      <td>753.599976</td>\n",
       "      <td>738.069397</td>\n",
       "      <td>1387.566650</td>\n",
       "      <td>257.118866</td>\n",
       "      <td>79.849998</td>\n",
       "      <td>753.599976</td>\n",
       "      <td>741.349976</td>\n",
       "      <td>1403.699951</td>\n",
       "      <td>263.149994</td>\n",
       "      <td>79.849998</td>\n",
       "      <td>...</td>\n",
       "      <td>758.000000</td>\n",
       "      <td>734.000000</td>\n",
       "      <td>1362.050049</td>\n",
       "      <td>258.000000</td>\n",
       "      <td>73.699997</td>\n",
       "      <td>11750710</td>\n",
       "      <td>3938533</td>\n",
       "      <td>9747158</td>\n",
       "      <td>18965820</td>\n",
       "      <td>28382804</td>\n",
       "    </tr>\n",
       "    <tr>\n",
       "      <th>2022-05-04</th>\n",
       "      <td>715.950012</td>\n",
       "      <td>719.203308</td>\n",
       "      <td>1340.414917</td>\n",
       "      <td>253.796799</td>\n",
       "      <td>78.949997</td>\n",
       "      <td>715.950012</td>\n",
       "      <td>722.400024</td>\n",
       "      <td>1356.000000</td>\n",
       "      <td>259.750000</td>\n",
       "      <td>78.949997</td>\n",
       "      <td>...</td>\n",
       "      <td>745.000000</td>\n",
       "      <td>737.000000</td>\n",
       "      <td>1400.000000</td>\n",
       "      <td>264.000000</td>\n",
       "      <td>80.250000</td>\n",
       "      <td>12572099</td>\n",
       "      <td>6785271</td>\n",
       "      <td>14527958</td>\n",
       "      <td>25951999</td>\n",
       "      <td>31101904</td>\n",
       "    </tr>\n",
       "    <tr>\n",
       "      <th>2022-05-05</th>\n",
       "      <td>680.200012</td>\n",
       "      <td>715.768555</td>\n",
       "      <td>1337.400024</td>\n",
       "      <td>256.044067</td>\n",
       "      <td>76.750000</td>\n",
       "      <td>680.200012</td>\n",
       "      <td>718.950012</td>\n",
       "      <td>1352.949951</td>\n",
       "      <td>262.049988</td>\n",
       "      <td>76.750000</td>\n",
       "      <td>...</td>\n",
       "      <td>681.000000</td>\n",
       "      <td>726.000000</td>\n",
       "      <td>1375.000000</td>\n",
       "      <td>262.000000</td>\n",
       "      <td>79.800003</td>\n",
       "      <td>1088061</td>\n",
       "      <td>4836692</td>\n",
       "      <td>8931456</td>\n",
       "      <td>17932895</td>\n",
       "      <td>16541802</td>\n",
       "    </tr>\n",
       "    <tr>\n",
       "      <th>2022-05-06</th>\n",
       "      <td>646.200012</td>\n",
       "      <td>707.107056</td>\n",
       "      <td>1302.456299</td>\n",
       "      <td>260.538666</td>\n",
       "      <td>77.849998</td>\n",
       "      <td>646.200012</td>\n",
       "      <td>710.250000</td>\n",
       "      <td>1317.599976</td>\n",
       "      <td>266.649994</td>\n",
       "      <td>77.849998</td>\n",
       "      <td>...</td>\n",
       "      <td>646.200012</td>\n",
       "      <td>711.250000</td>\n",
       "      <td>1330.000000</td>\n",
       "      <td>259.000000</td>\n",
       "      <td>75.000000</td>\n",
       "      <td>2695071</td>\n",
       "      <td>5912312</td>\n",
       "      <td>13365634</td>\n",
       "      <td>34490123</td>\n",
       "      <td>16431211</td>\n",
       "    </tr>\n",
       "    <tr>\n",
       "      <th>2022-05-09</th>\n",
       "      <td>613.900024</td>\n",
       "      <td>708.351562</td>\n",
       "      <td>1304.680420</td>\n",
       "      <td>256.923462</td>\n",
       "      <td>73.650002</td>\n",
       "      <td>613.900024</td>\n",
       "      <td>711.500000</td>\n",
       "      <td>1319.849976</td>\n",
       "      <td>262.950012</td>\n",
       "      <td>73.650002</td>\n",
       "      <td>...</td>\n",
       "      <td>613.900024</td>\n",
       "      <td>706.099976</td>\n",
       "      <td>1300.000000</td>\n",
       "      <td>266.149994</td>\n",
       "      <td>78.000000</td>\n",
       "      <td>624222</td>\n",
       "      <td>4819274</td>\n",
       "      <td>16381217</td>\n",
       "      <td>21403710</td>\n",
       "      <td>11232270</td>\n",
       "    </tr>\n",
       "  </tbody>\n",
       "</table>\n",
       "<p>5 rows × 30 columns</p>\n",
       "</div>"
      ],
      "text/plain": [
       "             Adj Close                                                    \\\n",
       "                AWL.NS BHARTIARTL.NS  HDFCBANK.NS      ITC.NS    MRPL.NS   \n",
       "Date                                                                       \n",
       "2022-05-02  753.599976    738.069397  1387.566650  257.118866  79.849998   \n",
       "2022-05-04  715.950012    719.203308  1340.414917  253.796799  78.949997   \n",
       "2022-05-05  680.200012    715.768555  1337.400024  256.044067  76.750000   \n",
       "2022-05-06  646.200012    707.107056  1302.456299  260.538666  77.849998   \n",
       "2022-05-09  613.900024    708.351562  1304.680420  256.923462  73.650002   \n",
       "\n",
       "                 Close                                                    ...  \\\n",
       "                AWL.NS BHARTIARTL.NS  HDFCBANK.NS      ITC.NS    MRPL.NS  ...   \n",
       "Date                                                                      ...   \n",
       "2022-05-02  753.599976    741.349976  1403.699951  263.149994  79.849998  ...   \n",
       "2022-05-04  715.950012    722.400024  1356.000000  259.750000  78.949997  ...   \n",
       "2022-05-05  680.200012    718.950012  1352.949951  262.049988  76.750000  ...   \n",
       "2022-05-06  646.200012    710.250000  1317.599976  266.649994  77.849998  ...   \n",
       "2022-05-09  613.900024    711.500000  1319.849976  262.950012  73.650002  ...   \n",
       "\n",
       "                  Open                                                    \\\n",
       "                AWL.NS BHARTIARTL.NS  HDFCBANK.NS      ITC.NS    MRPL.NS   \n",
       "Date                                                                       \n",
       "2022-05-02  758.000000    734.000000  1362.050049  258.000000  73.699997   \n",
       "2022-05-04  745.000000    737.000000  1400.000000  264.000000  80.250000   \n",
       "2022-05-05  681.000000    726.000000  1375.000000  262.000000  79.800003   \n",
       "2022-05-06  646.200012    711.250000  1330.000000  259.000000  75.000000   \n",
       "2022-05-09  613.900024    706.099976  1300.000000  266.149994  78.000000   \n",
       "\n",
       "              Volume                                                \n",
       "              AWL.NS BHARTIARTL.NS HDFCBANK.NS    ITC.NS   MRPL.NS  \n",
       "Date                                                                \n",
       "2022-05-02  11750710       3938533     9747158  18965820  28382804  \n",
       "2022-05-04  12572099       6785271    14527958  25951999  31101904  \n",
       "2022-05-05   1088061       4836692     8931456  17932895  16541802  \n",
       "2022-05-06   2695071       5912312    13365634  34490123  16431211  \n",
       "2022-05-09    624222       4819274    16381217  21403710  11232270  \n",
       "\n",
       "[5 rows x 30 columns]"
      ]
     },
     "execution_count": 70,
     "metadata": {},
     "output_type": "execute_result"
    }
   ],
   "source": [
    "data3.head()"
   ]
  },
  {
   "cell_type": "code",
   "execution_count": 71,
   "metadata": {},
   "outputs": [
    {
     "data": {
      "text/html": [
       "<div>\n",
       "<style scoped>\n",
       "    .dataframe tbody tr th:only-of-type {\n",
       "        vertical-align: middle;\n",
       "    }\n",
       "\n",
       "    .dataframe tbody tr th {\n",
       "        vertical-align: top;\n",
       "    }\n",
       "\n",
       "    .dataframe thead th {\n",
       "        text-align: right;\n",
       "    }\n",
       "</style>\n",
       "<table border=\"1\" class=\"dataframe\">\n",
       "  <thead>\n",
       "    <tr style=\"text-align: right;\">\n",
       "      <th></th>\n",
       "      <th>AWL.NS</th>\n",
       "      <th>BHARTIARTL.NS</th>\n",
       "      <th>HDFCBANK.NS</th>\n",
       "      <th>ITC.NS</th>\n",
       "      <th>MRPL.NS</th>\n",
       "    </tr>\n",
       "    <tr>\n",
       "      <th>Date</th>\n",
       "      <th></th>\n",
       "      <th></th>\n",
       "      <th></th>\n",
       "      <th></th>\n",
       "      <th></th>\n",
       "    </tr>\n",
       "  </thead>\n",
       "  <tbody>\n",
       "    <tr>\n",
       "      <th>2022-05-02</th>\n",
       "      <td>753.599976</td>\n",
       "      <td>738.069397</td>\n",
       "      <td>1387.566650</td>\n",
       "      <td>257.118866</td>\n",
       "      <td>79.849998</td>\n",
       "    </tr>\n",
       "    <tr>\n",
       "      <th>2022-05-04</th>\n",
       "      <td>715.950012</td>\n",
       "      <td>719.203308</td>\n",
       "      <td>1340.414917</td>\n",
       "      <td>253.796799</td>\n",
       "      <td>78.949997</td>\n",
       "    </tr>\n",
       "    <tr>\n",
       "      <th>2022-05-05</th>\n",
       "      <td>680.200012</td>\n",
       "      <td>715.768555</td>\n",
       "      <td>1337.400024</td>\n",
       "      <td>256.044067</td>\n",
       "      <td>76.750000</td>\n",
       "    </tr>\n",
       "    <tr>\n",
       "      <th>2022-05-06</th>\n",
       "      <td>646.200012</td>\n",
       "      <td>707.107056</td>\n",
       "      <td>1302.456299</td>\n",
       "      <td>260.538666</td>\n",
       "      <td>77.849998</td>\n",
       "    </tr>\n",
       "    <tr>\n",
       "      <th>2022-05-09</th>\n",
       "      <td>613.900024</td>\n",
       "      <td>708.351562</td>\n",
       "      <td>1304.680420</td>\n",
       "      <td>256.923462</td>\n",
       "      <td>73.650002</td>\n",
       "    </tr>\n",
       "  </tbody>\n",
       "</table>\n",
       "</div>"
      ],
      "text/plain": [
       "                AWL.NS  BHARTIARTL.NS  HDFCBANK.NS      ITC.NS    MRPL.NS\n",
       "Date                                                                     \n",
       "2022-05-02  753.599976     738.069397  1387.566650  257.118866  79.849998\n",
       "2022-05-04  715.950012     719.203308  1340.414917  253.796799  78.949997\n",
       "2022-05-05  680.200012     715.768555  1337.400024  256.044067  76.750000\n",
       "2022-05-06  646.200012     707.107056  1302.456299  260.538666  77.849998\n",
       "2022-05-09  613.900024     708.351562  1304.680420  256.923462  73.650002"
      ]
     },
     "execution_count": 71,
     "metadata": {},
     "output_type": "execute_result"
    }
   ],
   "source": [
    "df3 = data3['Adj Close']\n",
    "df3.head()"
   ]
  },
  {
   "cell_type": "code",
   "execution_count": 72,
   "metadata": {},
   "outputs": [
    {
     "data": {
      "text/plain": [
       "(84, 5)"
      ]
     },
     "execution_count": 72,
     "metadata": {},
     "output_type": "execute_result"
    }
   ],
   "source": [
    "B3 = df3.values\n",
    "B3.shape"
   ]
  },
  {
   "cell_type": "code",
   "execution_count": 73,
   "metadata": {},
   "outputs": [
    {
     "data": {
      "text/plain": [
       "AWL.NS           0\n",
       "BHARTIARTL.NS    0\n",
       "HDFCBANK.NS      0\n",
       "ITC.NS           0\n",
       "MRPL.NS          0\n",
       "dtype: int64"
      ]
     },
     "execution_count": 73,
     "metadata": {},
     "output_type": "execute_result"
    }
   ],
   "source": [
    "df3.isnull().sum()"
   ]
  },
  {
   "cell_type": "code",
   "execution_count": 74,
   "metadata": {},
   "outputs": [
    {
     "data": {
      "text/plain": [
       "array([[2452.2902991 ,  714.11017694, 1676.98812513,  404.36271559,\n",
       "         -72.956027  ],\n",
       "       [ 714.11017694,  653.68766982,  844.15702526,  153.26307173,\n",
       "         -99.5720104 ],\n",
       "       [1676.98812513,  844.15702526, 3611.93628562, 1091.80878188,\n",
       "        -279.65958252],\n",
       "       [ 404.36271559,  153.26307173, 1091.80878188,  452.05777422,\n",
       "        -113.84342014],\n",
       "       [ -72.956027  ,  -99.5720104 , -279.65958252, -113.84342014,\n",
       "         139.95047009]])"
      ]
     },
     "execution_count": 74,
     "metadata": {},
     "output_type": "execute_result"
    }
   ],
   "source": [
    "Q3 = np.cov(B3.T)\n",
    "Q3"
   ]
  },
  {
   "cell_type": "code",
   "execution_count": 75,
   "metadata": {},
   "outputs": [
    {
     "data": {
      "text/plain": [
       "array([ 0.08505896,  0.01566177, -0.06860362, -0.22034378,  0.08969041])"
      ]
     },
     "execution_count": 75,
     "metadata": {},
     "output_type": "execute_result"
    }
   ],
   "source": [
    "c3 = np.array([[0] for i in range (5)])\n",
    "m3 = -np.log(np.array([B3[-1][i]/B3[0][i] for i in range (5)]))\n",
    "m3"
   ]
  },
  {
   "cell_type": "code",
   "execution_count": 76,
   "metadata": {},
   "outputs": [],
   "source": [
    "a = 0.052 #B20AI052"
   ]
  },
  {
   "cell_type": "code",
   "execution_count": 77,
   "metadata": {},
   "outputs": [
    {
     "data": {
      "text/plain": [
       "(5, 6)"
      ]
     },
     "execution_count": 77,
     "metadata": {},
     "output_type": "execute_result"
    }
   ],
   "source": [
    "A3 = np.column_stack((m3, np.negative(np.identity(5, dtype = 'int'))))\n",
    "b3 = np.array([-a]+[0]*5)\n",
    "Aeq3 = np.array([[1]*5])\n",
    "beq3 = np.array([[1]])\n",
    "A3.shape"
   ]
  },
  {
   "cell_type": "code",
   "execution_count": 78,
   "metadata": {},
   "outputs": [
    {
     "data": {
      "text/plain": [
       "(6, 5)"
      ]
     },
     "execution_count": 78,
     "metadata": {},
     "output_type": "execute_result"
    }
   ],
   "source": [
    "A3 = A3.T\n",
    "A3.shape"
   ]
  },
  {
   "cell_type": "code",
   "execution_count": 79,
   "metadata": {},
   "outputs": [
    {
     "name": "stdout",
     "output_type": "stream",
     "text": [
      "     pcost       dcost       gap    pres   dres\n",
      " 0:  1.6445e+01  1.5475e+01  1e+01  3e+00  3e+00\n",
      " 1:  1.6445e+01  1.6009e+01  1e+00  3e-01  4e-01\n",
      " 2:  2.7065e+01  2.2941e+01  1e+01  2e-01  2e-01\n",
      " 3:  3.2544e+01  3.5986e+01  4e+01  1e-01  2e-01\n",
      " 4:  3.8178e+01  3.8499e+01  2e+00  6e-03  7e-03\n",
      " 5:  3.8734e+01  3.8735e+01  2e-02  6e-05  7e-05\n",
      " 6:  3.8739e+01  3.8739e+01  2e-04  6e-07  7e-07\n",
      " 7:  3.8739e+01  3.8739e+01  2e-06  6e-09  7e-09\n",
      "Optimal solution found.\n",
      "[-1.91e-09]\n",
      "[ 4.62e-02]\n",
      "[-2.00e-09]\n",
      "[ 4.46e-01]\n",
      "[ 5.08e-01]\n",
      "\n"
     ]
    }
   ],
   "source": [
    "sol = cp.solvers.qp(cp.matrix(Q3, tc='d'), cp.matrix(c3, tc='d'), cp.matrix(A3, tc='d'), cp.matrix(b3, tc='d'), cp.matrix(Aeq3, tc='d'), cp.matrix(beq3, tc='d'))\n",
    "print(sol['x'])"
   ]
  },
  {
   "cell_type": "code",
   "execution_count": 80,
   "metadata": {},
   "outputs": [
    {
     "name": "stdout",
     "output_type": "stream",
     "text": [
      "After rounding upto 5 decimal places: \n",
      "-0.0\n",
      "0.04618\n",
      "-0.0\n",
      "0.44599\n",
      "0.50783\n",
      "The minimum variance portfolio is:  38.738999095674885\n"
     ]
    }
   ],
   "source": [
    "print(\"After rounding upto 5 decimal places: \")\n",
    "for i in range(5):\n",
    "    print(round(sol['x'][i], 5))\n",
    "\n",
    "print(\"The minimum variance portfolio is: \", sol['primal objective'])"
   ]
  },
  {
   "cell_type": "markdown",
   "metadata": {},
   "source": [
    "---"
   ]
  }
 ],
 "metadata": {
  "kernelspec": {
   "display_name": "Python 3.7.8 64-bit",
   "language": "python",
   "name": "python3"
  },
  "language_info": {
   "codemirror_mode": {
    "name": "ipython",
    "version": 3
   },
   "file_extension": ".py",
   "mimetype": "text/x-python",
   "name": "python",
   "nbconvert_exporter": "python",
   "pygments_lexer": "ipython3",
   "version": "3.7.8"
  },
  "orig_nbformat": 4,
  "vscode": {
   "interpreter": {
    "hash": "944b8a8c947819cdcd92dbaefd7d7c651f3b60be70c70fd1986d9bc9e4beb4c9"
   }
  }
 },
 "nbformat": 4,
 "nbformat_minor": 2
}
