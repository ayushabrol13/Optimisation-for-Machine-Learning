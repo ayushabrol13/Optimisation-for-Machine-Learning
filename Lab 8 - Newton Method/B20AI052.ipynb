{
 "cells": [
  {
   "cell_type": "markdown",
   "metadata": {},
   "source": [
    "# Optimisation for Machine Learning\n",
    "\n",
    "    Ayush Abrol B20AI052\n",
    "\n",
    "---"
   ]
  },
  {
   "cell_type": "markdown",
   "metadata": {},
   "source": [
    "### Question 1"
   ]
  },
  {
   "cell_type": "code",
   "execution_count": 1,
   "metadata": {},
   "outputs": [],
   "source": [
    "import numpy as np\n",
    "import pandas as pd\n",
    "import matplotlib.pyplot as plt"
   ]
  },
  {
   "cell_type": "code",
   "execution_count": 2,
   "metadata": {},
   "outputs": [],
   "source": [
    "# Solve the following problem using Newton method. Use stopping criterion: ||\n",
    "# ∇F(x^(k+1)) + A^T μk+1|| ≤ 10^−3.\n",
    "\n",
    "# a) min F(x) = Sum(xi)(1->5)xilogxi\n",
    "#     s.t Sum(xi) = 1\n",
    "# and choose x0 = (1/5, 1/5, 1/5, 1/5, 1/5).\n",
    "\n",
    "# b) min F(x) = Sum(xi)(1->4)xi exp(−xi)\n",
    "#     s.t x1 + x2 + x3 + x4 = 1\n",
    "#     x1 − 2x2 + 3x3 − 4x4 = 0\n",
    "#     choose x0 = (2/3, 1/3, 0, 0).\n",
    "\n",
    "def newton_method(f, grad_f, hessian_f, x0, eps=1e-3):\n",
    "    x = x0\n",
    "    while True:\n",
    "        grad = grad_f(x)\n",
    "        hessian = hessian_f(x)\n",
    "        delta = np.linalg.solve(hessian, grad)\n",
    "        x = x - delta\n",
    "        if np.linalg.norm(grad) <= eps:\n",
    "            break\n",
    "    return x\n",
    "\n",
    "def f_a(x):\n",
    "    return np.sum(x * np.log(x))\n",
    "    \n",
    "def grad_f_a(x):\n",
    "    return np.array([np.log(x[0]) + 1, np.log(x[1]) + 1, np.log(x[2]) + 1, np.log(x[3]) + 1, np.log(x[4]) + 1])\n",
    "\n",
    "def hessian_f_a(x):\n",
    "    return np.array([[1/x[0], 0, 0, 0, 0], [0, 1/x[1], 0, 0, 0], [0, 0, 1/x[2], 0, 0], [0, 0, 0, 1/x[3], 0], [0, 0, 0, 0, 1/x[4]]])\n",
    "\n",
    "def f_b(x):\n",
    "    return np.sum(x * np.exp(-x))\n",
    "\n",
    "def grad_f_b(x):\n",
    "    return np.array([np.exp(-x[0]) - 1, np.exp(-x[1]) - 1, np.exp(-x[2]) - 1, np.exp(-x[3]) - 1])\n",
    "\n",
    "def hessian_f_b(x):\n",
    "    return np.array([[-np.exp(-x[0]), 0, 0, 0], [0, -np.exp(-x[1]), 0, 0], [0, 0, -np.exp(-x[2]), 0], [0, 0, 0, -np.exp(-x[3])]])\n",
    "\n"
   ]
  },
  {
   "cell_type": "code",
   "execution_count": 3,
   "metadata": {},
   "outputs": [
    {
     "name": "stdout",
     "output_type": "stream",
     "text": [
      "a) x =  [0.36787944 0.36787944 0.36787944 0.36787944 0.36787944]\n",
      "b) x =  [-2.05960932e-07 -1.62596206e-12  0.00000000e+00  0.00000000e+00]\n"
     ]
    }
   ],
   "source": [
    "x0_a = np.array([1/5, 1/5, 1/5, 1/5, 1/5])\n",
    "x0_b = np.array([2/3, 1/3, 0, 0])\n",
    "x_a = newton_method(f_a, grad_f_a, hessian_f_a, x0_a)\n",
    "x_b = newton_method(f_b, grad_f_b, hessian_f_b, x0_b)\n",
    "print(\"a) x = \", x_a)\n",
    "print(\"b) x = \", x_b)"
   ]
  },
  {
   "cell_type": "markdown",
   "metadata": {},
   "source": [
    "### Question 2"
   ]
  },
  {
   "cell_type": "code",
   "execution_count": 4,
   "metadata": {},
   "outputs": [],
   "source": [
    "# Solve the following problem using log barrier method. \n",
    "# Choose σ0 = 1, R = 10, x0 → Strictly feasible point. \n",
    "# Stopping criterion m/σk < 10^−3\n",
    "\n",
    "# min F(x) = x1 + 2x2 + 5x3 − 8x4 + 7x5 − 11x6\n",
    "# s.t x1 − x2 + x3 = 0\n",
    "# x1 − 2x2 + 2x3 + x4 + x6 = 3\n",
    "# 2x3 + x4 − 5x5 + x6 = −2\n",
    "# x2 + x3 + 2x4 − 3x5 + 2x6 = 1\n",
    "# x1 + 3x3 − x4 + 2x6 = 2\n",
    "\n",
    "def f(x):\n",
    "    return x[0] + 2 * x[1] + 5 * x[2] - 8 * x[3] + 7 * x[4] - 11 * x[5]\n",
    "\n",
    "def grad_f(x):\n",
    "    return np.array([1, 2, 5, -8, 7, -11])\n",
    "\n",
    "def log_barrier_method(f, grad_f, hessian_f, x0, sigma0=1, R=10, eps=1e-3):\n",
    "    x = x0\n",
    "    sigma = sigma0\n",
    "    m = 6\n",
    "    while True:\n",
    "        grad = grad_f(x)\n",
    "        hessian = hessian_f(x)\n",
    "        delta = np.linalg.solve(hessian, grad)\n",
    "        x = x - delta\n",
    "        sigma = sigma * R\n",
    "        if m / sigma < eps:\n",
    "            break\n",
    "    return x"
   ]
  },
  {
   "cell_type": "markdown",
   "metadata": {},
   "source": [
    "---"
   ]
  }
 ],
 "metadata": {
  "kernelspec": {
   "display_name": "Python 3.7.8 64-bit",
   "language": "python",
   "name": "python3"
  },
  "language_info": {
   "codemirror_mode": {
    "name": "ipython",
    "version": 3
   },
   "file_extension": ".py",
   "mimetype": "text/x-python",
   "name": "python",
   "nbconvert_exporter": "python",
   "pygments_lexer": "ipython3",
   "version": "3.7.8"
  },
  "orig_nbformat": 4,
  "vscode": {
   "interpreter": {
    "hash": "944b8a8c947819cdcd92dbaefd7d7c651f3b60be70c70fd1986d9bc9e4beb4c9"
   }
  }
 },
 "nbformat": 4,
 "nbformat_minor": 2
}
