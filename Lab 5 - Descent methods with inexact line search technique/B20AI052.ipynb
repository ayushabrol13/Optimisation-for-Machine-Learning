{
 "cells": [
  {
   "cell_type": "markdown",
   "metadata": {},
   "source": [
    "# Optimisation for Machine Learning\n",
    "\n",
    "    Ayush Abrol B20AI052\n",
    "\n",
    "---"
   ]
  },
  {
   "cell_type": "code",
   "execution_count": 1,
   "metadata": {},
   "outputs": [],
   "source": [
    "import numpy as np"
   ]
  },
  {
   "cell_type": "code",
   "execution_count": 3,
   "metadata": {},
   "outputs": [
    {
     "name": "stdout",
     "output_type": "stream",
     "text": [
      "x =  [2. 4.]\n",
      "f(x) =  9800.0\n",
      "Number of iterations =  5\n"
     ]
    }
   ],
   "source": [
    "# r = 2\n",
    "# f : R2 → R is defined by f(x) = 0.5(100(x1 − x2**2)**2 + (2 − x1)**2) with and x0 = (4, −4). \n",
    "# Find number of iterations, function evaluations and gradient evaluations.\n",
    "\n",
    "def f(x):\n",
    "    return 0.5*(100*(x[0]-x[1]**2)**2 + (2-x[0])**2)\n",
    "\n",
    "def grad_f(x):\n",
    "    return np.array([400*x[0]*(x[0]**2-x[1])+2*(x[0]-2), -200*(x[0]**2-x[1])])\n",
    "\n",
    "def hess_f(x):\n",
    "    return np.array([[1200*x[0]**2-400*x[1]+2, -400*x[0]], [-400*x[0], 200]])\n",
    "\n",
    "def newton_method(x0, f, grad_f, hess_f, tol=1e-6, max_iter=100):\n",
    "    x = x0\n",
    "    for i in range(max_iter):\n",
    "        x_new = x - np.linalg.inv(hess_f(x)) @ grad_f(x)\n",
    "        if np.linalg.norm(x_new - x) < tol:\n",
    "            return x_new, i+1\n",
    "        x = x_new\n",
    "    return x_new, max_iter\n",
    "\n",
    "x0 = np.array([4, -4])\n",
    "x, n_iter = newton_method(x0, f, grad_f, hess_f)\n",
    "print(\"x = \", x)\n",
    "print(\"f(x) = \", f(x))\n",
    "print(\"Number of iterations = \", n_iter)"
   ]
  },
  {
   "cell_type": "code",
   "execution_count": null,
   "metadata": {},
   "outputs": [],
   "source": []
  }
 ],
 "metadata": {
  "kernelspec": {
   "display_name": "Python 3.7.8 64-bit",
   "language": "python",
   "name": "python3"
  },
  "language_info": {
   "codemirror_mode": {
    "name": "ipython",
    "version": 3
   },
   "file_extension": ".py",
   "mimetype": "text/x-python",
   "name": "python",
   "nbconvert_exporter": "python",
   "pygments_lexer": "ipython3",
   "version": "3.7.8"
  },
  "orig_nbformat": 4,
  "vscode": {
   "interpreter": {
    "hash": "944b8a8c947819cdcd92dbaefd7d7c651f3b60be70c70fd1986d9bc9e4beb4c9"
   }
  }
 },
 "nbformat": 4,
 "nbformat_minor": 2
}
