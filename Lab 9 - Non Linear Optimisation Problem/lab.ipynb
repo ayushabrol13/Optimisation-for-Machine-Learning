{
 "cells": [
  {
   "cell_type": "markdown",
   "metadata": {},
   "source": [
    "# Optimisation for Machine Learning\n",
    "\n",
    "    Ayush Abrol B20AI052\n",
    "\n",
    "---"
   ]
  },
  {
   "cell_type": "markdown",
   "metadata": {},
   "source": [
    "### Question 1"
   ]
  },
  {
   "cell_type": "code",
   "execution_count": 10,
   "metadata": {},
   "outputs": [],
   "source": [
    "import pandas as pd\n",
    "import numpy as np\n",
    "import matplotlib.pyplot as plt\n",
    "import cvxopt as cvx\n",
    "import cvxopt.solvers as cvx_solvers"
   ]
  },
  {
   "cell_type": "code",
   "execution_count": 11,
   "metadata": {},
   "outputs": [
    {
     "ename": "AttributeError",
     "evalue": "module 'cvxopt.solvers' has no attribute 'minimize'",
     "output_type": "error",
     "traceback": [
      "\u001b[1;31m---------------------------------------------------------------------------\u001b[0m",
      "\u001b[1;31mAttributeError\u001b[0m                            Traceback (most recent call last)",
      "\u001b[1;32m~\\AppData\\Local\\Temp\\ipykernel_17556\\3652926467.py\u001b[0m in \u001b[0;36m<module>\u001b[1;34m\u001b[0m\n\u001b[0;32m     48\u001b[0m \u001b[1;33m\u001b[0m\u001b[0m\n\u001b[0;32m     49\u001b[0m \u001b[1;31m# Solve the problem\u001b[0m\u001b[1;33m\u001b[0m\u001b[1;33m\u001b[0m\u001b[1;33m\u001b[0m\u001b[0m\n\u001b[1;32m---> 50\u001b[1;33m \u001b[0mres\u001b[0m \u001b[1;33m=\u001b[0m \u001b[0mcvx_solvers\u001b[0m\u001b[1;33m.\u001b[0m\u001b[0mminimize\u001b[0m\u001b[1;33m(\u001b[0m\u001b[0mf\u001b[0m\u001b[1;33m,\u001b[0m \u001b[0mx0\u001b[0m\u001b[1;33m,\u001b[0m \u001b[0mmethod\u001b[0m\u001b[1;33m=\u001b[0m\u001b[1;34m'trust-constr'\u001b[0m\u001b[1;33m,\u001b[0m \u001b[0mjac\u001b[0m\u001b[1;33m=\u001b[0m\u001b[0mgrad_f\u001b[0m\u001b[1;33m,\u001b[0m \u001b[0mhess\u001b[0m\u001b[1;33m=\u001b[0m\u001b[0mhess_lag\u001b[0m\u001b[1;33m,\u001b[0m \u001b[0mconstraints\u001b[0m\u001b[1;33m=\u001b[0m\u001b[0mcons\u001b[0m\u001b[1;33m,\u001b[0m \u001b[0mbounds\u001b[0m\u001b[1;33m=\u001b[0m\u001b[0mbounds\u001b[0m\u001b[1;33m,\u001b[0m \u001b[0moptions\u001b[0m\u001b[1;33m=\u001b[0m\u001b[1;33m{\u001b[0m\u001b[1;34m'verbose'\u001b[0m\u001b[1;33m:\u001b[0m \u001b[1;36m1\u001b[0m\u001b[1;33m}\u001b[0m\u001b[1;33m)\u001b[0m\u001b[1;33m\u001b[0m\u001b[1;33m\u001b[0m\u001b[0m\n\u001b[0m\u001b[0;32m     51\u001b[0m \u001b[1;33m\u001b[0m\u001b[0m\n\u001b[0;32m     52\u001b[0m \u001b[1;31m# Print the results\u001b[0m\u001b[1;33m\u001b[0m\u001b[1;33m\u001b[0m\u001b[1;33m\u001b[0m\u001b[0m\n",
      "\u001b[1;31mAttributeError\u001b[0m: module 'cvxopt.solvers' has no attribute 'minimize'"
     ]
    }
   ],
   "source": [
    "# Solve the following Non linear Optimization problem.\n",
    "\n",
    "# min 100(x1 − 1)^2 + x2\n",
    "# s.t x1 + 6x2 = 36 \n",
    "#     −4x1 + x2 = 0\n",
    "\n",
    "\n",
    "# Define the objective function\n",
    "def f(x):\n",
    "    return 100*(x[0] - 1)**2 + x[1]\n",
    "\n",
    "# Define the gradient of the objective function\n",
    "def grad_f(x):\n",
    "    return np.array([200*(x[0] - 1), 1])\n",
    "\n",
    "# Define the constraints\n",
    "def g(x):\n",
    "    return np.array([x[0] + 6*x[1] - 36, -4*x[0] + x[1]])\n",
    "\n",
    "# Define the gradient of the constraints\n",
    "def grad_g(x):\n",
    "    return np.array([[1, 6], [-4, 1]])\n",
    "\n",
    "# Define the hessian of the constraints\n",
    "def hess_g(x, v):\n",
    "    return np.array([[[0, 0], [0, 0]], [[0, 0], [0, 0]]])\n",
    "\n",
    "# Define the hessian of the lagrangian\n",
    "def hess_lag(x, v, z):\n",
    "    return np.array([[[200, 0], [0, 0]], [[0, 0], [0, 0]]])\n",
    "\n",
    "# Define the initial point\n",
    "x0 = np.array([0, 0])\n",
    "\n",
    "# Define the initial value of the lagrange multipliers\n",
    "v0 = np.array([0, 0])\n",
    "\n",
    "# Define the initial value of the dual variables\n",
    "z0 = np.array([0, 0])\n",
    "\n",
    "# Define the bounds\n",
    "bounds = ((None, None), (None, None))\n",
    "\n",
    "# Define the constraints\n",
    "cons = ({'type': 'eq', 'fun': g, 'jac': grad_g, 'hess': hess_g},\n",
    "        {'type': 'ineq', 'fun': lambda x: x[0], 'jac': lambda x: np.array([1, 0])},\n",
    "        {'type': 'ineq', 'fun': lambda x: x[1], 'jac': lambda x: np.array([0, 1])})\n",
    "\n",
    "# Solve the problem\n",
    "res = .minimize(f, x0, method='trust-constr', jac=grad_f, hess=hess_lag, constraints=cons, bounds=bounds, options={'verbose': 1})\n",
    "\n",
    "# Print the results\n",
    "print(res)"
   ]
  },
  {
   "cell_type": "code",
   "execution_count": null,
   "metadata": {},
   "outputs": [],
   "source": []
  }
 ],
 "metadata": {
  "kernelspec": {
   "display_name": "Python 3.7.8 64-bit",
   "language": "python",
   "name": "python3"
  },
  "language_info": {
   "codemirror_mode": {
    "name": "ipython",
    "version": 3
   },
   "file_extension": ".py",
   "mimetype": "text/x-python",
   "name": "python",
   "nbconvert_exporter": "python",
   "pygments_lexer": "ipython3",
   "version": "3.7.8"
  },
  "orig_nbformat": 4,
  "vscode": {
   "interpreter": {
    "hash": "944b8a8c947819cdcd92dbaefd7d7c651f3b60be70c70fd1986d9bc9e4beb4c9"
   }
  }
 },
 "nbformat": 4,
 "nbformat_minor": 2
}
