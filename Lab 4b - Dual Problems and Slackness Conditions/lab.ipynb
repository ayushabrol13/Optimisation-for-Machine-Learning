{
 "cells": [
  {
   "cell_type": "markdown",
   "metadata": {},
   "source": [
    "# Optimisation in Machine Learning\n",
    "\n",
    "    Ayush Abrol B20AI052\n",
    "\n",
    "---"
   ]
  },
  {
   "cell_type": "code",
   "execution_count": 3,
   "metadata": {},
   "outputs": [],
   "source": [
    "import pandas as pd\n",
    "import numpy as np\n",
    "import matplotlib.pyplot as plt\n",
    "import cvxopt as cp"
   ]
  },
  {
   "cell_type": "markdown",
   "metadata": {},
   "source": [
    "### Question 1"
   ]
  },
  {
   "cell_type": "markdown",
   "metadata": {},
   "source": [
    "Solve the LP and find the primal objective solution."
   ]
  },
  {
   "cell_type": "code",
   "execution_count": 22,
   "metadata": {},
   "outputs": [
    {
     "name": "stdout",
     "output_type": "stream",
     "text": [
      "     pcost       dcost       gap    pres   dres   k/t\n",
      " 0:  4.7705e+00  4.7705e+00  5e+00  8e-01  0e+00  1e+00\n",
      " 1:  6.3834e+00  6.5666e+00  1e+00  2e-01  4e-16  4e-01\n",
      " 2:  7.4553e+00  7.4689e+00  8e-02  1e-02  5e-15  3e-02\n",
      " 3:  7.4995e+00  7.4997e+00  8e-04  1e-04  1e-15  3e-04\n",
      " 4:  7.5000e+00  7.5000e+00  8e-06  1e-06  0e+00  3e-06\n",
      " 5:  7.5000e+00  7.5000e+00  8e-08  1e-08  1e-15  3e-08\n",
      "Optimal solution found.\n",
      "[ 1.25e+00]\n",
      "[-2.47e-09]\n",
      " 7.499999954272108\n"
     ]
    }
   ],
   "source": [
    "# (i)\n",
    "# min z = 6x1 − 3x2\n",
    "# 3x1 − x2 ≥ 1\n",
    "# 4x1 − 3x2 ≥ 5\n",
    "# x1, x2 ≥ 0\n",
    "\n",
    "c = np.array([6, -3])\n",
    "A = np.array([[-3, 1], [-4, 3], [-1, 0], [0,-1]])\n",
    "b = np.array([-1, -5, 0, 0])\n",
    "\n",
    "sol = cp.solvers.lp(cp.matrix(c,tc='d'), cp.matrix(A,tc='d'),cp.matrix(b,tc='d'))\n",
    "print(sol['x'],sol['primal objective'])"
   ]
  },
  {
   "cell_type": "markdown",
   "metadata": {},
   "source": [
    "Construct and solve the dual problem."
   ]
  },
  {
   "cell_type": "code",
   "execution_count": 23,
   "metadata": {},
   "outputs": [
    {
     "name": "stdout",
     "output_type": "stream",
     "text": [
      "     pcost       dcost       gap    pres   dres   k/t\n",
      " 0: -4.7705e+00 -1.1262e+01  5e+00  0e+00  4e-01  1e+00\n",
      " 1: -6.5666e+00 -7.9853e+00  1e+00  2e-16  1e-01  4e-01\n",
      " 2: -7.4689e+00 -7.5516e+00  8e-02  9e-17  6e-03  3e-02\n",
      " 3: -7.4997e+00 -7.5005e+00  8e-04  2e-16  6e-05  3e-04\n",
      " 4: -7.5000e+00 -7.5000e+00  8e-06  1e-16  6e-07  3e-06\n",
      " 5: -7.5000e+00 -7.5000e+00  8e-08  2e-16  6e-09  3e-08\n",
      "Optimal solution found.\n",
      "[ 2.22e-09]\n",
      "[ 1.50e+00]\n",
      " 7.499999968071892\n"
     ]
    }
   ],
   "source": [
    "# (i)\n",
    "# Dual Problem Solution\n",
    "\n",
    "# Primal:\n",
    "# min z = 6x1 − 3x2\n",
    "# 3x1 − x2 ≥ 1\n",
    "# 4x1 − 3x2 ≥ 5\n",
    "# x1, x2 ≥ 0\n",
    "\n",
    "# Dual:\n",
    "# max w = y1 + 5y2\n",
    "# 3y1 + 4y2 ≤ 6\n",
    "# -y1 - 3y2 ≤ -3\n",
    "# y1, y2 ≥ 0\n",
    "\n",
    "c = np.array([-1, -5])\n",
    "A = np.array([[3, 4], [-1, -3], [-1, 0], [0, -1]])\n",
    "b = np.array([6, -3, 0, 0])\n",
    "\n",
    "sol = cp.solvers.lp(cp.matrix(c,tc='d'), cp.matrix(A,tc='d'),cp.matrix(b,tc='d'))\n",
    "print(sol['x'],sol['primal objective']*-1)"
   ]
  },
  {
   "cell_type": "code",
   "execution_count": 13,
   "metadata": {},
   "outputs": [
    {
     "name": "stdout",
     "output_type": "stream",
     "text": [
      "     pcost       dcost       gap    pres   dres   k/t\n",
      " 0:  5.6667e+00 -7.6667e+00  1e+01  0e+00  8e-01  1e+00\n",
      " 1: -3.0903e+00 -7.2531e+00  7e+00  3e-16  3e-01  1e+00\n",
      " 2: -5.0300e+00 -5.3779e+00  1e+00  1e-16  4e-02  3e-01\n",
      " 3: -5.9888e+00 -5.9925e+00  2e-02  4e-16  6e-04  7e-03\n",
      " 4: -5.9999e+00 -5.9999e+00  2e-04  4e-16  6e-06  7e-05\n",
      " 5: -6.0000e+00 -6.0000e+00  2e-06  1e-16  6e-08  7e-07\n",
      "Optimal solution found.\n",
      "[ 2.62e-08]\n",
      "[ 6.00e+00]\n",
      " -5.999998877961404\n"
     ]
    }
   ],
   "source": [
    "# (ii)\n",
    "# min z = 3x1 − x2\n",
    "# 2x1 + x2 ≤ 6\n",
    "# x1 + x2 ≥ 1\n",
    "# x1, x2 ≥ 0\n",
    "\n",
    "c = np.array([3, -1])\n",
    "A = np.array([[2, 1], [-1, -1], [-1, 0], [0,-1]])\n",
    "b = np.array([6, -1, 0, 0])\n",
    "\n",
    "sol = cp.solvers.lp(cp.matrix(c,tc='d'), cp.matrix(A,tc='d'),cp.matrix(b,tc='d'))\n",
    "print(sol['x'],sol['primal objective'])"
   ]
  },
  {
   "cell_type": "code",
   "execution_count": 24,
   "metadata": {},
   "outputs": [
    {
     "name": "stdout",
     "output_type": "stream",
     "text": [
      "     pcost       dcost       gap    pres   dres   k/t\n",
      " 0: -6.3333e+00 -9.0000e+00  3e+01  2e+00  9e-01  1e+00\n",
      " 1:  4.0623e+00  4.8168e+00  1e+01  5e-01  3e-01  2e+00\n",
      " 2:  5.3891e+00  5.5356e+00  7e-01  4e-02  2e-02  2e-01\n",
      " 3:  5.9933e+00  5.9953e+00  9e-03  4e-04  2e-04  3e-03\n",
      " 4:  5.9999e+00  6.0000e+00  9e-05  4e-06  2e-06  3e-05\n",
      " 5:  6.0000e+00  6.0000e+00  9e-07  4e-08  2e-08  3e-07\n",
      "Optimal solution found.\n",
      "[ 1.00e+00]\n",
      "[-4.64e-08]\n",
      " -5.999999334268337\n"
     ]
    }
   ],
   "source": [
    "# (ii)\n",
    "# Dual Problem Solution\n",
    "\n",
    "# min z = 3x1 − x2\n",
    "# -2x1 - x2 >= -6\n",
    "# x1 + x2 >= -1\n",
    "# x1, x2 ≥ 0\n",
    "\n",
    "# max w = -6y1 - y2\n",
    "# -2y1 + y2 <= 3\n",
    "# -y1 + y2 <= -1\n",
    "# y1, y2 ≥ 0\n",
    "\n",
    "c = np.array([6, 1])\n",
    "A = np.array([[-2, 1], [-1, 1], [-1, 0], [0, -1]])\n",
    "b = np.array([3, -1, 0, 0])\n",
    "\n",
    "sol = cp.solvers.lp(cp.matrix(c,tc='d'), cp.matrix(A,tc='d'),cp.matrix(b,tc='d'))\n",
    "print(sol['x'],sol['primal objective']*-1)\n"
   ]
  },
  {
   "cell_type": "markdown",
   "metadata": {},
   "source": [
    "R = 2"
   ]
  },
  {
   "cell_type": "code",
   "execution_count": 25,
   "metadata": {},
   "outputs": [
    {
     "name": "stdout",
     "output_type": "stream",
     "text": [
      "     pcost       dcost       gap    pres   dres   k/t\n",
      " 0:  7.6923e-01  7.6923e-01  3e+00  1e+00  0e+00  1e+00\n",
      " 1:  2.9840e+00  3.4955e+00  4e+00  7e-01  2e-16  1e+00\n",
      " 2:  5.7402e+00  5.9435e+00  2e-01  4e-02  2e-15  2e-01\n",
      " 3:  5.9974e+00  5.9994e+00  2e-03  4e-04  3e-15  2e-03\n",
      " 4:  6.0000e+00  6.0000e+00  2e-05  4e-06  1e-15  2e-05\n",
      " 5:  6.0000e+00  6.0000e+00  2e-07  4e-08  1e-15  2e-07\n",
      "Optimal solution found.\n",
      "[ 3.00e+00]\n",
      "[-9.64e-08]\n",
      " 5.999999737948077\n"
     ]
    }
   ],
   "source": [
    "# (iii)\n",
    "# min 2x1 − x2\n",
    "# -3x1 + 2x2 >= -1\n",
    "# -2x1 + 3x2 >= -6\n",
    "# x1, x2 ≥ 0\n",
    "\n",
    "c = np.array([2, -1])\n",
    "A = np.array([[-3, 2], [-2, 3], [-1, 0], [0,-1]])   \n",
    "b = np.array([-1, -6, 0, 0])\n",
    "\n",
    "sol = cp.solvers.lp(cp.matrix(c,tc='d'), cp.matrix(A,tc='d'),cp.matrix(b,tc='d'))\n",
    "print(sol['x'],sol['primal objective'])"
   ]
  },
  {
   "cell_type": "code",
   "execution_count": 27,
   "metadata": {},
   "outputs": [
    {
     "name": "stdout",
     "output_type": "stream",
     "text": [
      "     pcost       dcost       gap    pres   dres   k/t\n",
      " 0: -7.6923e-01 -3.6923e+00  1e+01  1e+00  1e+00  1e+00\n",
      " 1: -1.3167e+00 -1.3416e+00  1e+01  5e-01  4e-01  1e+00\n",
      " 2: -6.8894e-01  3.3527e+00  3e+01  3e-01  2e-01  5e+00\n",
      " 3: -7.0305e-01  4.8572e+02  4e+03  3e-01  2e-01  5e+02\n",
      " 4: -7.0305e-01  4.8729e+04  4e+05  3e-01  2e-01  5e+04\n",
      " 5: -7.0305e-01  4.8731e+06  4e+07  3e-01  2e-01  5e+06\n",
      " 6: -7.0305e-01  4.8731e+08  4e+09  3e-01  2e-01  5e+08\n",
      "Certificate of primal infeasibility found.\n",
      "None None\n"
     ]
    }
   ],
   "source": [
    "# (iii)\n",
    "# Dual Problem Solution\n",
    "\n",
    "# min 2x1 − x2\n",
    "# -3x1 + 2x2 >= -1\n",
    "# -2x1 + 3x2 >= -6\n",
    "# x1, x2 ≥ 0\n",
    "\n",
    "# max w = -1y1 - 6y2\n",
    "# -3y1 - 2y2 <= 2\n",
    "# 2y1 + 3y2 <= -1\n",
    "# y1, y2 ≥ 0\n",
    "\n",
    "c = np.array([1, 6])\n",
    "A = np.array([[-3, -2], [2, 3], [-1, 0], [0, -1]])\n",
    "b = np.array([2, -1, 0, 0])\n",
    "\n",
    "sol = cp.solvers.lp(cp.matrix(c,tc='d'), cp.matrix(A,tc='d'),cp.matrix(b,tc='d'))\n",
    "print(sol['x'],sol['primal objective'])"
   ]
  },
  {
   "cell_type": "code",
   "execution_count": 30,
   "metadata": {},
   "outputs": [
    {
     "name": "stdout",
     "output_type": "stream",
     "text": [
      "     pcost       dcost       gap    pres   dres   k/t\n",
      " 0:  5.4012e+01 -1.0331e+02  2e+01  0e+00  3e+00  1e+00\n",
      " 1:  5.3543e+01 -4.2699e+00  7e+00  2e-17  9e-01  5e-01\n",
      " 2:  1.2094e+01 -3.1411e+02  3e+02  1e-15  5e+00  7e+00\n",
      " 3:  5.6503e+00 -4.1456e+01  4e+01  2e-16  8e-01  2e+00\n",
      " 4:  2.1626e-01 -5.8692e-01  8e-01  4e-17  1e-02  8e-02\n",
      " 5:  2.1717e-03 -5.8952e-03  8e-03  4e-17  1e-04  8e-04\n",
      " 6:  2.1718e-05 -5.8954e-05  8e-05  4e-17  1e-06  8e-06\n",
      " 7:  2.1718e-07 -5.8955e-07  8e-07  2e-17  1e-08  8e-08\n",
      " 8:  2.1718e-09 -5.8955e-09  8e-09  2e-16  1e-10  8e-10\n",
      "Optimal solution found.\n",
      "[ 2.64e-10]\n",
      "[ 1.42e-10]\n",
      " 2.1717974100814286e-09\n"
     ]
    }
   ],
   "source": [
    "# (iv)\n",
    "# max z = 5x1 + 6x2\n",
    "# 3x1 − x2 ≤ 12\n",
    "# 7x1 + 11x2 ≤ 88\n",
    "# x1, x2 ≥ 0\n",
    "\n",
    "c = np.array([5, 6])\n",
    "A = np.array([[3, -1], [7, 11], [-1, 0], [0,-1]])\n",
    "b = np.array([12, 88, 0, 0])\n",
    "\n",
    "sol = cp.solvers.lp(cp.matrix(c,tc='d'), cp.matrix(A,tc='d'),cp.matrix(b,tc='d'))\n",
    "print(sol['x'],sol['primal objective'])"
   ]
  },
  {
   "cell_type": "code",
   "execution_count": 29,
   "metadata": {},
   "outputs": [
    {
     "name": "stdout",
     "output_type": "stream",
     "text": [
      "     pcost       dcost       gap    pres   dres   k/t\n",
      " 0:  5.4012e+01 -1.5366e+01  2e+01  3e-01  1e+00  1e+00\n",
      " 1:  2.3113e+01 -5.6796e+01  2e+02  3e-01  1e+00  6e+00\n",
      " 2:  1.3586e+01 -4.8159e+00  4e+01  7e-02  3e-01  9e-01\n",
      " 3: -2.2878e+01 -5.2430e+01  1e+02  1e-01  6e-01  3e+00\n",
      " 4: -3.5267e-01 -5.5537e-01  1e+00  3e-03  1e-02  6e-01\n",
      " 5: -3.5303e-03 -5.6111e-03  1e-02  3e-05  1e-04  6e-03\n",
      " 6: -3.5302e-05 -5.6110e-05  1e-04  3e-07  1e-06  6e-05\n",
      " 7: -3.5302e-07 -5.6110e-07  1e-06  3e-09  1e-08  6e-07\n",
      " 8: -3.5302e-09 -5.6110e-09  1e-08  3e-11  1e-10  6e-09\n",
      "Optimal solution found.\n",
      "[ 6.29e-11]\n",
      "[-4.87e-11]\n",
      " 3.5302062829241756e-09\n"
     ]
    }
   ],
   "source": [
    "# (iv)\n",
    "# max 5x1 + 6x2\n",
    "# 3x1 − x2 ≤ 12\n",
    "# 7x1 + 11x2 ≤ 88\n",
    "# x1, x2 ≥ 0\n",
    "\n",
    "# min w = 12y1 + 88y2\n",
    "# 3y1 + 7y2 >= 5\n",
    "# -y1 + 11y2 >= 6\n",
    "# y1, y2 ≥ 0\n",
    "\n",
    "c = np.array([12, 88])\n",
    "A = np.array([[3, 7], [-1, 11], [-1, 0], [0, -1]])  \n",
    "b = np.array([5, 6, 0, 0])\n",
    "\n",
    "sol = cp.solvers.lp(cp.matrix(c,tc='d'), cp.matrix(A,tc='d'),cp.matrix(b,tc='d'))\n",
    "print(sol['x'],sol['primal objective']*-1)"
   ]
  },
  {
   "cell_type": "code",
   "execution_count": null,
   "metadata": {},
   "outputs": [],
   "source": []
  }
 ],
 "metadata": {
  "kernelspec": {
   "display_name": "Python 3.7.8 64-bit",
   "language": "python",
   "name": "python3"
  },
  "language_info": {
   "codemirror_mode": {
    "name": "ipython",
    "version": 3
   },
   "file_extension": ".py",
   "mimetype": "text/x-python",
   "name": "python",
   "nbconvert_exporter": "python",
   "pygments_lexer": "ipython3",
   "version": "3.7.8"
  },
  "orig_nbformat": 4,
  "vscode": {
   "interpreter": {
    "hash": "944b8a8c947819cdcd92dbaefd7d7c651f3b60be70c70fd1986d9bc9e4beb4c9"
   }
  }
 },
 "nbformat": 4,
 "nbformat_minor": 2
}
