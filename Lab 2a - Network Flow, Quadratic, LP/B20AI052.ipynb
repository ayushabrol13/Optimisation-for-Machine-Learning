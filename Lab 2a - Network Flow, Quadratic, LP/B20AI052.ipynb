{
 "cells": [
  {
   "cell_type": "markdown",
   "metadata": {},
   "source": [
    "# Optimisation in Machine Learning"
   ]
  },
  {
   "cell_type": "markdown",
   "metadata": {},
   "source": [
    "## Lab Assignment 2a\n",
    "\n",
    "    Ayush Abrol B20AI052\n",
    "\n",
    "---"
   ]
  },
  {
   "cell_type": "markdown",
   "metadata": {},
   "source": [
    "### Question 1"
   ]
  },
  {
   "cell_type": "code",
   "execution_count": 7,
   "metadata": {},
   "outputs": [],
   "source": [
    "import numpy as np\n",
    "import pandas as pd\n",
    "import matplotlib.pyplot as plt\n",
    "import cvxopt as cp\n",
    "import cvxpy as cvx"
   ]
  },
  {
   "cell_type": "code",
   "execution_count": 2,
   "metadata": {},
   "outputs": [
    {
     "name": "stdout",
     "output_type": "stream",
     "text": [
      "     pcost       dcost       gap    pres   dres   k/t\n",
      " 0:  8.6250e+01  8.6250e+01  2e+01  0e+00  2e-01  1e+00\n",
      "Terminated (singular KKT matrix).\n",
      "[ 2.50e-01]\n",
      "[ 2.50e-01]\n",
      "[ 2.50e-01]\n",
      "[ 2.50e-01]\n",
      "[ 2.50e-01]\n",
      "[ 2.50e-01]\n",
      "[ 2.50e-01]\n",
      "[ 2.50e-01]\n",
      "[ 2.50e-01]\n",
      "[ 2.50e-01]\n",
      "[ 2.50e-01]\n",
      "[ 2.50e-01]\n",
      "[ 2.50e-01]\n",
      "[ 2.50e-01]\n",
      "[ 2.50e-01]\n",
      "[ 2.50e-01]\n",
      " 86.25\n",
      "Minimum value of objective function is : 86.25\n"
     ]
    }
   ],
   "source": [
    "c = np.array([20,25,22,28,15,18,23,17,19,17,21,24,25,23,24,24])\n",
    "b = np.zeros((16, 1))\n",
    "A = np.negative(np.identity(16,dtype='int'))\n",
    "beq = np.array([[1],[1],[1],[1],[-1],[-1],[-1],[-1]])\n",
    "Aeq = np.array([[1,0,0,0,1,0,0,0,1,0,0,0,1,0,0,0],\n",
    "                [0,1,0,0,0,1,0,0,0,1,0,0,0,1,0,0],\n",
    "                [0,0,1,0,0,0,1,0,0,0,1,0,0,0,1,0],\n",
    "                [0,0,0,1,0,0,0,1,0,0,0,1,0,0,0,1],\n",
    "                [-1,-1,-1,-1,0,0,0,0,0,0,0,0,0,0,0,0],\n",
    "                [0,0,0,0,-1,-1,-1,-1,0,0,0,0,0,0,0,0],\n",
    "                [0,0,0,0,0,0,0,0,-1,-1,-1,-1,0,0,0,0],\n",
    "                [0,0,0,0,0,0,0,0,0,0,0,0,-1,-1,-1,-1]])\n",
    "\n",
    "sol =cp.solvers.lp(cp.matrix(c,tc='d'),cp.matrix(A,tc='d'),cp.matrix(b,tc='d'), cp.matrix(Aeq,tc='d'),cp.matrix(beq,tc='d'))\n",
    "print(sol['x'],sol['primal objective'])\n",
    "print(\"Minimum value of objective function is :\",sol['primal objective'])"
   ]
  },
  {
   "cell_type": "markdown",
   "metadata": {},
   "source": [
    "### Question 2"
   ]
  },
  {
   "cell_type": "code",
   "execution_count": 3,
   "metadata": {},
   "outputs": [
    {
     "name": "stdout",
     "output_type": "stream",
     "text": [
      "     pcost       dcost       gap    pres   dres   k/t\n",
      " 0:  3.9628e+01 -6.9267e+01  3e+02  8e-01  1e+00  1e+00\n",
      " 1: -1.7028e+01 -4.4360e+01  8e+01  2e-01  3e-01  4e+00\n",
      " 2: -2.3828e+01 -2.6997e+01  7e+00  3e-02  3e-02  4e-01\n",
      " 3: -2.4458e+01 -2.4968e+01  1e+00  4e-03  5e-03  9e-02\n",
      " 4: -2.4783e+01 -2.4824e+01  1e-01  3e-04  4e-04  9e-03\n",
      " 5: -2.4800e+01 -2.4800e+01  1e-03  4e-06  4e-06  9e-05\n",
      " 6: -2.4800e+01 -2.4800e+01  1e-05  4e-08  4e-08  9e-07\n",
      "Optimal solution found.\n",
      "[-1.76e-08]\n",
      "[ 1.20e+01]\n",
      "[ 4.00e+00]\n",
      "[ 4.00e+00]\n",
      "[ 1.20e+01]\n",
      "[ 5.04e-07]\n",
      "[ 4.28e-07]\n",
      " -24.799998312669278\n"
     ]
    }
   ],
   "source": [
    "A = np.array([[1,1,0,0,0,0,0],\n",
    "            [1,0,1,-1,0,0,0],\n",
    "            [0,1,0,0,-1,-1,0],\n",
    "            [0,0,0,1,0,0,-1],\n",
    "            [0,0,-1,0,1,0,1],\n",
    "            [-1,0,0,0,0,0,0],\n",
    "            [0,-1,0,0,0,0,0],\n",
    "            [0,0,-1,0,0,0,0],\n",
    "            [0,0,0,-1,0,0,0],\n",
    "            [0,0,0,0,-1,0,0],\n",
    "            [0,0,0,0,0,-1,0],\n",
    "            [0,0,0,0,0,0,-1]])\n",
    "\n",
    "c = np.array([[9.2],[-6.0],[-1.3],[4.1],[3.0],[8.0],[-2.1]])\n",
    "\n",
    "b = np.array([[12],[0],[0],[4],[8],[0],[0],[0],[0],[0],[0],[0]])\n",
    "\n",
    "sol = cp.solvers.lp(cp.matrix(c,tc='d'), cp.matrix(A,tc='d'),cp.matrix(b,tc='d'))\n",
    "print(sol['x'],sol['primal objective'])"
   ]
  },
  {
   "cell_type": "markdown",
   "metadata": {},
   "source": [
    "### Question 3"
   ]
  },
  {
   "cell_type": "code",
   "execution_count": 9,
   "metadata": {},
   "outputs": [],
   "source": [
    "x1 = cvx.Variable(shape=(2,1), name = 'x')\n",
    "A1 = np.array([2,3])\n",
    "B1 = np.array([4])\n",
    "r1 = np.array([1,6])\n",
    "P1 = np.array([[6,2],[2,2]])"
   ]
  },
  {
   "cell_type": "code",
   "execution_count": 10,
   "metadata": {},
   "outputs": [],
   "source": [
    "constraints1 = [cvx.matmul(A1,x1) >= B1, x1>=0]\n",
    "objective1 = cvx.Minimize((1/2)*cvx.quad_form(x1,P1)+cvx.matmul(r1,x1)+2)\n",
    "problem1 = cvx.Problem(objective1,constraints1)\n",
    "solution = problem1.solve()"
   ]
  },
  {
   "cell_type": "code",
   "execution_count": 11,
   "metadata": {},
   "outputs": [
    {
     "name": "stdout",
     "output_type": "stream",
     "text": [
      "11.25\n",
      "[[0.5]\n",
      " [1. ]]\n"
     ]
    }
   ],
   "source": [
    "print(solution)\n",
    "print(x1.value)"
   ]
  },
  {
   "cell_type": "markdown",
   "metadata": {},
   "source": [
    "### Question 4"
   ]
  },
  {
   "cell_type": "code",
   "execution_count": 12,
   "metadata": {},
   "outputs": [],
   "source": [
    "x2 = cvx.Variable(shape=(2,1), name = 'x')\n",
    "A2 = np.array([[1,1],[2,1]])\n",
    "B2 = np.array([[2],[3]])\n",
    "r2 = np.array([2,3])\n",
    "P2 = np.array([[-2,0],[0,-2]])"
   ]
  },
  {
   "cell_type": "code",
   "execution_count": 13,
   "metadata": {},
   "outputs": [],
   "source": [
    "constraints2 = [cvx.matmul(A2,x2) <= B2, x2>=0]\n",
    "objective2 = cvx.Maximize((1/2)*cvx.quad_form(x2,P2)+cvx.matmul(r2,x2))\n",
    "problem2 = cvx.Problem(objective2,constraints2)\n",
    "solution = problem2.solve()"
   ]
  },
  {
   "cell_type": "code",
   "execution_count": 14,
   "metadata": {},
   "outputs": [
    {
     "name": "stdout",
     "output_type": "stream",
     "text": [
      "3.125\n",
      "[[0.75]\n",
      " [1.25]]\n"
     ]
    }
   ],
   "source": [
    "print(solution)\n",
    "print(x2.value)"
   ]
  },
  {
   "cell_type": "markdown",
   "metadata": {},
   "source": [
    "---"
   ]
  }
 ],
 "metadata": {
  "kernelspec": {
   "display_name": "Python 3.7.8 64-bit",
   "language": "python",
   "name": "python3"
  },
  "language_info": {
   "codemirror_mode": {
    "name": "ipython",
    "version": 3
   },
   "file_extension": ".py",
   "mimetype": "text/x-python",
   "name": "python",
   "nbconvert_exporter": "python",
   "pygments_lexer": "ipython3",
   "version": "3.7.8"
  },
  "orig_nbformat": 4,
  "vscode": {
   "interpreter": {
    "hash": "944b8a8c947819cdcd92dbaefd7d7c651f3b60be70c70fd1986d9bc9e4beb4c9"
   }
  }
 },
 "nbformat": 4,
 "nbformat_minor": 2
}
